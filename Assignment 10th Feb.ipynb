{
 "cells": [
  {
   "cell_type": "markdown",
   "id": "ae5dc13d-8602-4faf-8bf2-9030a779a80b",
   "metadata": {},
   "source": [
    "Q1, Create a vehicle class with an init method having instance variables as name_of_vehicle, max_speed\n",
    "and average_of_vehicle."
   ]
  },
  {
   "cell_type": "code",
   "execution_count": 11,
   "id": "6a02d36c-4c42-42cd-985d-6f0276d32ffb",
   "metadata": {},
   "outputs": [
    {
     "name": "stdout",
     "output_type": "stream",
     "text": [
      "Vehicle Details :    Name = Mercedes\tMax Speed=150\tAverage=20\n"
     ]
    }
   ],
   "source": [
    "class vehicle:\n",
    "    def __init__(self,name_of_vehicle,max_speed,average_of_vehicle):\n",
    "        self.name_of_vehicle=name_of_vehicle\n",
    "        self.max_speed=max_speed\n",
    "        self.average_of_vehicle=average_of_vehicle\n",
    "    def details(self):\n",
    "        print(f\"Vehicle Details :    Name = {self.name_of_vehicle}\\tMax Speed={self.max_speed}\\tAverage={self.average_of_vehicle}\")\n",
    "        \n",
    "car=vehicle(\"Mercedes\",150,20)\n",
    "car.details()"
   ]
  },
  {
   "cell_type": "markdown",
   "id": "b2d6361c-89f9-44a2-99b2-fa91eeb106a5",
   "metadata": {},
   "source": [
    "Q2. Create a child class car from the vehicle class created in Que 1, which will inherit the vehicle class.\n",
    "Create a method named seating_capacity which takes capacity as an argument and returns the name of\n",
    "the vehicle and its seating capacity."
   ]
  },
  {
   "cell_type": "code",
   "execution_count": 30,
   "id": "3d20558b-d851-4b0c-af09-76003c8409d1",
   "metadata": {},
   "outputs": [
    {
     "name": "stdout",
     "output_type": "stream",
     "text": [
      "Name = Audi\tSeating Capacity = 4\n"
     ]
    }
   ],
   "source": [
    "class child_car(vehicle):\n",
    "    def seating_capacity(self,seats):\n",
    "        print(f\"Name = {self.name_of_vehicle}\\tSeating Capacity = {seats}\")\n",
    "        \n",
    "obj=child_car(\"Audi\",170,25)\n",
    "obj.seating_capacity(4)"
   ]
  },
  {
   "cell_type": "markdown",
   "id": "adb1ae54-5e68-410c-984c-b9e790438fcc",
   "metadata": {},
   "source": [
    "Q3. What is multiple inheritance? Write a python code to demonstrate multiple inheritance."
   ]
  },
  {
   "cell_type": "markdown",
   "id": "14e2c004-3753-4fe2-8a98-0d323c6d4e5d",
   "metadata": {},
   "source": [
    "1.Multiple Inheritance is Inheritance where there are more than one parents and one child\n",
    "\n",
    "2.We can access properties of both parents throught that child \n",
    "\n",
    "3.That single child inherits properties of both parents\n",
    "\n",
    "4.As a example we can think of A Child has propery of both father(Dad) and mother(Mom) "
   ]
  },
  {
   "cell_type": "code",
   "execution_count": 38,
   "id": "5137bacd-77af-49d6-a5ac-1780bfcbee2b",
   "metadata": {},
   "outputs": [
    {
     "name": "stdout",
     "output_type": "stream",
     "text": [
      "I have Talent\n",
      "I am Hardworking\n",
      "I love everyone\n",
      "I am kind\n",
      "I am child of my Mom and Dad\n"
     ]
    }
   ],
   "source": [
    "class dad:\n",
    "    def talent(self):\n",
    "        print(\"I have Talent\")\n",
    "    def hardwork(self):\n",
    "        print(\"I am Hardworking\")\n",
    "\n",
    "class mom:\n",
    "    def love(self):\n",
    "        print(\"I love everyone\")\n",
    "    def kind(self):\n",
    "        print(\"I am kind\")\n",
    "        \n",
    "        \n",
    "class child(dad,mom):\n",
    "    def myself(self):\n",
    "        print(\"I am child of my Mom and Dad\")\n",
    "        \n",
    "i=child()\n",
    "i.talent()\n",
    "i.hardwork()\n",
    "i.love()\n",
    "i.kind()\n",
    "i.myself()"
   ]
  },
  {
   "cell_type": "markdown",
   "id": "7de92e8a-55e6-4fb4-b3c3-2a55cc98448d",
   "metadata": {},
   "source": [
    "Q4. What are getter and setter in python? Create a class and create a getter and a setter method in this\n",
    "class."
   ]
  },
  {
   "cell_type": "code",
   "execution_count": 47,
   "id": "f8bc6880-9f0b-4758-9b74-a82e6bdc51b0",
   "metadata": {},
   "outputs": [
    {
     "data": {
      "text/plain": [
       "'Name = Audi , Speed = 170'"
      ]
     },
     "execution_count": 47,
     "metadata": {},
     "output_type": "execute_result"
    }
   ],
   "source": [
    "class car:\n",
    "    def __init__(self,name,speed):\n",
    "        self.name=name\n",
    "        self.speed=speed\n",
    "    def get(self):\n",
    "        return(f\"Name = {self.name} , Speed = {self.speed}\")\n",
    "    def setname(self,name):\n",
    "        self.name=name\n",
    "    def setspeed(self,speed):\n",
    "        self.speed=speed\n",
    "c=car(\"Mercedes\",150)\n",
    "c.get()\n",
    "c.setname(\"Audi\")\n",
    "c.get()\n",
    "c.setspeed(170)\n",
    "c.get()"
   ]
  },
  {
   "cell_type": "markdown",
   "id": "742f77ae-f516-4231-86fc-f2c76893311a",
   "metadata": {},
   "source": [
    "Q5.What is method overriding in python? Write a python code to demonstrate method overriding."
   ]
  },
  {
   "cell_type": "markdown",
   "id": "8d744771-a3e1-4854-89db-140e122230be",
   "metadata": {},
   "source": [
    "Method overriding is when we have same method in super class and sub class or parent class and child class"
   ]
  },
  {
   "cell_type": "code",
   "execution_count": 50,
   "id": "7f69307e-13ec-4080-9d72-c7b3b512c0d6",
   "metadata": {},
   "outputs": [
    {
     "name": "stdout",
     "output_type": "stream",
     "text": [
      "I am super class\n",
      "I am sub class\n"
     ]
    }
   ],
   "source": [
    "class superclass:\n",
    "    def func(self):\n",
    "        print(\"I am super class\")\n",
    "        \n",
    "class subclass(superclass):\n",
    "    def func(self):\n",
    "        print(\"I am sub class\")\n",
    "        \n",
    "sup=superclass()\n",
    "sub=subclass()\n",
    "sup.func()\n",
    "sub.func()"
   ]
  },
  {
   "cell_type": "code",
   "execution_count": null,
   "id": "12492f1e-84ed-433b-a778-34ba292a052e",
   "metadata": {},
   "outputs": [],
   "source": []
  }
 ],
 "metadata": {
  "kernelspec": {
   "display_name": "Python 3 (ipykernel)",
   "language": "python",
   "name": "python3"
  },
  "language_info": {
   "codemirror_mode": {
    "name": "ipython",
    "version": 3
   },
   "file_extension": ".py",
   "mimetype": "text/x-python",
   "name": "python",
   "nbconvert_exporter": "python",
   "pygments_lexer": "ipython3",
   "version": "3.10.8"
  }
 },
 "nbformat": 4,
 "nbformat_minor": 5
}
