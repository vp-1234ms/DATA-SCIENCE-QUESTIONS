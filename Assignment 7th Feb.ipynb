{
 "cells": [
  {
   "cell_type": "markdown",
   "id": "932149c1-e3a8-4cbf-b0cf-eb66bff7e83a",
   "metadata": {},
   "source": [
    "\"\"\"Q1. You are writing code for a company. The requirement of the company is that you create a python function that will check whether the password entered by the user is correct or not. The function should take the password as input and return the string “Valid Password” if the entered password follows the below-given password guidelines else it should return “Invalid Password”.\n",
    "Note: 1. The Password should contain at least two uppercase letters and at least two lowercase letters.\n",
    "2. The Password should contain at least a number and three special characters.\n",
    "3. The length of the password should be 10 characters long.\n",
    "\"\"\""
   ]
  },
  {
   "cell_type": "code",
   "execution_count": 2,
   "id": "c65a5e4e-e412-4ae9-b46d-f0f7bc26ca33",
   "metadata": {},
   "outputs": [
    {
     "name": "stdin",
     "output_type": "stream",
     "text": [
      "Enter Password :  ghjnk\n"
     ]
    }
   ],
   "source": [
    "password=input(\"Enter Password : \")\n"
   ]
  },
  {
   "cell_type": "code",
   "execution_count": 11,
   "id": "3b35d7ac-43be-4f96-a801-b2bb191f28e2",
   "metadata": {},
   "outputs": [
    {
     "name": "stdin",
     "output_type": "stream",
     "text": [
      "Enter Password :  AsWe!@#541\n"
     ]
    },
    {
     "name": "stdout",
     "output_type": "stream",
     "text": [
      "Valid Password\n"
     ]
    }
   ],
   "source": [
    "def checker(password):\n",
    "    if(len(password)==10):\n",
    "        count1=0\n",
    "        count2=0\n",
    "        for i in password:\n",
    "            if(i.isupper()):\n",
    "                count1+=1\n",
    "            elif(i.islower()):\n",
    "                count2+=1\n",
    "        if(count1>=2 and count2>=2):\n",
    "            count1=0\n",
    "            count2=0\n",
    "            for i in password:\n",
    "                if(i.isdigit()):\n",
    "                    count1+=1\n",
    "                elif(i.isalnum()==False):\n",
    "                    count2+=1\n",
    "            if(count1>=1 and count2==3):\n",
    "                return True\n",
    "    return False\n",
    "\n",
    "password=input(\"Enter Password : \")\n",
    "if checker(password):\n",
    "    print(\"Valid Password\")\n",
    "else:\n",
    "    print(\"Invalid Password\")"
   ]
  },
  {
   "cell_type": "markdown",
   "id": "2af72a41-ceec-4f56-a556-4419d31f28b2",
   "metadata": {},
   "source": [
    "Q2. Solve the below-given questions using at least one of the following:\n",
    "1. Lambda function\n",
    "2. Filter function\n",
    "3. Map function\n",
    "4. List Comprehension\n",
    "\n",
    "Check if the string starts with a particular letter\n",
    "\n",
    "Check if the string is numeric\n",
    "\n",
    "Sort a list of tuples having fruit names and their quantity. [(\"mango\",99),(\"orange\",80), (\"grapes\", 1000)]\n",
    "\n",
    "Find the squares of numbers from 1 to 10\n",
    "\n",
    "Find the cube root of numbers from 1 to 10\n",
    "\n",
    "Check if a given number is even\n",
    "\n",
    "Filter odd numbers from the given list.\n",
    "[1,2,3,4,5,6,7,8,9,10]\n",
    "\n",
    "B Sort a list of integers into positive and negative integers lists.\n",
    "[1,2,3,4,5,6,-1,-2,-3,-4,-5,0]"
   ]
  },
  {
   "cell_type": "code",
   "execution_count": 19,
   "id": "60ff93bc-14c7-4d1b-b2b2-568ac623a2e0",
   "metadata": {},
   "outputs": [
    {
     "data": {
      "text/plain": [
       "True"
      ]
     },
     "execution_count": 19,
     "metadata": {},
     "output_type": "execute_result"
    }
   ],
   "source": [
    "string=\"as12\"\n",
    "b=lambda a:(a.isalpha())\n",
    "b(string[0])"
   ]
  },
  {
   "cell_type": "code",
   "execution_count": 20,
   "id": "5fb940dc-0bf8-4eb7-bf93-3771b3d71747",
   "metadata": {},
   "outputs": [
    {
     "data": {
      "text/plain": [
       "False"
      ]
     },
     "execution_count": 20,
     "metadata": {},
     "output_type": "execute_result"
    }
   ],
   "source": [
    "string=\"as12\"\n",
    "b=lambda a:(a.isdigit())\n",
    "b(string)"
   ]
  },
  {
   "cell_type": "code",
   "execution_count": 43,
   "id": "71dd2858-2554-4f33-9fa4-4ac64a60542b",
   "metadata": {},
   "outputs": [
    {
     "ename": "TypeError",
     "evalue": "'int' object is not subscriptable",
     "output_type": "error",
     "traceback": [
      "\u001b[0;31m---------------------------------------------------------------------------\u001b[0m",
      "\u001b[0;31mTypeError\u001b[0m                                 Traceback (most recent call last)",
      "Cell \u001b[0;32mIn[43], line 8\u001b[0m\n\u001b[1;32m      5\u001b[0m         \u001b[38;5;28;01mreturn\u001b[39;00m b[\u001b[38;5;241m1\u001b[39m]\n\u001b[1;32m      6\u001b[0m     \u001b[38;5;28;01mreturn\u001b[39;00m a[\u001b[38;5;241m1\u001b[39m]\n\u001b[0;32m----> 8\u001b[0m \u001b[38;5;28mlist\u001b[39m(\u001b[43mreduce\u001b[49m\u001b[43m(\u001b[49m\u001b[38;5;28;43;01mlambda\u001b[39;49;00m\u001b[43m \u001b[49m\u001b[43ma\u001b[49m\u001b[43m,\u001b[49m\u001b[43mb\u001b[49m\u001b[43m:\u001b[49m\u001b[43mfunc\u001b[49m\u001b[43m(\u001b[49m\u001b[43ma\u001b[49m\u001b[43m,\u001b[49m\u001b[43mb\u001b[49m\u001b[43m)\u001b[49m\u001b[43m,\u001b[49m\u001b[43ml\u001b[49m\u001b[43m)\u001b[49m)\n",
      "Cell \u001b[0;32mIn[43], line 8\u001b[0m, in \u001b[0;36m<lambda>\u001b[0;34m(a, b)\u001b[0m\n\u001b[1;32m      5\u001b[0m         \u001b[38;5;28;01mreturn\u001b[39;00m b[\u001b[38;5;241m1\u001b[39m]\n\u001b[1;32m      6\u001b[0m     \u001b[38;5;28;01mreturn\u001b[39;00m a[\u001b[38;5;241m1\u001b[39m]\n\u001b[0;32m----> 8\u001b[0m \u001b[38;5;28mlist\u001b[39m(reduce(\u001b[38;5;28;01mlambda\u001b[39;00m a,b:\u001b[43mfunc\u001b[49m\u001b[43m(\u001b[49m\u001b[43ma\u001b[49m\u001b[43m,\u001b[49m\u001b[43mb\u001b[49m\u001b[43m)\u001b[49m,l))\n",
      "Cell \u001b[0;32mIn[43], line 4\u001b[0m, in \u001b[0;36mfunc\u001b[0;34m(a, b)\u001b[0m\n\u001b[1;32m      3\u001b[0m \u001b[38;5;28;01mdef\u001b[39;00m \u001b[38;5;21mfunc\u001b[39m(a,b):\n\u001b[0;32m----> 4\u001b[0m     \u001b[38;5;28;01mif\u001b[39;00m(\u001b[43ma\u001b[49m\u001b[43m[\u001b[49m\u001b[38;5;241;43m1\u001b[39;49m\u001b[43m]\u001b[49m\u001b[38;5;241m>\u001b[39mb[\u001b[38;5;241m1\u001b[39m]):\n\u001b[1;32m      5\u001b[0m         \u001b[38;5;28;01mreturn\u001b[39;00m b[\u001b[38;5;241m1\u001b[39m]\n\u001b[1;32m      6\u001b[0m     \u001b[38;5;28;01mreturn\u001b[39;00m a[\u001b[38;5;241m1\u001b[39m]\n",
      "\u001b[0;31mTypeError\u001b[0m: 'int' object is not subscriptable"
     ]
    }
   ],
   "source": [
    "from functools import reduce\n",
    "l=[(\"mango\",99),(\"orange\",80), (\"grapes\", 1000)]\n",
    "def func(a,b):\n",
    "    if(a[1]>b[1]):\n",
    "        return b[1]\n",
    "    return a[1]\n",
    "\n",
    "list(reduce(lambda a,b:func(a,b),l))"
   ]
  },
  {
   "cell_type": "code",
   "execution_count": 36,
   "id": "773e0119-8577-4aca-b8a7-1bfb824bedc3",
   "metadata": {},
   "outputs": [
    {
     "data": {
      "text/plain": [
       "[1, 4, 9, 16, 25, 36, 49, 64, 81, 100]"
      ]
     },
     "execution_count": 36,
     "metadata": {},
     "output_type": "execute_result"
    }
   ],
   "source": [
    "list(map(lambda x:x**2,[i for i in range(1,11)]))"
   ]
  },
  {
   "cell_type": "code",
   "execution_count": 37,
   "id": "65597288-dab3-40e3-8ed5-75beb3ea77e5",
   "metadata": {},
   "outputs": [
    {
     "data": {
      "text/plain": [
       "[1.0,\n",
       " 1.2599210498948734,\n",
       " 1.4422495703074083,\n",
       " 1.5874010519681996,\n",
       " 1.7099759466766968,\n",
       " 1.8171205928321394,\n",
       " 1.9129311827723894,\n",
       " 2.0,\n",
       " 2.080083823051904,\n",
       " 2.1544346900318834]"
      ]
     },
     "execution_count": 37,
     "metadata": {},
     "output_type": "execute_result"
    }
   ],
   "source": [
    "import numpy as np\n",
    "list(map(lambda x:np.cbrt(x),[i for i in range(1,11)]))"
   ]
  },
  {
   "cell_type": "code",
   "execution_count": 41,
   "id": "dbec1ac3-f9a2-439f-8758-b76f5fc5c240",
   "metadata": {},
   "outputs": [
    {
     "data": {
      "text/plain": [
       "True"
      ]
     },
     "execution_count": 41,
     "metadata": {},
     "output_type": "execute_result"
    }
   ],
   "source": [
    "iseven=lambda a:a%2==0\n",
    "iseven(5276)"
   ]
  },
  {
   "cell_type": "code",
   "execution_count": 42,
   "id": "12691c08-ab59-442e-bd79-9a6189bc96f9",
   "metadata": {},
   "outputs": [
    {
     "data": {
      "text/plain": [
       "[1, 3, 5, 7, 9]"
      ]
     },
     "execution_count": 42,
     "metadata": {},
     "output_type": "execute_result"
    }
   ],
   "source": [
    "lst=[1,2,3,4,5,6,7,8,9,10]\n",
    "list(filter(lambda x:x%2!=0,lst))"
   ]
  },
  {
   "cell_type": "code",
   "execution_count": 3,
   "id": "78b791bc-95ce-43c6-89ee-e7aff58a6a25",
   "metadata": {},
   "outputs": [
    {
     "data": {
      "text/plain": [
       "[[1, 2, 3, 4, 5, 6], [-1, -2, -3, -4, -5]]"
      ]
     },
     "execution_count": 3,
     "metadata": {},
     "output_type": "execute_result"
    }
   ],
   "source": [
    "lst=[1,2,3,4,5,6,-1,-2,-3,-4,-5,0]\n",
    "l1=list(filter(lambda x:x>0,lst))\n",
    "l2=list(filter(lambda x:x<0,lst))\n",
    "l=[]\n",
    "l.append(l1)\n",
    "l.append(l2)\n",
    "l"
   ]
  },
  {
   "cell_type": "code",
   "execution_count": null,
   "id": "57281260-c1cb-4d7d-9a5f-6963d35c56e4",
   "metadata": {},
   "outputs": [],
   "source": []
  }
 ],
 "metadata": {
  "kernelspec": {
   "display_name": "Python 3 (ipykernel)",
   "language": "python",
   "name": "python3"
  },
  "language_info": {
   "codemirror_mode": {
    "name": "ipython",
    "version": 3
   },
   "file_extension": ".py",
   "mimetype": "text/x-python",
   "name": "python",
   "nbconvert_exporter": "python",
   "pygments_lexer": "ipython3",
   "version": "3.10.8"
  }
 },
 "nbformat": 4,
 "nbformat_minor": 5
}
