{
 "cells": [
  {
   "cell_type": "markdown",
   "id": "67175e8b-89a0-4c19-93cb-ef646134abd5",
   "metadata": {},
   "source": [
    "Q1: What is Estimation Statistics? Explain point estimate and interval estimate."
   ]
  },
  {
   "cell_type": "code",
   "execution_count": 1,
   "id": "f4386c12-efea-4013-a344-2fcb76877394",
   "metadata": {},
   "outputs": [],
   "source": [
    "#Estimation is basically guess of a parameter from sample data to popuation data\n",
    "#We try to find value of parameter depending on sample data and then try to give estimation\n",
    "#Point estimation is exact value we get from sample data this might contain +- error\n",
    "#Interval estimate is basically confidence interval where we state value can lye between given interval"
   ]
  },
  {
   "cell_type": "markdown",
   "id": "00b791ba-aaa5-4a7c-9be8-3aa7141d6678",
   "metadata": {},
   "source": [
    "Q2. Write a Python function to estimate the population mean using a sample mean and standard\n",
    "deviation."
   ]
  },
  {
   "cell_type": "code",
   "execution_count": 2,
   "id": "81407b8f-672e-45d0-b16f-ae0c2c470f27",
   "metadata": {},
   "outputs": [
    {
     "name": "stdout",
     "output_type": "stream",
     "text": [
      "Population mean estimate: 10.00 with a 95% confidence interval of (9.61, 10.39)\n"
     ]
    }
   ],
   "source": [
    "def estimate_population_mean(sample_mean, sample_std, sample_size):\n",
    "    import math\n",
    "    standard_error = sample_std / math.sqrt(sample_size)\n",
    "    margin_of_error = 1.96 * standard_error  # assuming a 95% confidence level\n",
    "    lower_bound = sample_mean - margin_of_error\n",
    "    upper_bound = sample_mean + margin_of_error\n",
    "    return (lower_bound, upper_bound)\n",
    "# example usage\n",
    "sample_mean = 10\n",
    "sample_std = 2\n",
    "sample_size = 100\n",
    "lower_bound, upper_bound = estimate_population_mean(sample_mean, sample_std, sample_size)\n",
    "\n",
    "# output the estimate with 95% confidence interval\n",
    "print(f\"Population mean estimate: {sample_mean:.2f} with a 95% confidence interval of ({lower_bound:.2f}, {upper_bound:.2f})\")\n"
   ]
  },
  {
   "cell_type": "markdown",
   "id": "ebec216d-7c55-4c7c-ac7d-60ff9fdc1c61",
   "metadata": {},
   "source": [
    "Q3: What is Hypothesis testing? Why is it used? State the importance of Hypothesis testing."
   ]
  },
  {
   "cell_type": "code",
   "execution_count": 3,
   "id": "18021b69-8324-4219-816f-151cd5dc12e6",
   "metadata": {},
   "outputs": [],
   "source": [
    "#Hypothesis testing is used to test the value got from sample data whether that value lies in given confidence interval of populatiuon data\n",
    "#Hypothesis testing is done using various steps first we define null an dalternate hypothesis then we perform analysis or experiment\n",
    "#using various test like annova t z chi square \n",
    "#then come to final result"
   ]
  },
  {
   "cell_type": "markdown",
   "id": "7c720e1c-b77f-44a5-b376-8167e36d01af",
   "metadata": {},
   "source": [
    "Q4. Create a hypothesis that states whether the average weight of male college students is greater than\n",
    "the average weight of female college students."
   ]
  },
  {
   "cell_type": "code",
   "execution_count": 4,
   "id": "5aa04bbb-b882-4d6d-97b1-7264823b573a",
   "metadata": {},
   "outputs": [],
   "source": [
    "#Null Hypothesis = Average weight of male college students is greater than the average weight of female college students\n",
    "#Alternate Hypothesis = Average weight of male college students is not greater than the average weight of female college students\n",
    "#It is one tailed testing"
   ]
  },
  {
   "cell_type": "markdown",
   "id": "906bbe53-cbe5-4c14-be61-00bbc5409588",
   "metadata": {},
   "source": [
    "Q5. Write a Python script to conduct a hypothesis test on the difference between two population means,\n",
    "given a sample from each population."
   ]
  },
  {
   "cell_type": "code",
   "execution_count": 5,
   "id": "de81ba52-ac99-41a4-a5a2-adeaad69c01b",
   "metadata": {},
   "outputs": [
    {
     "name": "stdout",
     "output_type": "stream",
     "text": [
      "Fail to reject the null hypothesis\n",
      "Sample 1 mean:  7.0\n",
      "Sample 2 mean:  5.0\n",
      "Pooled standard deviation:  3.1622776601683795\n",
      "T-statistic:  1.0\n",
      "P-value:  0.34659350708733416\n"
     ]
    }
   ],
   "source": [
    "import numpy as np\n",
    "from scipy import stats\n",
    "\n",
    "# Define the sample data\n",
    "sample1 = [3, 5, 7, 9, 11]\n",
    "sample2 = [1, 3, 5, 7, 9]\n",
    "\n",
    "# Set the significance level\n",
    "alpha = 0.05\n",
    "\n",
    "# Calculate the sample means and standard deviations\n",
    "mean1 = np.mean(sample1)\n",
    "mean2 = np.mean(sample2)\n",
    "std1 = np.std(sample1, ddof=1)  # ddof=1 to get the unbiased estimate of the population std\n",
    "std2 = np.std(sample2, ddof=1)\n",
    "\n",
    "# Calculate the pooled standard deviation\n",
    "sp = np.sqrt(((len(sample1)-1)*std1**2 + (len(sample2)-1)*std2**2)/(len(sample1)+len(sample2)-2))\n",
    "\n",
    "# Calculate the t-statistic and p-value\n",
    "t_stat = (mean1 - mean2)/(sp * np.sqrt(1/len(sample1) + 1/len(sample2)))\n",
    "p_value = stats.t.sf(np.abs(t_stat), len(sample1)+len(sample2)-2)*2\n",
    "\n",
    "# Determine whether to reject or fail to reject the null hypothesis\n",
    "if p_value < alpha:\n",
    "    print(\"Reject the null hypothesis\")\n",
    "else:\n",
    "    print(\"Fail to reject the null hypothesis\")\n",
    "    \n",
    "# Output the results\n",
    "print(\"Sample 1 mean: \", mean1)\n",
    "print(\"Sample 2 mean: \", mean2)\n",
    "print(\"Pooled standard deviation: \", sp)\n",
    "print(\"T-statistic: \", t_stat)\n",
    "print(\"P-value: \", p_value)\n"
   ]
  },
  {
   "cell_type": "markdown",
   "id": "502f2728-a87b-4e81-89ab-68bd373b63d3",
   "metadata": {},
   "source": [
    "Q6: What is a null and alternative hypothesis? Give some examples."
   ]
  },
  {
   "cell_type": "code",
   "execution_count": 6,
   "id": "956d959f-c4b5-4bde-a751-ecf459253f2a",
   "metadata": {},
   "outputs": [],
   "source": [
    "#In statistics, a null hypothesis (H0) is a statement that there is no significant difference or effect between the populations, groups, or treatments being compared.\n",
    "#The alternative hypothesis (H1 or Ha) is the opposite of the null hypothesis and suggests that there is a significant difference or effect."
   ]
  },
  {
   "cell_type": "markdown",
   "id": "c4aa4cff-25e8-40bf-aaac-4659e643d593",
   "metadata": {},
   "source": [
    "Q7: Write down the steps involved in hypothesis testing."
   ]
  },
  {
   "cell_type": "code",
   "execution_count": 1,
   "id": "cbd5fa42-83a2-41ab-a7f3-bb4ca99ce807",
   "metadata": {},
   "outputs": [],
   "source": [
    "#Hypothesis testing is used to test the value got from sample data whether that value lies in given confidence interval of populatiuon data\n",
    "#Hypothesis testing is done using various steps first we define null an dalternate hypothesis then we perform analysis or experiment\n",
    "#using various test like annova t z chi square \n",
    "#then come to final result"
   ]
  },
  {
   "cell_type": "markdown",
   "id": "07ab72d1-b631-483e-a5cc-229cf491e067",
   "metadata": {},
   "source": [
    "Q8. Define p-value and explain its significance in hypothesis testing"
   ]
  },
  {
   "cell_type": "code",
   "execution_count": 2,
   "id": "fc9b6d56-253c-4ae2-a5ee-446498326feb",
   "metadata": {},
   "outputs": [],
   "source": [
    "#It is used for calculating probablity of event or parameter lying in confidence interval"
   ]
  }
 ],
 "metadata": {
  "kernelspec": {
   "display_name": "Python 3 (ipykernel)",
   "language": "python",
   "name": "python3"
  },
  "language_info": {
   "codemirror_mode": {
    "name": "ipython",
    "version": 3
   },
   "file_extension": ".py",
   "mimetype": "text/x-python",
   "name": "python",
   "nbconvert_exporter": "python",
   "pygments_lexer": "ipython3",
   "version": "3.10.8"
  }
 },
 "nbformat": 4,
 "nbformat_minor": 5
}
