{
 "cells": [
  {
   "cell_type": "markdown",
   "id": "00e30bd7-bce9-445a-ae04-66d650d627ce",
   "metadata": {},
   "source": [
    "Q1: What is the difference between a t-test and a z-test? Provide an example scenario where you would\n",
    "use each type of test."
   ]
  },
  {
   "cell_type": "code",
   "execution_count": 1,
   "id": "2c7f45cb-def9-411a-8aac-2f02773fa2b7",
   "metadata": {},
   "outputs": [],
   "source": [
    "#Ztest and Ttest are both method of Hypothesis Testing\n",
    "#Where we perform experiment ot seee whether derivie valuye of parametr of sample data lies in given confidence interval of population data"
   ]
  },
  {
   "cell_type": "markdown",
   "id": "b53cef3d-7da6-4207-8a7f-1c9ffa56ca25",
   "metadata": {},
   "source": [
    "Q2: Differentiate between one-tailed and two-tailed tests."
   ]
  },
  {
   "cell_type": "code",
   "execution_count": 7,
   "id": "9974fe90-b66d-457b-8206-880770585ddb",
   "metadata": {},
   "outputs": [],
   "source": [
    "#One tailed test is where we see only for less or more condition or one of both condition and consider confidence interval simultaneoulsy\n",
    "#Where as in two tailed test we see both possiblities\n",
    "#One-tailed tests allow for the possibility of an effect in one direction. \n",
    "#Two-tailed tests test for the possibility of an effect in two directions—positive and negative."
   ]
  },
  {
   "cell_type": "markdown",
   "id": "435d2203-f3cf-4b9d-ac98-a2ea3a75337f",
   "metadata": {},
   "source": [
    "Q3: Explain the concept of Type 1 and Type 2 errors in hypothesis testing. Provide an example scenario for\n",
    "each type of error."
   ]
  },
  {
   "cell_type": "code",
   "execution_count": 8,
   "id": "faca0bee-09d9-413a-ac77-eaf5ba0e531d",
   "metadata": {},
   "outputs": [],
   "source": [
    "#A type I error (false-positive) occurs if an investigator rejects a null hypothesis that is actually true in the population; \n",
    "#a type II error (false-negative) occurs if the investigator fails to reject a null hypothesis that is actually false in the population"
   ]
  },
  {
   "cell_type": "markdown",
   "id": "14787be6-748b-49c3-bc21-8093c21e4244",
   "metadata": {},
   "source": [
    "Q4: Explain Bayes's theorem with an example."
   ]
  },
  {
   "cell_type": "code",
   "execution_count": 9,
   "id": "cd6facfb-47f9-45a0-88d6-3686db0fa2f2",
   "metadata": {},
   "outputs": [],
   "source": [
    "#Bayes theorem is also known as the formula for the probability of “causes”. \n",
    "#For example: if we have to calculate the probability of taking a blue ball from the second bag out of three different bags of balls, \n",
    "#where each bag contains three different colour balls viz. red, blue, black."
   ]
  },
  {
   "cell_type": "markdown",
   "id": "9bab6b76-bfa6-4b51-9be0-bdbef92b2b8f",
   "metadata": {},
   "source": [
    "Q5: What is a confidence interval? How to calculate the confidence interval, explain with an example."
   ]
  },
  {
   "cell_type": "code",
   "execution_count": 10,
   "id": "8161e97f-9bcc-4bba-8cf8-4df441dc424d",
   "metadata": {},
   "outputs": [],
   "source": [
    "#A confidence interval is the mean of your estimate plus and minus the variation in that estimate. \n",
    "#This is the range of values you expect your estimate to fall between if you redo your test, within a certain level of confidence. \n",
    "#Confidence, in statistics, is another way to describe probability."
   ]
  },
  {
   "cell_type": "markdown",
   "id": "d586414d-a257-4aa2-993c-b45ca881adf4",
   "metadata": {},
   "source": [
    "Q6. Use Bayes' Theorem to calculate the probability of an event occurring given prior knowledge of the\n",
    "event's probability and new evidence. Provide a sample problem and solution."
   ]
  },
  {
   "cell_type": "code",
   "execution_count": 11,
   "id": "25806ca7-038a-4c34-80b2-c0a48a57f916",
   "metadata": {},
   "outputs": [],
   "source": [
    "#It deals with Independent and Dependent Event in probablity\n",
    "#Like taking out balls from bag each time probablity goes on changing"
   ]
  },
  {
   "cell_type": "markdown",
   "id": "c69015da-db8d-48ad-8eba-f2eca563b306",
   "metadata": {},
   "source": [
    "Q7. Calculate the 95% confidence interval for a sample of data with a mean of 50 and a standard deviation\n",
    "of 5. Interpret the results."
   ]
  },
  {
   "cell_type": "code",
   "execution_count": 15,
   "id": "b43b61ce-82ad-41a1-a952-5476c825de6a",
   "metadata": {},
   "outputs": [],
   "source": [
    "#MEAN=(UPPER BOUND,LOWER BOUND)\n",
    "#UPPER BOUND=(MEAN+STD/ROOT(N))\n",
    "#LOWER BOUND=(MEAN-STD/ROOT(N))\n",
    "#UPPER BOUND = (50+1.96) = 51.96\n",
    "#LOWER BOUND = (50-1.96) = 48.04"
   ]
  },
  {
   "cell_type": "markdown",
   "id": "ddeb3c96-bb99-4496-821d-d14c230c3222",
   "metadata": {},
   "source": [
    "Q8. What is the margin of error in a confidence interval? How does sample size affect the margin of error?\n",
    "Provide an example of a scenario where a larger sample size would result in a smaller margin of error."
   ]
  },
  {
   "cell_type": "code",
   "execution_count": 19,
   "id": "696b1f52-6cf7-428c-a55f-8c904fc6f5db",
   "metadata": {},
   "outputs": [],
   "source": [
    "#MEAN=(UPPER BOUND,LOWER BOUND)\n",
    "#UPPER BOUND=(MEAN+STD/ROOT(N))\n",
    "#LOWER BOUND=(MEAN-STD/ROOT(N))\n",
    "#UPPER BOUND = (50+1.96) = 51.96\n",
    "#LOWER BOUND = (50-1.96) = 48.04\n",
    "#If sample size = 100\n",
    "#UPPER BOUND = (50+0.98) = 50.98\n",
    "#LOWER BOUND = (50-0.98) = 49.02"
   ]
  },
  {
   "cell_type": "markdown",
   "id": "0afd8854-c005-49e3-9a15-142f5a5f1fe7",
   "metadata": {},
   "source": [
    "Q9. Calculate the z-score for a data point with a value of 75, a population mean of 70, and a population\n",
    "standard deviation of 5. Interpret the results."
   ]
  },
  {
   "cell_type": "code",
   "execution_count": 18,
   "id": "507a8ce4-72ec-4e39-b49b-f53c0524eb97",
   "metadata": {},
   "outputs": [],
   "source": [
    "#Zscore=75-70/5=1"
   ]
  },
  {
   "cell_type": "markdown",
   "id": "e2e6a08d-59e2-4259-bef5-c47199ece94f",
   "metadata": {},
   "source": [
    "Q10. In a study of the effectiveness of a new weight loss drug, a sample of 50 participants lost an average\n",
    "of 6 pounds with a standard deviation of 2.5 pounds. Conduct a hypothesis test to determine if the drug is\n",
    "significantly effective at a 95% confidence level using a t-test."
   ]
  },
  {
   "cell_type": "code",
   "execution_count": 20,
   "id": "ce165f78-7d0d-4955-827f-1b4f032a4923",
   "metadata": {},
   "outputs": [],
   "source": [
    "#LOWER BOUND=(MEAN-STD/ROOT(N))\n",
    "#UPPER BOUND = (50+1.96) = 51.96\n",
    "#LOWER BOUND = (50-1.96) = 48.04\n",
    "#If sample size = 100\n",
    "#UPPER BOUND = (50+0.98) = 50.98\n",
    "#LOWER BOUND = (50-0.98) = 49.02"
   ]
  },
  {
   "cell_type": "code",
   "execution_count": null,
   "id": "dbbada9c-4166-4116-a68c-d2adf9d39b7e",
   "metadata": {},
   "outputs": [],
   "source": []
  }
 ],
 "metadata": {
  "kernelspec": {
   "display_name": "Python 3 (ipykernel)",
   "language": "python",
   "name": "python3"
  },
  "language_info": {
   "codemirror_mode": {
    "name": "ipython",
    "version": 3
   },
   "file_extension": ".py",
   "mimetype": "text/x-python",
   "name": "python",
   "nbconvert_exporter": "python",
   "pygments_lexer": "ipython3",
   "version": "3.10.8"
  }
 },
 "nbformat": 4,
 "nbformat_minor": 5
}
