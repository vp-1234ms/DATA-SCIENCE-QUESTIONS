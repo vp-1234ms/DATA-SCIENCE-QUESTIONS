{
 "cells": [
  {
   "cell_type": "code",
   "execution_count": 1,
   "id": "3e4a53e1-7bfe-4375-b924-ecb94b290886",
   "metadata": {},
   "outputs": [
    {
     "data": {
      "text/plain": [
       "(123456789, 123456789, 'vl2134rl')"
      ]
     },
     "execution_count": 1,
     "metadata": {},
     "output_type": "execute_result"
    }
   ],
   "source": [
    "class pwskills1:\n",
    "    def __init__(self,phone_number,email_id,student_id):     \n",
    "        self.phone_number=phone_number          #Here LHS is our attribute class tries to understand the LHS side\n",
    "        self.email_id=email_id\n",
    "        self.student_id=student_id\n",
    "    def return_student_details(self):\n",
    "        return (self.phone_number,self.phone_number,self.student_id)\n",
    "#Here init is constructor in class which will take data in class while object is creator everytime\n",
    "rohan=pwskills1(123456789,\"rohan@gmail.com\",\"vl2134rl\") #This arguments given passed for init constructor\n",
    "rohan.return_student_details()\n"
   ]
  },
  {
   "cell_type": "code",
   "execution_count": 3,
   "id": "aa8a1554-4fae-4d03-abb0-da150f9f74d0",
   "metadata": {},
   "outputs": [],
   "source": [
    "class car:\n",
    "    def __init__(self,cost,company,name):\n",
    "        self.cost=cost\n",
    "        self.compnay=company\n",
    "        self.name=name\n",
    "    def info(self):\n",
    "        return(f\"Cost = {self.cost} Company={self.compnay} Name={self.name}\")"
   ]
  },
  {
   "cell_type": "code",
   "execution_count": null,
   "id": "85bc5b87-5df4-4340-9a45-a12712a0c451",
   "metadata": {},
   "outputs": [],
   "source": [
    "car1=car(22,)"
   ]
  }
 ],
 "metadata": {
  "kernelspec": {
   "display_name": "Python 3 (ipykernel)",
   "language": "python",
   "name": "python3"
  },
  "language_info": {
   "codemirror_mode": {
    "name": "ipython",
    "version": 3
   },
   "file_extension": ".py",
   "mimetype": "text/x-python",
   "name": "python",
   "nbconvert_exporter": "python",
   "pygments_lexer": "ipython3",
   "version": "3.10.8"
  }
 },
 "nbformat": 4,
 "nbformat_minor": 5
}
