{
 "cells": [
  {
   "cell_type": "code",
   "execution_count": 21,
   "id": "651c1d3d-3cf7-4574-a6c7-db33e34b6800",
   "metadata": {},
   "outputs": [
    {
     "data": {
      "text/plain": [
       "4134711838987085478833841242112000"
      ]
     },
     "execution_count": 21,
     "metadata": {},
     "output_type": "execute_result"
    }
   ],
   "source": [
    "def func(l):\n",
    "    lst=[]\n",
    "    for i in l:\n",
    "        if(type(i)==int):\n",
    "            lst.append(i)\n",
    "        elif(type(i)==list):\n",
    "            for j in i:\n",
    "                if(type(j)==int):\n",
    "                    lst.append(j)\n",
    "        elif(type(i)==tuple):\n",
    "            for j in i:\n",
    "                if(type(j)==int):\n",
    "                    lst.append(j)\n",
    "        elif(type(i)==set):\n",
    "            for j in i:\n",
    "                if(type(j)==int):\n",
    "                    lst.append(j)\n",
    "        elif(type(i)==dict):\n",
    "            a=i.keys()\n",
    "            for j in a:\n",
    "                if(type(j)==int):\n",
    "                    lst.append(j)\n",
    "            b=i.values()\n",
    "            for j in b:\n",
    "                if(type(j)==int):\n",
    "                    lst.append(j) \n",
    "                elif(type(j)==list):\n",
    "                    for k in j:\n",
    "                        if(type(k)==int):\n",
    "                            lst.append(k)\n",
    "                elif(type(j)==tuple):\n",
    "                    for k in j:\n",
    "                        if(type(k)==int):\n",
    "                            lst.append(k)\n",
    "        product=1\n",
    "        for i in lst:\n",
    "            product=i*product\n",
    "    return product\n",
    "\n",
    "list1 = [1,2,3,4, [44,55,66, True], False, (34,56,78,89,34), {1,2,3,3,2,1}, {1:34, \"key2\": [55, 67, 78, 89], 4: (45,22, 61, 34)},\n",
    "         [56, 'data science'], 'Machine Learning']\n",
    "\n",
    "func(list1)"
   ]
  },
  {
   "cell_type": "code",
   "execution_count": 55,
   "id": "e114ae0a-1aab-43bc-beed-47ff7e5ad28d",
   "metadata": {},
   "outputs": [
    {
     "data": {
      "text/plain": [
       "'i want to become a data scientist.'"
      ]
     },
     "execution_count": 55,
     "metadata": {},
     "output_type": "execute_result"
    }
   ],
   "source": [
    "msg = \"I want to become a Data Scientist.\"\n",
    "msg.lower()"
   ]
  },
  {
   "cell_type": "code",
   "execution_count": 62,
   "id": "05ebfe67-6a1c-4196-98c8-69a97fc3bfd9",
   "metadata": {},
   "outputs": [
    {
     "data": {
      "text/plain": [
       "'r$dzmg$gl$yvxlnv$z$wzgz$hxrvmgrhg.'"
      ]
     },
     "execution_count": 62,
     "metadata": {},
     "output_type": "execute_result"
    }
   ],
   "source": [
    "def encryption(msg1):\n",
    "    msg1=msg1.lower()\n",
    "    msg2=\"\"\n",
    "    for i in msg1:\n",
    "        if(ord(i)<=122 and ord(i)>=97):\n",
    "            msg2=msg2 + chr(122-(ord(i))+97).lower()\n",
    "        elif(ord(i)==32):\n",
    "            msg2=msg2 + \"$\"\n",
    "        else:\n",
    "            msg2=msg2 + i\n",
    "    \n",
    "    return msg2\n",
    "\n",
    "msg = \"I want to become a Data Scientist.\"\n",
    "encryption(msg)"
   ]
  },
  {
   "cell_type": "code",
   "execution_count": null,
   "id": "11443da0-29e3-479f-a1dc-0e5eef139d13",
   "metadata": {},
   "outputs": [],
   "source": [
    "    "
   ]
  }
 ],
 "metadata": {
  "kernelspec": {
   "display_name": "Python 3 (ipykernel)",
   "language": "python",
   "name": "python3"
  },
  "language_info": {
   "codemirror_mode": {
    "name": "ipython",
    "version": 3
   },
   "file_extension": ".py",
   "mimetype": "text/x-python",
   "name": "python",
   "nbconvert_exporter": "python",
   "pygments_lexer": "ipython3",
   "version": "3.10.8"
  }
 },
 "nbformat": 4,
 "nbformat_minor": 5
}
