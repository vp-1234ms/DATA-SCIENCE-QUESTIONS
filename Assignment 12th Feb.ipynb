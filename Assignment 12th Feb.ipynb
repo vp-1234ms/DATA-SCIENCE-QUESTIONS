{
 "cells": [
  {
   "cell_type": "markdown",
   "id": "ca5b4cc7-160f-47b7-bf04-3086da762ffc",
   "metadata": {},
   "source": [
    "Q1. What is an Expeption handeling in python? Write the differene between Exceptions and Syntax errors?"
   ]
  },
  {
   "cell_type": "markdown",
   "id": "35fb461f-dff4-4216-8b0a-d0991fbc629e",
   "metadata": {},
   "source": [
    "#In exception handeling we can handle the exception that is errors \n",
    "\n",
    "#Errors can we known as well as known if errors are known then we can use epcific exception and if the are not unknown then we use generalize exception\n",
    "\n",
    "#We have try except block in exception handeling which makes sure that it tries given code and for exception prints exception\n",
    "\n",
    "#Syntax error occurs when we don't follow python syntax it inlcudes giving proper colon at proper places\n",
    "\n",
    "#Syntax error are made by programmer while writing code\n",
    "\n",
    "#While exceptions occure during run time of code\n",
    "\n",
    "#Eg: Synatx error\n",
    "\n",
    "l=[]\n",
    "\n",
    "if (type(l)==list)\n",
    "\n",
    "    return True\n",
    "\n",
    "\n",
    "#Exception handeling\n",
    "\n",
    "try:\n",
    "\n",
    "    10/0\n",
    "    \n",
    "except Exception as e:\n",
    "\n",
    "    print(e)"
   ]
  },
  {
   "cell_type": "markdown",
   "id": "133f5c83-eaae-4b2d-a72d-846893dbfece",
   "metadata": {},
   "source": [
    "Q2. What happens when an exception is not handled? Explin with an example"
   ]
  },
  {
   "cell_type": "markdown",
   "id": "b19a13f6-a5a5-4cc1-a997-441690766bae",
   "metadata": {},
   "source": [
    "#We encounter error at run time if this happens\n"
   ]
  },
  {
   "cell_type": "code",
   "execution_count": null,
   "id": "0cdc92c8-d3a0-4abe-9b55-2487494238d1",
   "metadata": {},
   "outputs": [],
   "source": [
    "l=[]\n",
    "l.pop()\n",
    "#This will give IndexError"
   ]
  },
  {
   "cell_type": "code",
   "execution_count": 15,
   "id": "361bc1d1-6c3f-46f8-852d-838a6b813700",
   "metadata": {},
   "outputs": [
    {
     "name": "stdout",
     "output_type": "stream",
     "text": [
      "Exception :  pop from empty list\n"
     ]
    }
   ],
   "source": [
    "try:\n",
    "    l=[]\n",
    "    l.pop()\n",
    "except Exception as e:\n",
    "    print(\"Exception : \", e)"
   ]
  },
  {
   "cell_type": "markdown",
   "id": "a97a6f02-3901-4978-85b0-489f506f2a64",
   "metadata": {},
   "source": [
    "Q3. Which Python sttements are used to catch and handle exceptions? Explain with an example"
   ]
  },
  {
   "cell_type": "markdown",
   "id": "5172a675-c986-4669-8692-73dffe97465d",
   "metadata": {},
   "source": [
    "#We use try and except block to handle and catch exception respectively we also use else and finally block with it\n",
    "#Here try and else block are executed only if exception is not raised and if exception occurs it goes and executes except block\n",
    "\n",
    "#While finally block executes in all cases"
   ]
  },
  {
   "cell_type": "code",
   "execution_count": 18,
   "id": "9707dbb2-6a64-4b58-bcaa-158ba5a3dcd9",
   "metadata": {},
   "outputs": [
    {
     "name": "stdout",
     "output_type": "stream",
     "text": [
      "Error Occurred -  [Errno 2] No such file or directory: 'MyFile.txt'\n",
      "Always executed\n"
     ]
    }
   ],
   "source": [
    "try:\n",
    "    with open(\"MyFile.txt\",\"r\") as f:\n",
    "        f.read()\n",
    "except FileNotFoundError as e:\n",
    "    print(\"Error Occurred - \",e)\n",
    "else:\n",
    "    f.close()\n",
    "finally:\n",
    "    print(\"Always executed\")"
   ]
  },
  {
   "cell_type": "markdown",
   "id": "d1a44f89-a9da-4f8b-967b-b75355282d71",
   "metadata": {},
   "source": [
    "Q4. Explin with an example:\n",
    "\n",
    "a) try and else\n",
    "\n",
    "b)finally\n",
    "\n",
    "c)raise\n"
   ]
  },
  {
   "cell_type": "markdown",
   "id": "7a27fbdd-53a5-45f2-88a3-58209eb46c52",
   "metadata": {},
   "source": [
    "#a)Try and else\n",
    "\n",
    "#Try block gets executed whenever error does not occur\n",
    "\n",
    "#Whenever try gets executed with it else gets executed\n"
   ]
  },
  {
   "cell_type": "code",
   "execution_count": 21,
   "id": "25121852-038f-47d6-85fc-222e1a0ac176",
   "metadata": {},
   "outputs": [],
   "source": [
    "try:\n",
    "    with open(\"MyFile.txt\",\"w\") as f:\n",
    "        f.write(\"I want to become data scientist\")\n",
    "except FileNotFoundError as e:\n",
    "    print(\"Error Occurred - \",e)\n",
    "else:\n",
    "    f.close()"
   ]
  },
  {
   "cell_type": "markdown",
   "id": "72abebf3-9ed1-4fc3-b658-c0cf32b4e6ed",
   "metadata": {},
   "source": [
    "#b)Finally\n",
    "\n",
    "#Finally gets executed even if error occurs or it dosen't \n",
    "\n",
    "#So we can print our important message in finally block \n",
    "\n",
    "#It occurs with try and else as well as with except block"
   ]
  },
  {
   "cell_type": "code",
   "execution_count": 22,
   "id": "69516333-0b5b-4a3f-9604-842201f37dd8",
   "metadata": {},
   "outputs": [
    {
     "name": "stdout",
     "output_type": "stream",
     "text": [
      "Always executed\n"
     ]
    }
   ],
   "source": [
    "try:\n",
    "    with open(\"MyFile.txt\",\"r\") as f:\n",
    "        f.read()\n",
    "except FileNotFoundError as e:\n",
    "    print(\"Error Occurred - \",e)\n",
    "else:\n",
    "    f.close()\n",
    "finally:\n",
    "    print(\"Always executed\")"
   ]
  },
  {
   "cell_type": "code",
   "execution_count": 39,
   "id": "fc74fb2c-cb96-4202-a231-15d37f0adada",
   "metadata": {},
   "outputs": [
    {
     "name": "stdin",
     "output_type": "stream",
     "text": [
      "Enter Even Number :  7\n"
     ]
    },
    {
     "name": "stdout",
     "output_type": "stream",
     "text": [
      "Enter Even Number!!!\n"
     ]
    }
   ],
   "source": [
    "class MyError(Exception):\n",
    "    def __init__(self,msg):\n",
    "        self.msg=msg\n",
    "\n",
    "def func(even):\n",
    "    if(even%2==0):\n",
    "        print(\"Valid Number\")\n",
    "    else:\n",
    "        raise MyError(\"Enter Even Number!!!\")\n",
    "\n",
    "try:\n",
    "    even=int(input(\"Enter Even Number : \"))\n",
    "    func(even)\n",
    "except MyError as e:\n",
    "    print(e)"
   ]
  },
  {
   "cell_type": "markdown",
   "id": "86911746-ebd0-4917-bae3-b56d10680ddf",
   "metadata": {},
   "source": [
    "Q5. What are Custom Exceptions in python? Why do we need Custom Exceptions? Explain it with an example"
   ]
  },
  {
   "cell_type": "markdown",
   "id": "b8062144-300c-4d65-ad66-4f49fc31895d",
   "metadata": {},
   "source": [
    "#Custom exception funciton in python allows us to create our own exceptions \n",
    "\n",
    "#Example if we want to resrtrict user to enter mobile digit of only 10 digits\n"
   ]
  },
  {
   "cell_type": "code",
   "execution_count": 44,
   "id": "3a896876-bf41-4b37-9d5d-30deb965826b",
   "metadata": {},
   "outputs": [
    {
     "name": "stdin",
     "output_type": "stream",
     "text": [
      "Enter Indian Mobile Number :  895647126\n"
     ]
    },
    {
     "name": "stdout",
     "output_type": "stream",
     "text": [
      "Enter Valid Mobile Number!!!\n"
     ]
    }
   ],
   "source": [
    "class MyError(Exception):\n",
    "    def __init__(self,msg):\n",
    "        self.msg=msg\n",
    "\n",
    "def func(mobile_number):\n",
    "    if(len(mobile_number)==10):\n",
    "        print(\"Valid Number\")\n",
    "    else:\n",
    "        raise MyError(\"Enter Valid Mobile Number!!!\")\n",
    "\n",
    "try:\n",
    "    mobile_number=(input(\"Enter Indian Mobile Number : \"))\n",
    "    func(mobile_number)\n",
    "except MyError as e:\n",
    "    print(e)"
   ]
  },
  {
   "cell_type": "markdown",
   "id": "3250f321-c676-4d97-a8b8-6efb34a8a6d9",
   "metadata": {},
   "source": [
    "Q6. Create custom exception class. Use this class to handle an exception."
   ]
  },
  {
   "cell_type": "markdown",
   "id": "f59d1f13-8112-4410-98b6-1e87c626543f",
   "metadata": {},
   "source": [
    "#We will create custom class to take only multiples of 5 from user\n",
    "\n",
    "#And will raise error when he enters numbers which are not divisible by 5"
   ]
  },
  {
   "cell_type": "code",
   "execution_count": 49,
   "id": "56de0a2d-8837-428b-b153-77c62a34cf5d",
   "metadata": {},
   "outputs": [
    {
     "name": "stdin",
     "output_type": "stream",
     "text": [
      "Enter Indian Mobile Number :  7\n"
     ]
    },
    {
     "name": "stdout",
     "output_type": "stream",
     "text": [
      "Enter Multiple of Five Number !!!\n"
     ]
    }
   ],
   "source": [
    "class MyError(Exception):\n",
    "    def __init__(self,msg):\n",
    "        self.msg=msg\n",
    "\n",
    "def func(number):\n",
    "    if((number)%5==0):\n",
    "        print(\"Valid Number\")\n",
    "    else:\n",
    "        raise MyError(\"Enter Multiple of Five Number !!!\")\n",
    "\n",
    "try:\n",
    "    number=int(input(\"Enter Indian Mobile Number : \"))\n",
    "    func(number)\n",
    "except MyError as e:\n",
    "    print(e)"
   ]
  },
  {
   "cell_type": "code",
   "execution_count": null,
   "id": "0c728917-c8a9-4c26-969a-18f07d2564b8",
   "metadata": {},
   "outputs": [],
   "source": []
  }
 ],
 "metadata": {
  "kernelspec": {
   "display_name": "Python 3 (ipykernel)",
   "language": "python",
   "name": "python3"
  },
  "language_info": {
   "codemirror_mode": {
    "name": "ipython",
    "version": 3
   },
   "file_extension": ".py",
   "mimetype": "text/x-python",
   "name": "python",
   "nbconvert_exporter": "python",
   "pygments_lexer": "ipython3",
   "version": "3.10.8"
  }
 },
 "nbformat": 4,
 "nbformat_minor": 5
}
