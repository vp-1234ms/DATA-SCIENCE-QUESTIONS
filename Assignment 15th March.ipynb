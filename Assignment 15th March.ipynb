{
 "cells": [
  {
   "cell_type": "markdown",
   "id": "2a9e11c6-da98-4011-826c-650900ed0d32",
   "metadata": {},
   "source": [
    "Q1) Explain the following with an Example:\n",
    "    \n",
    "A) Artificial Intilligence\n",
    "\n",
    "B) Machine Learning\n",
    "\n",
    "C) Deep Learning"
   ]
  },
  {
   "cell_type": "code",
   "execution_count": 2,
   "id": "05c1b7cd-e152-48d3-bfe3-33019a1d8ddb",
   "metadata": {},
   "outputs": [],
   "source": [
    "#A)ARTIFICIAL INTILLIGENCE\n",
    "#This concept based models are train to behave as a self human and execute all processes by itself or without human intervation\n",
    "#This models are trained to take it's own decision\n",
    "#Example Self driving car\n",
    "#B)MACHINE LEARNING\n",
    "#THIS MODELS WORK BASED ON LARGE AMOUNT OF DATA FEDED INTO IT\n",
    "#C)DEEP LEARNING \n",
    "#THIS ACTUALLY IS DEVELOP TO MIMIC HUMAN BRAIN"
   ]
  },
  {
   "cell_type": "markdown",
   "id": "61296a4e-e541-434f-b449-9cf143956424",
   "metadata": {},
   "source": [
    "Q2- What is supervised learning? List some example of supervised learning."
   ]
  },
  {
   "cell_type": "code",
   "execution_count": 4,
   "id": "0aa0a1e1-5326-4775-b5df-7834fa20c3d8",
   "metadata": {},
   "outputs": [],
   "source": [
    "#Supervised learning is a type of machine learning in which an algorithm learns to make predictions or decisions based on input data that is labeled with the correct output. \n",
    "#The algorithm is trained on a set of examples, with each example consisting of an input (also called a feature or attribute) and the corresponding desired output \n",
    "#(also called a label or target). The goal of supervised learning is to learn a function that can generalize well to new, unseen data.\n",
    "#Some examples of supervised learning include:\n",
    "#Image classification: Given an image, the task is to classify it into one of several categories, such as cat, dog, car, or airplane. \n",
    "#The input is an image and the output is a label that identifies the category.\n",
    "#Sentiment analysis: Given a piece of text, the task is to determine the sentiment (positive, negative, or neutral) expressed in the text. \n",
    "#The input is the text and the output is a label that identifies the sentiment."
   ]
  },
  {
   "cell_type": "markdown",
   "id": "f39bef9d-a704-42ca-a4f2-f4d82ee9cdb7",
   "metadata": {},
   "source": [
    "Q.3)What is unsupervised learning? List some examples of unsupervised learning."
   ]
  },
  {
   "cell_type": "code",
   "execution_count": 6,
   "id": "5ec5931c-5458-4768-bf52-87a4b41547ff",
   "metadata": {},
   "outputs": [],
   "source": [
    "#Unsupervised learning is a type of machine learning where the algorithm learns patterns or relationships in the data without explicit guidance or labeled examples. \n",
    "#The goal of unsupervised learning is to identify patterns, structures, or clusters in the data.\n",
    "#Some examples of unsupervised learning include:\n",
    "#Clustering: Given a set of data points, the task is to group them into clusters based on their similarities. \n",
    "#Examples of clustering algorithms include k-means, hierarchical clustering, and DBSCAN.\n",
    "#Dimensionality reduction: Given a high-dimensional dataset, the task is to reduce the number of features while preserving the essential information. \n",
    "#Examples of dimensionality reduction algorithms include principal component analysis (PCA), t-SNE, and autoencoders."
   ]
  },
  {
   "cell_type": "markdown",
   "id": "4ca98e48-f864-4539-9375-375c57f18373",
   "metadata": {},
   "source": [
    "Q.4)What is the differnce between AI, ML, DL, and DS?"
   ]
  },
  {
   "cell_type": "code",
   "execution_count": null,
   "id": "eb1b0c3d-06b0-4ddf-830f-e3800279a11a",
   "metadata": {},
   "outputs": [],
   "source": [
    "#AI (Artificial Intelligence), ML (Machine Learning), DL (Deep Learning), and DS (Data Science) are related but distinct fields in computer science. Here are the differences between them:\n",
    "#AI (Artificial Intelligence): AI is a broad field that aims to create intelligent machines that can perform tasks that typically require human intelligence, \n",
    "#such as understanding natural language, recognizing objects in images, playing games, and making decisions. AI encompasses various subfields, including machine learning, \n",
    "#deep learning, robotics, natural language processing, and computer vision.\n",
    "#ML (Machine Learning): ML is a subset of AI that focuses on designing algorithms that can learn from data and make predictions or decisions based on that data. \n",
    "#The goal of ML is to develop models that can generalize well to new, unseen data. ML algorithms can be supervised, unsupervised, or semi-supervised.\n",
    "#DL (Deep Learning): DL is a subset of ML that uses artificial neural networks to model complex patterns and relationships in data. \n",
    "#DL algorithms are particularly effective at solving problems that involve large datasets or high-dimensional inputs, such as image recognition, speech recognition, \n",
    "#and natural language processing.\n",
    "#DS (Data Science): DS is an interdisciplinary field that involves extracting insights and knowledge from data using various statistical and computational techniques. \n",
    "#DS encompasses data collection, cleaning, preprocessing, visualization, analysis, and interpretation. Data scientists use tools and techniques from mathematics, statistics, \n",
    "#computer science, and domain-specific knowledge to uncover insights from data and solve complex problems."
   ]
  },
  {
   "cell_type": "markdown",
   "id": "cbceb287-cb65-4304-b0e8-752f4103b385",
   "metadata": {},
   "source": [
    "Q.5)What are the main differnce between supervised, unsupervised, and semi-supervised learning?"
   ]
  },
  {
   "cell_type": "code",
   "execution_count": null,
   "id": "c693f192-839d-4beb-94d9-ccc448e8c3e3",
   "metadata": {},
   "outputs": [],
   "source": [
    "#Supervised Learning: In supervised learning, the algorithm learns from labeled examples that have input and output pairs.\n",
    "#The goal of supervised learning is to predict the output of new input examples based on the learned patterns from the labeled data. \n",
    "#Examples of supervised learning include classification, regression, and object detection.\n",
    "#Unsupervised Learning: In unsupervised learning, the algorithm learns from unlabeled data and discovers patterns or structure in the data. \n",
    "#The goal of unsupervised learning is to find hidden patterns in the data without explicit guidance. Examples of unsupervised learning include clustering, anomaly detection, \n",
    "#and dimensionality reduction.\n",
    "#Semi-Supervised Learning: In semi-supervised learning, the algorithm learns from a combination of labeled and unlabeled data. \n",
    "#The goal of semi-supervised learning is to improve the performance of supervised learning by leveraging the unlabeled data to learn better representations or to regularize the model. \n",
    "#Examples of semi-supervised learning include image classification, speech recognition, and natural language processing."
   ]
  },
  {
   "cell_type": "markdown",
   "id": "ee4f1963-d349-4bf8-9a56-8f609678ef29",
   "metadata": {},
   "source": [
    "Q6) What is train, test and validation split? Explain the importance of each term."
   ]
  },
  {
   "cell_type": "code",
   "execution_count": null,
   "id": "34d60f3e-54d4-43be-9b04-b93c9dde3f12",
   "metadata": {},
   "outputs": [],
   "source": [
    "#In machine learning, a common practice is to split the dataset into three subsets: training, testing, and validation sets. Here's what each subset means and why they are important:\n",
    "#Training set: The training set is used to train the machine learning model. This subset of the data contains labeled examples that the algorithm learns from. \n",
    "#The model is trained on this set until it achieves good performance.\n",
    "#Testing set: The testing set is used to evaluate the performance of the trained model. This subset of the data contains examples that the model has not seen before. \n",
    "#The model's performance on the testing set is an estimate of its performance on new, unseen data.\n",
    "#Validation set: The validation set is used to tune the hyperparameters of the model. Hyperparameters are parameters that are set before training, such as the learning rate, \n",
    "#regularization strength, and network architecture. The validation set is used to test different combinations of hyperparameters to find the best configuration that optimizes \n",
    "#the performance of the model on the testing set."
   ]
  },
  {
   "cell_type": "markdown",
   "id": "741d6d78-1e36-4b36-8689-8efd50fe7f0f",
   "metadata": {},
   "source": [
    "Q7) How can unsupervised learning be used in anomaly detection?"
   ]
  },
  {
   "cell_type": "code",
   "execution_count": null,
   "id": "906dc7ae-8127-4ea0-88b8-57e7a8cca3d8",
   "metadata": {},
   "outputs": [],
   "source": [
    "#Unsupervised learning can be used in anomaly detection by identifying patterns in the data that are significantly different from the normal patterns. \n",
    "#Here are some common approaches for using unsupervised learning in anomaly detection:\n",
    "#Clustering: Clustering algorithms can group similar data points together and identify data points that do not fit into any cluster. \n",
    "#These data points are likely to be anomalies. One example of a clustering algorithm for anomaly detection is k-means clustering.\n",
    "#Density-based methods: Density-based methods can detect anomalies as data points with low density in the feature space. \n",
    "#One example of a density-based method for anomaly detection is DBSCAN."
   ]
  },
  {
   "cell_type": "markdown",
   "id": "4339e553-6e68-4a7e-aa87-62293143df16",
   "metadata": {},
   "source": [
    "Q8) List down some commonly used supervised learning algorithms and unsupervised learning algorithms."
   ]
  },
  {
   "cell_type": "code",
   "execution_count": null,
   "id": "2785df26-746c-492c-8800-2999573172c9",
   "metadata": {},
   "outputs": [],
   "source": [
    "#Here are some commonly used supervised learning algorithms:\n",
    "\n",
    "#Linear Regression\n",
    "#Logistic Regression\n",
    "#Decision Trees\n",
    "#Random Forests\n",
    "#Support Vector Machines (SVM)\n",
    "#Naive Bayes\n",
    "#K-Nearest Neighbors (KNN)\n",
    "#Neural Networks\n",
    "#Here are some commonly used unsupervised learning algorithms:\n",
    "\n",
    "#K-Means Clustering\n",
    "#Hierarchical Clustering\n",
    "#Principal Component Analysis (PCA)\n",
    "#Autoencoders\n",
    "#Gaussian Mixture Models (GMM)\n",
    "#Association Rule Learning\n",
    "#t-SNE\n",
    "#DBSCAN"
   ]
  },
  {
   "cell_type": "code",
   "execution_count": null,
   "id": "f2a88d00-b316-4012-8498-03ee3439e990",
   "metadata": {},
   "outputs": [],
   "source": []
  }
 ],
 "metadata": {
  "kernelspec": {
   "display_name": "Python 3 (ipykernel)",
   "language": "python",
   "name": "python3"
  },
  "language_info": {
   "codemirror_mode": {
    "name": "ipython",
    "version": 3
   },
   "file_extension": ".py",
   "mimetype": "text/x-python",
   "name": "python",
   "nbconvert_exporter": "python",
   "pygments_lexer": "ipython3",
   "version": "3.10.8"
  }
 },
 "nbformat": 4,
 "nbformat_minor": 5
}
