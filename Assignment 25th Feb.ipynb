{
 "cells": [
  {
   "cell_type": "code",
   "execution_count": 3,
   "id": "c2871ed4-d794-46c4-96b3-f76e7561a09d",
   "metadata": {},
   "outputs": [],
   "source": [
    "import pandas as pd\n",
    "course_name = ['Data Science', 'Machine Learning', 'Big Data', 'Data Engineer']\n",
    "duration = [2,3,6,4]\n",
    "df = pd.DataFrame(data = {'course_name' : course_name, 'duration' : duration})"
   ]
  },
  {
   "cell_type": "code",
   "execution_count": 4,
   "id": "c6374f31-eb6b-4abb-9d46-9ca7e75e2ac3",
   "metadata": {},
   "outputs": [
    {
     "data": {
      "text/html": [
       "<div>\n",
       "<style scoped>\n",
       "    .dataframe tbody tr th:only-of-type {\n",
       "        vertical-align: middle;\n",
       "    }\n",
       "\n",
       "    .dataframe tbody tr th {\n",
       "        vertical-align: top;\n",
       "    }\n",
       "\n",
       "    .dataframe thead th {\n",
       "        text-align: right;\n",
       "    }\n",
       "</style>\n",
       "<table border=\"1\" class=\"dataframe\">\n",
       "  <thead>\n",
       "    <tr style=\"text-align: right;\">\n",
       "      <th></th>\n",
       "      <th>course_name</th>\n",
       "      <th>duration</th>\n",
       "    </tr>\n",
       "  </thead>\n",
       "  <tbody>\n",
       "    <tr>\n",
       "      <th>0</th>\n",
       "      <td>Data Science</td>\n",
       "      <td>2</td>\n",
       "    </tr>\n",
       "    <tr>\n",
       "      <th>1</th>\n",
       "      <td>Machine Learning</td>\n",
       "      <td>3</td>\n",
       "    </tr>\n",
       "    <tr>\n",
       "      <th>2</th>\n",
       "      <td>Big Data</td>\n",
       "      <td>6</td>\n",
       "    </tr>\n",
       "    <tr>\n",
       "      <th>3</th>\n",
       "      <td>Data Engineer</td>\n",
       "      <td>4</td>\n",
       "    </tr>\n",
       "  </tbody>\n",
       "</table>\n",
       "</div>"
      ],
      "text/plain": [
       "        course_name  duration\n",
       "0      Data Science         2\n",
       "1  Machine Learning         3\n",
       "2          Big Data         6\n",
       "3     Data Engineer         4"
      ]
     },
     "execution_count": 4,
     "metadata": {},
     "output_type": "execute_result"
    }
   ],
   "source": [
    "df"
   ]
  },
  {
   "cell_type": "markdown",
   "id": "44a14f1e-456b-4198-9b28-a0637a3cac5a",
   "metadata": {},
   "source": [
    "Q1. Write a code to print the data present in the second row of the dataframe, df."
   ]
  },
  {
   "cell_type": "code",
   "execution_count": 6,
   "id": "a9b4218a-1b16-4db1-ab3b-3ed08b0324aa",
   "metadata": {},
   "outputs": [
    {
     "data": {
      "text/plain": [
       "course_name    Machine Learning\n",
       "duration                      3\n",
       "Name: 1, dtype: object"
      ]
     },
     "execution_count": 6,
     "metadata": {},
     "output_type": "execute_result"
    }
   ],
   "source": [
    "df.loc[1]"
   ]
  },
  {
   "cell_type": "markdown",
   "id": "ed9fd61f-1d50-4d1e-966d-feb0c2e094e1",
   "metadata": {},
   "source": [
    "Q2. What is the difference between the functions loc and iloc in pandas.DataFrame?"
   ]
  },
  {
   "cell_type": "code",
   "execution_count": 7,
   "id": "664a4e0e-75d6-4378-a740-634e13dc59d6",
   "metadata": {},
   "outputs": [],
   "source": [
    "#Both gives selected row and column in dataframe in pandas\n",
    "#Both are used for index slicing in DataFrame in Pandas\n",
    "#While the differences arises when iloc gives result for only inbuilt index for dataframe that given by Pandas to dataframe by default\n",
    "#While for user built index loc is used "
   ]
  },
  {
   "cell_type": "code",
   "execution_count": 16,
   "id": "c5b2d34f-9fad-4a77-a796-2220024e80bc",
   "metadata": {},
   "outputs": [
    {
     "data": {
      "text/plain": [
       "2"
      ]
     },
     "execution_count": 16,
     "metadata": {},
     "output_type": "execute_result"
    }
   ],
   "source": [
    "#eg for iloc\n",
    "df.iloc[0,1]"
   ]
  },
  {
   "cell_type": "code",
   "execution_count": 17,
   "id": "4b843123-2be2-4893-a0af-32758758fc00",
   "metadata": {},
   "outputs": [
    {
     "data": {
      "text/plain": [
       "2"
      ]
     },
     "execution_count": 17,
     "metadata": {},
     "output_type": "execute_result"
    }
   ],
   "source": [
    "#eg for loc\n",
    "df.loc[0,\"duration\"]"
   ]
  },
  {
   "cell_type": "markdown",
   "id": "d36b8942-64a7-4ad7-925a-1fe03de761b0",
   "metadata": {},
   "source": [
    "Q3. Reindex the given dataframe using a variable, reindex = [3,0,1,2] and store it in the variable, new_df\n",
    "then find the output for both new_df.loc[2] and new_df.iloc[2].Did you observe any difference in both the outputs? If so then explain it.\n"
   ]
  },
  {
   "cell_type": "code",
   "execution_count": 18,
   "id": "500184e0-2ada-4ff0-a36a-a946ffa19fa7",
   "metadata": {},
   "outputs": [],
   "source": [
    "new_df=df.reindex(index=[3,0,1,2])"
   ]
  },
  {
   "cell_type": "code",
   "execution_count": 23,
   "id": "3514218e-839f-414e-8dbb-308d18faea55",
   "metadata": {},
   "outputs": [
    {
     "data": {
      "text/html": [
       "<div>\n",
       "<style scoped>\n",
       "    .dataframe tbody tr th:only-of-type {\n",
       "        vertical-align: middle;\n",
       "    }\n",
       "\n",
       "    .dataframe tbody tr th {\n",
       "        vertical-align: top;\n",
       "    }\n",
       "\n",
       "    .dataframe thead th {\n",
       "        text-align: right;\n",
       "    }\n",
       "</style>\n",
       "<table border=\"1\" class=\"dataframe\">\n",
       "  <thead>\n",
       "    <tr style=\"text-align: right;\">\n",
       "      <th></th>\n",
       "      <th>course_name</th>\n",
       "      <th>duration</th>\n",
       "    </tr>\n",
       "  </thead>\n",
       "  <tbody>\n",
       "    <tr>\n",
       "      <th>3</th>\n",
       "      <td>Data Engineer</td>\n",
       "      <td>4</td>\n",
       "    </tr>\n",
       "    <tr>\n",
       "      <th>0</th>\n",
       "      <td>Data Science</td>\n",
       "      <td>2</td>\n",
       "    </tr>\n",
       "    <tr>\n",
       "      <th>1</th>\n",
       "      <td>Machine Learning</td>\n",
       "      <td>3</td>\n",
       "    </tr>\n",
       "    <tr>\n",
       "      <th>2</th>\n",
       "      <td>Big Data</td>\n",
       "      <td>6</td>\n",
       "    </tr>\n",
       "  </tbody>\n",
       "</table>\n",
       "</div>"
      ],
      "text/plain": [
       "        course_name  duration\n",
       "3     Data Engineer         4\n",
       "0      Data Science         2\n",
       "1  Machine Learning         3\n",
       "2          Big Data         6"
      ]
     },
     "execution_count": 23,
     "metadata": {},
     "output_type": "execute_result"
    }
   ],
   "source": [
    "new_df"
   ]
  },
  {
   "cell_type": "code",
   "execution_count": 21,
   "id": "df4de1bb-7d12-4add-8792-1e2ddbc24dda",
   "metadata": {},
   "outputs": [
    {
     "data": {
      "text/plain": [
       "course_name    Big Data\n",
       "duration              6\n",
       "Name: 2, dtype: object"
      ]
     },
     "execution_count": 21,
     "metadata": {},
     "output_type": "execute_result"
    }
   ],
   "source": [
    "new_df.loc[2]"
   ]
  },
  {
   "cell_type": "code",
   "execution_count": 22,
   "id": "f8f56044-0f79-4d9c-8db2-64b40298ee13",
   "metadata": {},
   "outputs": [
    {
     "data": {
      "text/plain": [
       "course_name    Machine Learning\n",
       "duration                      3\n",
       "Name: 1, dtype: object"
      ]
     },
     "execution_count": 22,
     "metadata": {},
     "output_type": "execute_result"
    }
   ],
   "source": [
    "new_df.iloc[2]"
   ]
  },
  {
   "cell_type": "code",
   "execution_count": 24,
   "id": "23f90a2b-c0bb-40a9-8999-7b4dde1304bd",
   "metadata": {},
   "outputs": [],
   "source": [
    "#Difference is crystal clear loc works for user index where as iloc works for inbuilt index"
   ]
  },
  {
   "cell_type": "markdown",
   "id": "b034e83b-ec69-4190-bc82-8c3b46413ca4",
   "metadata": {},
   "source": [
    "Q4. Write a code to find the following statistical measurements for the above dataframe df1:\n",
    "(i) mean of each and every column present in the dataframe.\n",
    "(ii) standard deviation of column, ‘column_2’"
   ]
  },
  {
   "cell_type": "code",
   "execution_count": 25,
   "id": "6f7996c4-55f9-435c-b9f2-6be63f71408d",
   "metadata": {},
   "outputs": [],
   "source": [
    "import pandas as pd\n",
    "import numpy as np\n",
    "columns = ['column_1', 'column_2', 'column_3', 'column_4', 'column_5', 'column_6']\n",
    "indices = [1,2,3,4,5,6]\n",
    "#Creating a dataframe:\n",
    "df1 = pd.DataFrame(np.random.rand(6,6), columns = columns, index = indices)"
   ]
  },
  {
   "cell_type": "code",
   "execution_count": 26,
   "id": "d2ad1c66-061b-4662-90c1-9f0993debddd",
   "metadata": {},
   "outputs": [
    {
     "data": {
      "text/html": [
       "<div>\n",
       "<style scoped>\n",
       "    .dataframe tbody tr th:only-of-type {\n",
       "        vertical-align: middle;\n",
       "    }\n",
       "\n",
       "    .dataframe tbody tr th {\n",
       "        vertical-align: top;\n",
       "    }\n",
       "\n",
       "    .dataframe thead th {\n",
       "        text-align: right;\n",
       "    }\n",
       "</style>\n",
       "<table border=\"1\" class=\"dataframe\">\n",
       "  <thead>\n",
       "    <tr style=\"text-align: right;\">\n",
       "      <th></th>\n",
       "      <th>column_1</th>\n",
       "      <th>column_2</th>\n",
       "      <th>column_3</th>\n",
       "      <th>column_4</th>\n",
       "      <th>column_5</th>\n",
       "      <th>column_6</th>\n",
       "    </tr>\n",
       "  </thead>\n",
       "  <tbody>\n",
       "    <tr>\n",
       "      <th>1</th>\n",
       "      <td>0.488308</td>\n",
       "      <td>0.075927</td>\n",
       "      <td>0.534801</td>\n",
       "      <td>0.678226</td>\n",
       "      <td>0.042527</td>\n",
       "      <td>0.227063</td>\n",
       "    </tr>\n",
       "    <tr>\n",
       "      <th>2</th>\n",
       "      <td>0.893416</td>\n",
       "      <td>0.304588</td>\n",
       "      <td>0.253580</td>\n",
       "      <td>0.399453</td>\n",
       "      <td>0.033747</td>\n",
       "      <td>0.674594</td>\n",
       "    </tr>\n",
       "    <tr>\n",
       "      <th>3</th>\n",
       "      <td>0.494365</td>\n",
       "      <td>0.117906</td>\n",
       "      <td>0.157000</td>\n",
       "      <td>0.673680</td>\n",
       "      <td>0.161863</td>\n",
       "      <td>0.118869</td>\n",
       "    </tr>\n",
       "    <tr>\n",
       "      <th>4</th>\n",
       "      <td>0.694550</td>\n",
       "      <td>0.577150</td>\n",
       "      <td>0.373464</td>\n",
       "      <td>0.169301</td>\n",
       "      <td>0.394254</td>\n",
       "      <td>0.229653</td>\n",
       "    </tr>\n",
       "    <tr>\n",
       "      <th>5</th>\n",
       "      <td>0.610485</td>\n",
       "      <td>0.396202</td>\n",
       "      <td>0.822835</td>\n",
       "      <td>0.463078</td>\n",
       "      <td>0.869783</td>\n",
       "      <td>0.295153</td>\n",
       "    </tr>\n",
       "    <tr>\n",
       "      <th>6</th>\n",
       "      <td>0.694765</td>\n",
       "      <td>0.754603</td>\n",
       "      <td>0.195347</td>\n",
       "      <td>0.498386</td>\n",
       "      <td>0.090780</td>\n",
       "      <td>0.428671</td>\n",
       "    </tr>\n",
       "  </tbody>\n",
       "</table>\n",
       "</div>"
      ],
      "text/plain": [
       "   column_1  column_2  column_3  column_4  column_5  column_6\n",
       "1  0.488308  0.075927  0.534801  0.678226  0.042527  0.227063\n",
       "2  0.893416  0.304588  0.253580  0.399453  0.033747  0.674594\n",
       "3  0.494365  0.117906  0.157000  0.673680  0.161863  0.118869\n",
       "4  0.694550  0.577150  0.373464  0.169301  0.394254  0.229653\n",
       "5  0.610485  0.396202  0.822835  0.463078  0.869783  0.295153\n",
       "6  0.694765  0.754603  0.195347  0.498386  0.090780  0.428671"
      ]
     },
     "execution_count": 26,
     "metadata": {},
     "output_type": "execute_result"
    }
   ],
   "source": [
    "df1"
   ]
  },
  {
   "cell_type": "code",
   "execution_count": 37,
   "id": "446c343c-8d71-45ed-9eeb-b150d0bad2c4",
   "metadata": {},
   "outputs": [
    {
     "data": {
      "text/plain": [
       "column_1    0.645981\n",
       "column_2    0.371063\n",
       "column_3    0.389505\n",
       "column_4    0.480354\n",
       "column_5    0.265492\n",
       "column_6    0.329000\n",
       "dtype: float64"
      ]
     },
     "execution_count": 37,
     "metadata": {},
     "output_type": "execute_result"
    }
   ],
   "source": [
    "df1[[i for i in (df1.columns).tolist()]].mean()"
   ]
  },
  {
   "cell_type": "code",
   "execution_count": 36,
   "id": "b83ea64e-04ea-47f3-87d8-462bbf76d814",
   "metadata": {},
   "outputs": [
    {
     "data": {
      "text/plain": [
       "0.26299039639147687"
      ]
     },
     "execution_count": 36,
     "metadata": {},
     "output_type": "execute_result"
    }
   ],
   "source": [
    "df1[\"column_2\"].std()"
   ]
  },
  {
   "cell_type": "markdown",
   "id": "65b7fda4-cf6c-45fb-9a32-96478526f50f",
   "metadata": {},
   "source": [
    "Q5. Replace the data present in the second row of column, ‘column_2’ by a string variable then find the\n",
    "mean of column, column_2.\n",
    "If you are getting errors in executing it then explain why.\n",
    "[Hint: To replace the data use df1.loc[] and equate this to string data of your choice.]"
   ]
  },
  {
   "cell_type": "code",
   "execution_count": 39,
   "id": "c86f3ce0-6636-436f-b7c9-99bcd954db32",
   "metadata": {},
   "outputs": [],
   "source": [
    "df1.loc[2]=\"Name\""
   ]
  },
  {
   "cell_type": "code",
   "execution_count": 40,
   "id": "5253a204-1051-418d-aeb1-6140eff2c968",
   "metadata": {},
   "outputs": [
    {
     "data": {
      "text/html": [
       "<div>\n",
       "<style scoped>\n",
       "    .dataframe tbody tr th:only-of-type {\n",
       "        vertical-align: middle;\n",
       "    }\n",
       "\n",
       "    .dataframe tbody tr th {\n",
       "        vertical-align: top;\n",
       "    }\n",
       "\n",
       "    .dataframe thead th {\n",
       "        text-align: right;\n",
       "    }\n",
       "</style>\n",
       "<table border=\"1\" class=\"dataframe\">\n",
       "  <thead>\n",
       "    <tr style=\"text-align: right;\">\n",
       "      <th></th>\n",
       "      <th>column_1</th>\n",
       "      <th>column_2</th>\n",
       "      <th>column_3</th>\n",
       "      <th>column_4</th>\n",
       "      <th>column_5</th>\n",
       "      <th>column_6</th>\n",
       "    </tr>\n",
       "  </thead>\n",
       "  <tbody>\n",
       "    <tr>\n",
       "      <th>1</th>\n",
       "      <td>0.488308</td>\n",
       "      <td>0.075927</td>\n",
       "      <td>0.534801</td>\n",
       "      <td>0.678226</td>\n",
       "      <td>0.042527</td>\n",
       "      <td>0.227063</td>\n",
       "    </tr>\n",
       "    <tr>\n",
       "      <th>2</th>\n",
       "      <td>Name</td>\n",
       "      <td>Name</td>\n",
       "      <td>Name</td>\n",
       "      <td>Name</td>\n",
       "      <td>Name</td>\n",
       "      <td>Name</td>\n",
       "    </tr>\n",
       "    <tr>\n",
       "      <th>3</th>\n",
       "      <td>0.494365</td>\n",
       "      <td>0.117906</td>\n",
       "      <td>0.157</td>\n",
       "      <td>0.67368</td>\n",
       "      <td>0.161863</td>\n",
       "      <td>0.118869</td>\n",
       "    </tr>\n",
       "    <tr>\n",
       "      <th>4</th>\n",
       "      <td>0.69455</td>\n",
       "      <td>0.57715</td>\n",
       "      <td>0.373464</td>\n",
       "      <td>0.169301</td>\n",
       "      <td>0.394254</td>\n",
       "      <td>0.229653</td>\n",
       "    </tr>\n",
       "    <tr>\n",
       "      <th>5</th>\n",
       "      <td>0.610485</td>\n",
       "      <td>0.396202</td>\n",
       "      <td>0.822835</td>\n",
       "      <td>0.463078</td>\n",
       "      <td>0.869783</td>\n",
       "      <td>0.295153</td>\n",
       "    </tr>\n",
       "    <tr>\n",
       "      <th>6</th>\n",
       "      <td>0.694765</td>\n",
       "      <td>0.754603</td>\n",
       "      <td>0.195347</td>\n",
       "      <td>0.498386</td>\n",
       "      <td>0.09078</td>\n",
       "      <td>0.428671</td>\n",
       "    </tr>\n",
       "  </tbody>\n",
       "</table>\n",
       "</div>"
      ],
      "text/plain": [
       "   column_1  column_2  column_3  column_4  column_5  column_6\n",
       "1  0.488308  0.075927  0.534801  0.678226  0.042527  0.227063\n",
       "2      Name      Name      Name      Name      Name      Name\n",
       "3  0.494365  0.117906     0.157   0.67368  0.161863  0.118869\n",
       "4   0.69455   0.57715  0.373464  0.169301  0.394254  0.229653\n",
       "5  0.610485  0.396202  0.822835  0.463078  0.869783  0.295153\n",
       "6  0.694765  0.754603  0.195347  0.498386   0.09078  0.428671"
      ]
     },
     "execution_count": 40,
     "metadata": {},
     "output_type": "execute_result"
    }
   ],
   "source": [
    "df1"
   ]
  },
  {
   "cell_type": "code",
   "execution_count": 43,
   "id": "a8709f31-1dcf-4ac2-bfad-ba057e26341a",
   "metadata": {},
   "outputs": [],
   "source": [
    "#df1[\"column_2\"].mean()\n",
    "#Getting error due to string datatype in column  2 \n",
    "#Mean can't be found for string datatype"
   ]
  },
  {
   "cell_type": "markdown",
   "id": "3f1b6c4c-60a5-40b6-b9d1-24abdc9efa77",
   "metadata": {},
   "source": [
    "Q6. What do you understand about the windows function in pandas and list the types of windows\n",
    "functions?"
   ]
  },
  {
   "cell_type": "code",
   "execution_count": 45,
   "id": "a9e72506-5170-41b7-8453-332245529eed",
   "metadata": {},
   "outputs": [],
   "source": [
    "#There are many window functions function like rolling weighted expanding exponentially weighted\n",
    "#like in rolling function it rolls over every value to get mean sum std etc"
   ]
  },
  {
   "cell_type": "code",
   "execution_count": 48,
   "id": "39f0c7bb-8a80-40b8-8e13-7d1ef25cdeba",
   "metadata": {},
   "outputs": [
    {
     "data": {
      "text/html": [
       "<div>\n",
       "<style scoped>\n",
       "    .dataframe tbody tr th:only-of-type {\n",
       "        vertical-align: middle;\n",
       "    }\n",
       "\n",
       "    .dataframe tbody tr th {\n",
       "        vertical-align: top;\n",
       "    }\n",
       "\n",
       "    .dataframe thead th {\n",
       "        text-align: right;\n",
       "    }\n",
       "</style>\n",
       "<table border=\"1\" class=\"dataframe\">\n",
       "  <thead>\n",
       "    <tr style=\"text-align: right;\">\n",
       "      <th></th>\n",
       "      <th>Data</th>\n",
       "    </tr>\n",
       "  </thead>\n",
       "  <tbody>\n",
       "    <tr>\n",
       "      <th>0</th>\n",
       "      <td>1.0</td>\n",
       "    </tr>\n",
       "    <tr>\n",
       "      <th>1</th>\n",
       "      <td>2.0</td>\n",
       "    </tr>\n",
       "    <tr>\n",
       "      <th>2</th>\n",
       "      <td>3.0</td>\n",
       "    </tr>\n",
       "    <tr>\n",
       "      <th>3</th>\n",
       "      <td>4.0</td>\n",
       "    </tr>\n",
       "    <tr>\n",
       "      <th>4</th>\n",
       "      <td>5.0</td>\n",
       "    </tr>\n",
       "  </tbody>\n",
       "</table>\n",
       "</div>"
      ],
      "text/plain": [
       "   Data\n",
       "0   1.0\n",
       "1   2.0\n",
       "2   3.0\n",
       "3   4.0\n",
       "4   5.0"
      ]
     },
     "execution_count": 48,
     "metadata": {},
     "output_type": "execute_result"
    }
   ],
   "source": [
    "df2=pd.DataFrame({\"Data\":[1,2,3,4,5]})\n",
    "df2.rolling(window=1).mean() #Takes mean of each single element like mean of index(0) is 1 then mean of index(1) is 2"
   ]
  },
  {
   "cell_type": "code",
   "execution_count": 51,
   "id": "2917bdf4-e7f3-4184-889e-79b9ecc890f1",
   "metadata": {},
   "outputs": [
    {
     "data": {
      "text/html": [
       "<div>\n",
       "<style scoped>\n",
       "    .dataframe tbody tr th:only-of-type {\n",
       "        vertical-align: middle;\n",
       "    }\n",
       "\n",
       "    .dataframe tbody tr th {\n",
       "        vertical-align: top;\n",
       "    }\n",
       "\n",
       "    .dataframe thead th {\n",
       "        text-align: right;\n",
       "    }\n",
       "</style>\n",
       "<table border=\"1\" class=\"dataframe\">\n",
       "  <thead>\n",
       "    <tr style=\"text-align: right;\">\n",
       "      <th></th>\n",
       "      <th>Data</th>\n",
       "    </tr>\n",
       "  </thead>\n",
       "  <tbody>\n",
       "    <tr>\n",
       "      <th>0</th>\n",
       "      <td>NaN</td>\n",
       "    </tr>\n",
       "    <tr>\n",
       "      <th>1</th>\n",
       "      <td>1.5</td>\n",
       "    </tr>\n",
       "    <tr>\n",
       "      <th>2</th>\n",
       "      <td>2.5</td>\n",
       "    </tr>\n",
       "    <tr>\n",
       "      <th>3</th>\n",
       "      <td>3.5</td>\n",
       "    </tr>\n",
       "    <tr>\n",
       "      <th>4</th>\n",
       "      <td>4.5</td>\n",
       "    </tr>\n",
       "  </tbody>\n",
       "</table>\n",
       "</div>"
      ],
      "text/plain": [
       "   Data\n",
       "0   NaN\n",
       "1   1.5\n",
       "2   2.5\n",
       "3   3.5\n",
       "4   4.5"
      ]
     },
     "execution_count": 51,
     "metadata": {},
     "output_type": "execute_result"
    }
   ],
   "source": [
    "df2.rolling(window=2).mean() #Takes mean of each two element like mean of index(-1) and index(0) is NaN\n",
    "#then mean of index(0) and index(1) is 1.5"
   ]
  },
  {
   "cell_type": "markdown",
   "id": "569135fc-fdde-434a-abc2-f466c8af1301",
   "metadata": {},
   "source": [
    "Q7. Write a code to print only the current month and year at the time of answering this question.\n",
    "[Hint: Use pandas.datetime function]"
   ]
  },
  {
   "cell_type": "code",
   "execution_count": 18,
   "id": "9dcbed83-c9d9-4f62-9b98-174f66d5fbe0",
   "metadata": {},
   "outputs": [],
   "source": [
    "import pandas as pd\n",
    "from datetime import datetime\n",
    "\n",
    "today = datetime.now()\n",
    "df=pd.DataFrame({\"Today\":[today]})\n",
    "# df=pd.DataFrame({\"Date\":today})\n",
    "# print(f\"Month = {df[\"Date\"].dt.year}\")\n",
    "df\n",
    "df[\"Month\"]=df[\"Today\"].dt.month\n",
    "df[\"Year\"]=df[\"Today\"].dt.year"
   ]
  },
  {
   "cell_type": "code",
   "execution_count": 19,
   "id": "2acfa235-f0f7-4f6e-b1bb-1e556d8d8ed5",
   "metadata": {},
   "outputs": [
    {
     "data": {
      "text/html": [
       "<div>\n",
       "<style scoped>\n",
       "    .dataframe tbody tr th:only-of-type {\n",
       "        vertical-align: middle;\n",
       "    }\n",
       "\n",
       "    .dataframe tbody tr th {\n",
       "        vertical-align: top;\n",
       "    }\n",
       "\n",
       "    .dataframe thead th {\n",
       "        text-align: right;\n",
       "    }\n",
       "</style>\n",
       "<table border=\"1\" class=\"dataframe\">\n",
       "  <thead>\n",
       "    <tr style=\"text-align: right;\">\n",
       "      <th></th>\n",
       "      <th>Today</th>\n",
       "      <th>Month</th>\n",
       "      <th>Year</th>\n",
       "    </tr>\n",
       "  </thead>\n",
       "  <tbody>\n",
       "    <tr>\n",
       "      <th>0</th>\n",
       "      <td>2023-02-26 11:25:45.646930</td>\n",
       "      <td>2</td>\n",
       "      <td>2023</td>\n",
       "    </tr>\n",
       "  </tbody>\n",
       "</table>\n",
       "</div>"
      ],
      "text/plain": [
       "                       Today  Month  Year\n",
       "0 2023-02-26 11:25:45.646930      2  2023"
      ]
     },
     "execution_count": 19,
     "metadata": {},
     "output_type": "execute_result"
    }
   ],
   "source": [
    "df"
   ]
  },
  {
   "cell_type": "markdown",
   "id": "bf2f0454-d7e5-49f7-8c3f-d681d20641e1",
   "metadata": {},
   "source": [
    "Q8. Write a Python program that takes in two dates as input (in the format YYYY-MM-DD) and\n",
    "calculates the difference between them in days, hours, and minutes using Pandas time delta. The\n",
    "program should prompt the user to enter the dates and display the result."
   ]
  },
  {
   "cell_type": "code",
   "execution_count": 26,
   "id": "02ccbb08-c8ff-4273-ba76-b2465e1e8982",
   "metadata": {},
   "outputs": [
    {
     "name": "stdin",
     "output_type": "stream",
     "text": [
      "Enter Date - 1 :  2023-02-25\n",
      "Enter Date - 2 :  2023-06-12\n"
     ]
    },
    {
     "name": "stdout",
     "output_type": "stream",
     "text": [
      "107 days, 0:00:00\n"
     ]
    }
   ],
   "source": [
    "from datetime import datetime\n",
    "date1=input(\"Enter Date - 1 : \")\n",
    "date2=input(\"Enter Date - 2 : \")\n",
    "d1=datetime(year=int(date1[0:4]),month=int(date1[5:7]),day=int(date1[8:10]))\n",
    "d2=datetime(year=int(date2[0:4]),month=int(date2[5:7]),day=int(date2[8:10]))\n",
    "print(d2-d1)\n"
   ]
  },
  {
   "cell_type": "markdown",
   "id": "d876c100-c242-43eb-aee6-f388e4056993",
   "metadata": {},
   "source": [
    "Q9. Write a Python program that reads a CSV file containing categorical data and converts a specified\n",
    "column to a categorical data type. The program should prompt the user to enter the file path, column\n",
    "name, and category order, and then display the sorted data."
   ]
  },
  {
   "cell_type": "code",
   "execution_count": 31,
   "id": "f8c77363-c394-4f80-993b-4b529431a53b",
   "metadata": {},
   "outputs": [
    {
     "name": "stdin",
     "output_type": "stream",
     "text": [
      "Enter Path :  https://raw.githubusercontent.com/datasciencedojo/datasets/master/titanic.csv\n",
      "Column Name :  Sex\n",
      "Order (1) for ascending Order (2) for descending :  1\n"
     ]
    },
    {
     "data": {
      "text/plain": [
       "['male', 'female', 'female', 'female', 'male', ..., 'male', 'female', 'female', 'male', 'male']\n",
       "Length: 891\n",
       "Categories (2, object): ['female', 'male']"
      ]
     },
     "execution_count": 31,
     "metadata": {},
     "output_type": "execute_result"
    }
   ],
   "source": [
    "path=input(\"Enter Path : \")\n",
    "df=pd.read_csv(path)\n",
    "column_name=input(\"Column Name : \")\n",
    "order=int(input(\"Order (1) for ascending Order (2) for descending : \"))\n",
    "data=pd.Categorical(df[column_name])\n",
    "data"
   ]
  },
  {
   "cell_type": "markdown",
   "id": "aeddbd03-4269-4e78-afda-d65e76a3e33f",
   "metadata": {},
   "source": [
    "Q10. Write a Python program that reads a CSV file containing sales data for different products and\n",
    "visualizes the data using a stacked bar chart to show the sales of each product category over time. The\n",
    "program should prompt the user to enter the file path and display the chart."
   ]
  },
  {
   "cell_type": "code",
   "execution_count": 32,
   "id": "62098538-c51b-4da5-96a7-841f50e2ebd3",
   "metadata": {},
   "outputs": [],
   "source": [
    "df=pd.DataFrame({\"Month\":[\"Jan\",\"Feb\",\"March\",\"April\"],\"Sales\":[25,12,36,98]})"
   ]
  },
  {
   "cell_type": "code",
   "execution_count": 33,
   "id": "609fcb28-b24e-484b-94e8-c2a9276af38c",
   "metadata": {},
   "outputs": [
    {
     "data": {
      "text/html": [
       "<div>\n",
       "<style scoped>\n",
       "    .dataframe tbody tr th:only-of-type {\n",
       "        vertical-align: middle;\n",
       "    }\n",
       "\n",
       "    .dataframe tbody tr th {\n",
       "        vertical-align: top;\n",
       "    }\n",
       "\n",
       "    .dataframe thead th {\n",
       "        text-align: right;\n",
       "    }\n",
       "</style>\n",
       "<table border=\"1\" class=\"dataframe\">\n",
       "  <thead>\n",
       "    <tr style=\"text-align: right;\">\n",
       "      <th></th>\n",
       "      <th>Month</th>\n",
       "      <th>Sales</th>\n",
       "    </tr>\n",
       "  </thead>\n",
       "  <tbody>\n",
       "    <tr>\n",
       "      <th>0</th>\n",
       "      <td>Jan</td>\n",
       "      <td>25</td>\n",
       "    </tr>\n",
       "    <tr>\n",
       "      <th>1</th>\n",
       "      <td>Feb</td>\n",
       "      <td>12</td>\n",
       "    </tr>\n",
       "    <tr>\n",
       "      <th>2</th>\n",
       "      <td>March</td>\n",
       "      <td>36</td>\n",
       "    </tr>\n",
       "    <tr>\n",
       "      <th>3</th>\n",
       "      <td>April</td>\n",
       "      <td>98</td>\n",
       "    </tr>\n",
       "  </tbody>\n",
       "</table>\n",
       "</div>"
      ],
      "text/plain": [
       "   Month  Sales\n",
       "0    Jan     25\n",
       "1    Feb     12\n",
       "2  March     36\n",
       "3  April     98"
      ]
     },
     "execution_count": 33,
     "metadata": {},
     "output_type": "execute_result"
    }
   ],
   "source": [
    "df"
   ]
  },
  {
   "cell_type": "code",
   "execution_count": 43,
   "id": "e231a51f-2f80-4d2f-939f-b1685c595cae",
   "metadata": {},
   "outputs": [],
   "source": [
    "srs=pd.Series(df[\"Sales\"])\n",
    "srs.index=df[\"Month\"].to_list()"
   ]
  },
  {
   "cell_type": "code",
   "execution_count": 44,
   "id": "50b2adb8-d4ed-4028-a02f-71cbea55f0ce",
   "metadata": {},
   "outputs": [
    {
     "data": {
      "text/plain": [
       "Jan      25\n",
       "Feb      12\n",
       "March    36\n",
       "April    98\n",
       "Name: Sales, dtype: int64"
      ]
     },
     "execution_count": 44,
     "metadata": {},
     "output_type": "execute_result"
    }
   ],
   "source": [
    "srs"
   ]
  },
  {
   "cell_type": "code",
   "execution_count": 45,
   "id": "6c1782ec-3410-43e8-8a20-dae87b4fd4a8",
   "metadata": {},
   "outputs": [
    {
     "data": {
      "text/plain": [
       "<AxesSubplot: >"
      ]
     },
     "execution_count": 45,
     "metadata": {},
     "output_type": "execute_result"
    },
    {
     "data": {
      "image/png": "[encoded data removed]",
      "text/plain": [
       "<Figure size 640x480 with 1 Axes>"
      ]
     },
     "metadata": {},
     "output_type": "display_data"
    }
   ],
   "source": [
    "srs.plot()"
   ]
  },
  {
   "cell_type": "markdown",
   "id": "3685f66d-89af-4194-be89-a834f5595d8d",
   "metadata": {},
   "source": [
    "Q11. You are given a CSV file containing student data that includes the student ID and their test score. Write\n",
    "a Python program that reads the CSV file, calculates the mean, median, and mode of the test scores, and\n",
    "displays the results in a table."
   ]
  },
  {
   "cell_type": "code",
   "execution_count": 57,
   "id": "442bfa59-899b-4add-8ae1-2ea7b0224cd5",
   "metadata": {},
   "outputs": [],
   "source": [
    "import pandas as pd\n",
    "df=pd.read_csv(\"data.csv\")"
   ]
  },
  {
   "cell_type": "code",
   "execution_count": 58,
   "id": "a71ee2b3-b8d8-4d41-a0c8-c0f3c57857de",
   "metadata": {},
   "outputs": [],
   "source": [
    "df.columns=[\"Id\",\"Marks\"]"
   ]
  },
  {
   "cell_type": "code",
   "execution_count": 59,
   "id": "14e7b7a1-ff0e-4c85-a4ab-b13b0ce92ef4",
   "metadata": {},
   "outputs": [
    {
     "data": {
      "text/html": [
       "<div>\n",
       "<style scoped>\n",
       "    .dataframe tbody tr th:only-of-type {\n",
       "        vertical-align: middle;\n",
       "    }\n",
       "\n",
       "    .dataframe tbody tr th {\n",
       "        vertical-align: top;\n",
       "    }\n",
       "\n",
       "    .dataframe thead th {\n",
       "        text-align: right;\n",
       "    }\n",
       "</style>\n",
       "<table border=\"1\" class=\"dataframe\">\n",
       "  <thead>\n",
       "    <tr style=\"text-align: right;\">\n",
       "      <th></th>\n",
       "      <th>Id</th>\n",
       "      <th>Marks</th>\n",
       "    </tr>\n",
       "  </thead>\n",
       "  <tbody>\n",
       "    <tr>\n",
       "      <th>0</th>\n",
       "      <td>1</td>\n",
       "      <td>85</td>\n",
       "    </tr>\n",
       "    <tr>\n",
       "      <th>1</th>\n",
       "      <td>2</td>\n",
       "      <td>90</td>\n",
       "    </tr>\n",
       "    <tr>\n",
       "      <th>2</th>\n",
       "      <td>3</td>\n",
       "      <td>80</td>\n",
       "    </tr>\n",
       "    <tr>\n",
       "      <th>3</th>\n",
       "      <td>4</td>\n",
       "      <td>75</td>\n",
       "    </tr>\n",
       "    <tr>\n",
       "      <th>4</th>\n",
       "      <td>5</td>\n",
       "      <td>85</td>\n",
       "    </tr>\n",
       "    <tr>\n",
       "      <th>5</th>\n",
       "      <td>6</td>\n",
       "      <td>82</td>\n",
       "    </tr>\n",
       "    <tr>\n",
       "      <th>6</th>\n",
       "      <td>7</td>\n",
       "      <td>78</td>\n",
       "    </tr>\n",
       "    <tr>\n",
       "      <th>7</th>\n",
       "      <td>8</td>\n",
       "      <td>85</td>\n",
       "    </tr>\n",
       "    <tr>\n",
       "      <th>8</th>\n",
       "      <td>9</td>\n",
       "      <td>90</td>\n",
       "    </tr>\n",
       "    <tr>\n",
       "      <th>9</th>\n",
       "      <td>10</td>\n",
       "      <td>85</td>\n",
       "    </tr>\n",
       "  </tbody>\n",
       "</table>\n",
       "</div>"
      ],
      "text/plain": [
       "   Id  Marks\n",
       "0   1     85\n",
       "1   2     90\n",
       "2   3     80\n",
       "3   4     75\n",
       "4   5     85\n",
       "5   6     82\n",
       "6   7     78\n",
       "7   8     85\n",
       "8   9     90\n",
       "9  10     85"
      ]
     },
     "execution_count": 59,
     "metadata": {},
     "output_type": "execute_result"
    }
   ],
   "source": [
    "df"
   ]
  },
  {
   "cell_type": "code",
   "execution_count": 68,
   "id": "54437135-b3c4-4656-89dd-40b1955a5e87",
   "metadata": {},
   "outputs": [
    {
     "data": {
      "text/plain": [
       "83.5"
      ]
     },
     "execution_count": 68,
     "metadata": {},
     "output_type": "execute_result"
    }
   ],
   "source": [
    "df[\"Marks\"].mean()"
   ]
  },
  {
   "cell_type": "code",
   "execution_count": 66,
   "id": "8c9b27f9-4f06-4d18-994b-bf978bd193e0",
   "metadata": {},
   "outputs": [
    {
     "data": {
      "text/plain": [
       "0    85\n",
       "Name: Marks, dtype: int64"
      ]
     },
     "execution_count": 66,
     "metadata": {},
     "output_type": "execute_result"
    }
   ],
   "source": [
    "df[\"Marks\"].mode()"
   ]
  },
  {
   "cell_type": "code",
   "execution_count": 65,
   "id": "3450a1e5-d68b-4949-ab1e-78d73a1acbf0",
   "metadata": {},
   "outputs": [
    {
     "data": {
      "text/plain": [
       "85.0"
      ]
     },
     "execution_count": 65,
     "metadata": {},
     "output_type": "execute_result"
    }
   ],
   "source": [
    "df[\"Marks\"].median()"
   ]
  },
  {
   "cell_type": "code",
   "execution_count": 69,
   "id": "438358e6-112b-444e-9948-d14454e49954",
   "metadata": {},
   "outputs": [
    {
     "data": {
      "text/html": [
       "<div>\n",
       "<style scoped>\n",
       "    .dataframe tbody tr th:only-of-type {\n",
       "        vertical-align: middle;\n",
       "    }\n",
       "\n",
       "    .dataframe tbody tr th {\n",
       "        vertical-align: top;\n",
       "    }\n",
       "\n",
       "    .dataframe thead th {\n",
       "        text-align: right;\n",
       "    }\n",
       "</style>\n",
       "<table border=\"1\" class=\"dataframe\">\n",
       "  <thead>\n",
       "    <tr style=\"text-align: right;\">\n",
       "      <th></th>\n",
       "      <th>Id</th>\n",
       "      <th>Marks</th>\n",
       "    </tr>\n",
       "  </thead>\n",
       "  <tbody>\n",
       "    <tr>\n",
       "      <th>count</th>\n",
       "      <td>10.00000</td>\n",
       "      <td>10.000000</td>\n",
       "    </tr>\n",
       "    <tr>\n",
       "      <th>mean</th>\n",
       "      <td>5.50000</td>\n",
       "      <td>83.500000</td>\n",
       "    </tr>\n",
       "    <tr>\n",
       "      <th>std</th>\n",
       "      <td>3.02765</td>\n",
       "      <td>4.836206</td>\n",
       "    </tr>\n",
       "    <tr>\n",
       "      <th>min</th>\n",
       "      <td>1.00000</td>\n",
       "      <td>75.000000</td>\n",
       "    </tr>\n",
       "    <tr>\n",
       "      <th>25%</th>\n",
       "      <td>3.25000</td>\n",
       "      <td>80.500000</td>\n",
       "    </tr>\n",
       "    <tr>\n",
       "      <th>50%</th>\n",
       "      <td>5.50000</td>\n",
       "      <td>85.000000</td>\n",
       "    </tr>\n",
       "    <tr>\n",
       "      <th>75%</th>\n",
       "      <td>7.75000</td>\n",
       "      <td>85.000000</td>\n",
       "    </tr>\n",
       "    <tr>\n",
       "      <th>max</th>\n",
       "      <td>10.00000</td>\n",
       "      <td>90.000000</td>\n",
       "    </tr>\n",
       "  </tbody>\n",
       "</table>\n",
       "</div>"
      ],
      "text/plain": [
       "             Id      Marks\n",
       "count  10.00000  10.000000\n",
       "mean    5.50000  83.500000\n",
       "std     3.02765   4.836206\n",
       "min     1.00000  75.000000\n",
       "25%     3.25000  80.500000\n",
       "50%     5.50000  85.000000\n",
       "75%     7.75000  85.000000\n",
       "max    10.00000  90.000000"
      ]
     },
     "execution_count": 69,
     "metadata": {},
     "output_type": "execute_result"
    }
   ],
   "source": [
    "df.describe()"
   ]
  },
  {
   "cell_type": "code",
   "execution_count": null,
   "id": "227f5416-86ba-4ac3-a7b4-96a98a997237",
   "metadata": {},
   "outputs": [],
   "source": []
  }
 ],
 "metadata": {
  "kernelspec": {
   "display_name": "Python 3 (ipykernel)",
   "language": "python",
   "name": "python3"
  },
  "language_info": {
   "codemirror_mode": {
    "name": "ipython",
    "version": 3
   },
   "file_extension": ".py",
   "mimetype": "text/x-python",
   "name": "python",
   "nbconvert_exporter": "python",
   "pygments_lexer": "ipython3",
   "version": "3.10.8"
  }
 },
 "nbformat": 4,
 "nbformat_minor": 5
}
