{
 "cells": [
  {
   "cell_type": "markdown",
   "id": "484ae0dc-c8a0-4c63-80e4-f43f89ce9023",
   "metadata": {},
   "source": [
    "Q1. Pearson correlation coefficient is a measure of the linear relationship between two variables. Suppose\n",
    "you have collected data on the amount of time students spend studying for an exam and their final exam\n",
    "scores. Calculate the Pearson correlation coefficient between these two variables and interpret the result."
   ]
  },
  {
   "cell_type": "code",
   "execution_count": 1,
   "id": "e081e3d4-bc60-4cf4-8b92-32491ef99e4d",
   "metadata": {},
   "outputs": [],
   "source": [
    "#To calculate the Pearson correlation coefficient between the amount of time students spend studying for an exam and their final exam scores, you need to follow these steps:\n",
    "\n",
    "#Calculate the mean of the time spent studying and the mean of the exam scores.\n",
    "#Calculate the standard deviation of the time spent studying and the standard deviation of the exam scores.\n",
    "#Calculate the covariance between the time spent studying and the exam scores.\n",
    "#Calculate the Pearson correlation coefficient using the formula:\n",
    "#r = covariance / (standard deviation of time spent studying * standard deviation of exam scores)\n",
    "\n",
    "#The Pearson correlation coefficient ranges from -1 to 1, where a value of 1 indicates a perfect positive correlation (i.e., when one variable \n",
    "#increases, the other variable also increases), a value of -1 indicates a perfect negative correlation (i.e., when one variable increases, the \n",
    "#other variable decreases), and a value of 0 indicates no correlation (i.e., there is no relationship between the two variables).\n",
    "\n",
    "#Interpreting the result depends on the value of the Pearson correlation coefficient you obtain. If the value is close to 1, it suggests\n",
    "#that there is a strong positive correlation between the amount of time spent studying and the exam scores, meaning that students who study more \n",
    "#tend to perform better on the exam."
   ]
  },
  {
   "cell_type": "markdown",
   "id": "befcf334-aa36-4371-9660-ef1d6f4b22bb",
   "metadata": {},
   "source": [
    "Q2. Spearman's rank correlation is a measure of the monotonic relationship between two variables.\n",
    "Suppose you have collected data on the amount of sleep individuals get each night and their overall job\n",
    "satisfaction level on a scale of 1 to 10. Calculate the Spearman's rank correlation between these two\n",
    "variables and interpret the result."
   ]
  },
  {
   "cell_type": "code",
   "execution_count": 3,
   "id": "e3eaf9e3-cc5f-44ca-abc6-42d03dddccee",
   "metadata": {},
   "outputs": [],
   "source": [
    "#To calculate the Spearman's rank correlation, we need to first rank the observations for each variable and then calculate \n",
    "#the correlation coefficient based on the ranked values.\n",
    "\n",
    "#Suppose we have the following data:\n",
    "\n",
    "#Amount of Sleep\tJob Satisfaction\n",
    "#8\t7\n",
    "#6\t5\n",
    "#7\t6\n",
    "#5\t4\n",
    "#9\t8\n",
    "#7\t6\n",
    "#8\t9\n",
    "#6\t5"
   ]
  },
  {
   "cell_type": "code",
   "execution_count": 5,
   "id": "3c07add4-ff71-4896-b6d0-579b69517d67",
   "metadata": {},
   "outputs": [
    {
     "data": {
      "text/html": [
       "<div>\n",
       "<style scoped>\n",
       "    .dataframe tbody tr th:only-of-type {\n",
       "        vertical-align: middle;\n",
       "    }\n",
       "\n",
       "    .dataframe tbody tr th {\n",
       "        vertical-align: top;\n",
       "    }\n",
       "\n",
       "    .dataframe thead th {\n",
       "        text-align: right;\n",
       "    }\n",
       "</style>\n",
       "<table border=\"1\" class=\"dataframe\">\n",
       "  <thead>\n",
       "    <tr style=\"text-align: right;\">\n",
       "      <th></th>\n",
       "      <th>Sleep</th>\n",
       "      <th>Satisfaction</th>\n",
       "    </tr>\n",
       "  </thead>\n",
       "  <tbody>\n",
       "    <tr>\n",
       "      <th>Sleep</th>\n",
       "      <td>1.000000</td>\n",
       "      <td>0.957073</td>\n",
       "    </tr>\n",
       "    <tr>\n",
       "      <th>Satisfaction</th>\n",
       "      <td>0.957073</td>\n",
       "      <td>1.000000</td>\n",
       "    </tr>\n",
       "  </tbody>\n",
       "</table>\n",
       "</div>"
      ],
      "text/plain": [
       "                 Sleep  Satisfaction\n",
       "Sleep         1.000000      0.957073\n",
       "Satisfaction  0.957073      1.000000"
      ]
     },
     "execution_count": 5,
     "metadata": {},
     "output_type": "execute_result"
    }
   ],
   "source": [
    "import pandas as pd\n",
    "df=pd.DataFrame({\"Sleep\":[8,6,7,5,9,7,8,6],\"Satisfaction\":[7,5,6,4,8,6,9,5]})\n",
    "df.corr(method='spearman')"
   ]
  },
  {
   "cell_type": "code",
   "execution_count": 6,
   "id": "07b1d5e5-b92f-46d7-ad7e-acb5003086d9",
   "metadata": {},
   "outputs": [],
   "source": [
    "#This indicates that both are positveliy correlated so \n",
    "#So result or conlcusion is more the sleep more is job satisfaction"
   ]
  },
  {
   "cell_type": "markdown",
   "id": "064bc784-2366-4c0d-8425-26048fb3af48",
   "metadata": {},
   "source": [
    "Q3. Suppose you are conducting a study to examine the relationship between the number of hours of\n",
    "exercise per week and body mass index (BMI) in a sample of adults. You collected data on both variables\n",
    "for 50 participants. Calculate the Pearson correlation coefficient and the Spearman's rank correlation\n",
    "between these two variables and compare the results."
   ]
  },
  {
   "cell_type": "code",
   "execution_count": 7,
   "id": "99096aac-c231-4eed-a972-be3631f1e78f",
   "metadata": {},
   "outputs": [
    {
     "data": {
      "text/html": [
       "<div>\n",
       "<style scoped>\n",
       "    .dataframe tbody tr th:only-of-type {\n",
       "        vertical-align: middle;\n",
       "    }\n",
       "\n",
       "    .dataframe tbody tr th {\n",
       "        vertical-align: top;\n",
       "    }\n",
       "\n",
       "    .dataframe thead th {\n",
       "        text-align: right;\n",
       "    }\n",
       "</style>\n",
       "<table border=\"1\" class=\"dataframe\">\n",
       "  <thead>\n",
       "    <tr style=\"text-align: right;\">\n",
       "      <th></th>\n",
       "      <th>Exercise</th>\n",
       "      <th>BMI</th>\n",
       "    </tr>\n",
       "  </thead>\n",
       "  <tbody>\n",
       "    <tr>\n",
       "      <th>Exercise</th>\n",
       "      <td>1.000000</td>\n",
       "      <td>-0.278834</td>\n",
       "    </tr>\n",
       "    <tr>\n",
       "      <th>BMI</th>\n",
       "      <td>-0.278834</td>\n",
       "      <td>1.000000</td>\n",
       "    </tr>\n",
       "  </tbody>\n",
       "</table>\n",
       "</div>"
      ],
      "text/plain": [
       "          Exercise       BMI\n",
       "Exercise  1.000000 -0.278834\n",
       "BMI      -0.278834  1.000000"
      ]
     },
     "execution_count": 7,
     "metadata": {},
     "output_type": "execute_result"
    }
   ],
   "source": [
    "import pandas as pd\n",
    "df=pd.DataFrame({\"Exercise\":[8,6,7,5,9,7,8,6],\"BMI\":[16.5,18,23,25,24,23.5,17.5,20]})\n",
    "df.corr(method='spearman')"
   ]
  },
  {
   "cell_type": "code",
   "execution_count": 8,
   "id": "3de3091b-8554-4ad9-b679-092109cc9a6b",
   "metadata": {},
   "outputs": [
    {
     "data": {
      "text/html": [
       "<div>\n",
       "<style scoped>\n",
       "    .dataframe tbody tr th:only-of-type {\n",
       "        vertical-align: middle;\n",
       "    }\n",
       "\n",
       "    .dataframe tbody tr th {\n",
       "        vertical-align: top;\n",
       "    }\n",
       "\n",
       "    .dataframe thead th {\n",
       "        text-align: right;\n",
       "    }\n",
       "</style>\n",
       "<table border=\"1\" class=\"dataframe\">\n",
       "  <thead>\n",
       "    <tr style=\"text-align: right;\">\n",
       "      <th></th>\n",
       "      <th>Exercise</th>\n",
       "      <th>BMI</th>\n",
       "    </tr>\n",
       "  </thead>\n",
       "  <tbody>\n",
       "    <tr>\n",
       "      <th>Exercise</th>\n",
       "      <td>1.000000</td>\n",
       "      <td>-0.196471</td>\n",
       "    </tr>\n",
       "    <tr>\n",
       "      <th>BMI</th>\n",
       "      <td>-0.196471</td>\n",
       "      <td>1.000000</td>\n",
       "    </tr>\n",
       "  </tbody>\n",
       "</table>\n",
       "</div>"
      ],
      "text/plain": [
       "          Exercise       BMI\n",
       "Exercise  1.000000 -0.196471\n",
       "BMI      -0.196471  1.000000"
      ]
     },
     "execution_count": 8,
     "metadata": {},
     "output_type": "execute_result"
    }
   ],
   "source": [
    "df.corr(method='pearson')"
   ]
  },
  {
   "cell_type": "code",
   "execution_count": 9,
   "id": "05172cd9-15e4-40a1-b460-3e0bccc12990",
   "metadata": {},
   "outputs": [],
   "source": [
    "#It indicates exercise and BMI are not directly related both gives almost same conlcusion but spearson says both are more negatively related\n",
    "#Than given by pearson"
   ]
  },
  {
   "cell_type": "markdown",
   "id": "1d893361-3b5e-4530-a1bd-a981bb0c72cb",
   "metadata": {},
   "source": [
    "Q4. A researcher is interested in examining the relationship between the number of hours individuals\n",
    "spend watching television per day and their level of physical activity. The researcher collected data on\n",
    "both variables from a sample of 50 participants. Calculate the Pearson correlation coefficient between\n",
    "these two variables."
   ]
  },
  {
   "cell_type": "code",
   "execution_count": 11,
   "id": "9d63523d-67a2-463c-8144-3539f0ce5a47",
   "metadata": {},
   "outputs": [
    {
     "data": {
      "text/html": [
       "<div>\n",
       "<style scoped>\n",
       "    .dataframe tbody tr th:only-of-type {\n",
       "        vertical-align: middle;\n",
       "    }\n",
       "\n",
       "    .dataframe tbody tr th {\n",
       "        vertical-align: top;\n",
       "    }\n",
       "\n",
       "    .dataframe thead th {\n",
       "        text-align: right;\n",
       "    }\n",
       "</style>\n",
       "<table border=\"1\" class=\"dataframe\">\n",
       "  <thead>\n",
       "    <tr style=\"text-align: right;\">\n",
       "      <th></th>\n",
       "      <th>WatchTime</th>\n",
       "      <th>PhysicalActivityTime</th>\n",
       "    </tr>\n",
       "  </thead>\n",
       "  <tbody>\n",
       "    <tr>\n",
       "      <th>WatchTime</th>\n",
       "      <td>1.000000</td>\n",
       "      <td>-0.408248</td>\n",
       "    </tr>\n",
       "    <tr>\n",
       "      <th>PhysicalActivityTime</th>\n",
       "      <td>-0.408248</td>\n",
       "      <td>1.000000</td>\n",
       "    </tr>\n",
       "  </tbody>\n",
       "</table>\n",
       "</div>"
      ],
      "text/plain": [
       "                      WatchTime  PhysicalActivityTime\n",
       "WatchTime              1.000000             -0.408248\n",
       "PhysicalActivityTime  -0.408248              1.000000"
      ]
     },
     "execution_count": 11,
     "metadata": {},
     "output_type": "execute_result"
    }
   ],
   "source": [
    "import pandas as pd\n",
    "df=pd.DataFrame({\"WatchTime\":[8,6,7,5,9,7,8,6],\"PhysicalActivityTime\":[10,15,12,7,4,5,6,9]})\n",
    "df.corr(method='pearson')"
   ]
  },
  {
   "cell_type": "code",
   "execution_count": 13,
   "id": "bc87699c-2e57-4e0d-847e-d210430e52ac",
   "metadata": {},
   "outputs": [],
   "source": [
    "#This indicates that both are not related directly but are related inversely or negatively related"
   ]
  },
  {
   "cell_type": "markdown",
   "id": "9b582ffa-5d6d-4767-b9a3-0a2dabc6297b",
   "metadata": {},
   "source": [
    "Q6. A company is interested in examining the relationship between the number of sales calls made per day\n",
    "and the number of sales made per week. The company collected data on both variables from a sample of\n",
    "30 sales representatives. Calculate the Pearson correlation coefficient between these two variables."
   ]
  },
  {
   "cell_type": "code",
   "execution_count": 14,
   "id": "b44d06ea-21f0-41b2-9e27-077c790e0d30",
   "metadata": {},
   "outputs": [
    {
     "data": {
      "text/html": [
       "<div>\n",
       "<style scoped>\n",
       "    .dataframe tbody tr th:only-of-type {\n",
       "        vertical-align: middle;\n",
       "    }\n",
       "\n",
       "    .dataframe tbody tr th {\n",
       "        vertical-align: top;\n",
       "    }\n",
       "\n",
       "    .dataframe thead th {\n",
       "        text-align: right;\n",
       "    }\n",
       "</style>\n",
       "<table border=\"1\" class=\"dataframe\">\n",
       "  <thead>\n",
       "    <tr style=\"text-align: right;\">\n",
       "      <th></th>\n",
       "      <th>Calls</th>\n",
       "      <th>Sales</th>\n",
       "    </tr>\n",
       "  </thead>\n",
       "  <tbody>\n",
       "    <tr>\n",
       "      <th>Calls</th>\n",
       "      <td>1.000000</td>\n",
       "      <td>0.989638</td>\n",
       "    </tr>\n",
       "    <tr>\n",
       "      <th>Sales</th>\n",
       "      <td>0.989638</td>\n",
       "      <td>1.000000</td>\n",
       "    </tr>\n",
       "  </tbody>\n",
       "</table>\n",
       "</div>"
      ],
      "text/plain": [
       "          Calls     Sales\n",
       "Calls  1.000000  0.989638\n",
       "Sales  0.989638  1.000000"
      ]
     },
     "execution_count": 14,
     "metadata": {},
     "output_type": "execute_result"
    }
   ],
   "source": [
    "import pandas as pd\n",
    "df=pd.DataFrame({\"Calls\":[150,475,845,120,236,749],\"Sales\":[1200,4000,9850,1000,1500,8000]})\n",
    "df.corr(method='pearson')"
   ]
  },
  {
   "cell_type": "code",
   "execution_count": 15,
   "id": "2faec053-f453-4e6c-8931-1c99ee79fa5a",
   "metadata": {},
   "outputs": [],
   "source": [
    "#This indicates both are directly proportion or directly corelated \n",
    "#Both are positvely related"
   ]
  },
  {
   "cell_type": "code",
   "execution_count": null,
   "id": "03566556-e0c8-422b-bffa-f4911e65f918",
   "metadata": {},
   "outputs": [],
   "source": [
    "s"
   ]
  }
 ],
 "metadata": {
  "kernelspec": {
   "display_name": "Python 3 (ipykernel)",
   "language": "python",
   "name": "python3"
  },
  "language_info": {
   "codemirror_mode": {
    "name": "ipython",
    "version": 3
   },
   "file_extension": ".py",
   "mimetype": "text/x-python",
   "name": "python",
   "nbconvert_exporter": "python",
   "pygments_lexer": "ipython3",
   "version": "3.10.8"
  }
 },
 "nbformat": 4,
 "nbformat_minor": 5
}
