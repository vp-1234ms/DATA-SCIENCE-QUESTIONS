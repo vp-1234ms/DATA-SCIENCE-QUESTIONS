{
 "cells": [
  {
   "cell_type": "code",
   "execution_count": 7,
   "id": "e0e1e6dd-9517-4b1f-8af6-ea24967e07c7",
   "metadata": {},
   "outputs": [
    {
     "name": "stdout",
     "output_type": "stream",
     "text": [
      "7\n",
      "3\n"
     ]
    }
   ],
   "source": [
    "t=(1,1,1,1,1,3,4,5,2,5,5)\n",
    "print(t.index(5))\n",
    "print(t.count(5))"
   ]
  },
  {
   "cell_type": "code",
   "execution_count": 4,
   "id": "33fc36a7-691a-4d21-a7ce-83b51b00039b",
   "metadata": {},
   "outputs": [
    {
     "data": {
      "text/plain": [
       "7"
      ]
     },
     "execution_count": 4,
     "metadata": {},
     "output_type": "execute_result"
    }
   ],
   "source": [
    "t.index(5)"
   ]
  },
  {
   "cell_type": "code",
   "execution_count": 5,
   "id": "486a9645-1c2b-4cb8-b856-bcf4e28c4536",
   "metadata": {},
   "outputs": [
    {
     "data": {
      "text/plain": [
       "3"
      ]
     },
     "execution_count": 5,
     "metadata": {},
     "output_type": "execute_result"
    }
   ],
   "source": [
    "t.count(5)"
   ]
  },
  {
   "cell_type": "code",
   "execution_count": 8,
   "id": "a554acfb-cca5-4bc9-95dc-7fe28a6e5249",
   "metadata": {},
   "outputs": [
    {
     "name": "stdout",
     "output_type": "stream",
     "text": [
      "[1, 2, 3, 4]\n"
     ]
    }
   ],
   "source": [
    "lst = [1, 1, 1, 2, 1, 3, 1, 4, 2, 1, 2, 2, 2, 3, 2, 4, 3, 1, 3, 2, 3, 3, 3, 4, 4, 1, 4, 2, 4, 3, 4, 4]\n",
    "s=set(lst)\n",
    "lst=list(s)\n",
    "print(lst)"
   ]
  },
  {
   "cell_type": "code",
   "execution_count": 17,
   "id": "b78f0418-ca78-4202-99ac-8cad7d5d063c",
   "metadata": {},
   "outputs": [
    {
     "name": "stdout",
     "output_type": "stream",
     "text": [
      "{1, 2, 3, 4, 5, 6, 8, 9}\n",
      "{1, 2, 3, 4, 5, 6, 8, 9}\n"
     ]
    }
   ],
   "source": [
    "s1={1,3,5,9}\n",
    "s2={2,4,6,8}\n",
    "s1.update(s2)\n",
    "print(s1)\n",
    "s2={2,4,6,8}\n",
    "print(s1.union(s2))"
   ]
  },
  {
   "cell_type": "code",
   "execution_count": 19,
   "id": "02669faf-7567-4793-931d-5419ae423208",
   "metadata": {},
   "outputs": [
    {
     "name": "stdout",
     "output_type": "stream",
     "text": [
      "1\n",
      "2\n",
      "3\n",
      "4\n",
      "5\n",
      "6\n",
      "8\n",
      "9\n"
     ]
    }
   ],
   "source": [
    "for i in s1:\n",
    "    print(i)"
   ]
  },
  {
   "cell_type": "code",
   "execution_count": 21,
   "id": "4fda7b26-095d-4205-9d3d-6183af7e9a18",
   "metadata": {},
   "outputs": [],
   "source": [
    "d={\"a\":1,2:3,4:5,6:7,8:9}\n",
    "d[\"b\"]=10"
   ]
  },
  {
   "cell_type": "code",
   "execution_count": 22,
   "id": "8a42a278-c199-40f8-8994-b416caea23d3",
   "metadata": {},
   "outputs": [
    {
     "data": {
      "text/plain": [
       "{'a': 1, 2: 3, 4: 5, 6: 7, 8: 9, 'b': 10}"
      ]
     },
     "execution_count": 22,
     "metadata": {},
     "output_type": "execute_result"
    }
   ],
   "source": [
    "d"
   ]
  },
  {
   "cell_type": "code",
   "execution_count": 24,
   "id": "d757b9b4-eeb8-4138-95b5-66aeea19ac06",
   "metadata": {},
   "outputs": [],
   "source": [
    "d[5]=45"
   ]
  },
  {
   "cell_type": "code",
   "execution_count": 25,
   "id": "f2fa4d40-08d1-4364-b70a-d608528a11e5",
   "metadata": {},
   "outputs": [
    {
     "data": {
      "text/plain": [
       "{'a': 1, 2: 3, 4: 5, 6: 7, 8: 9, 'b': 10, 5: 45}"
      ]
     },
     "execution_count": 25,
     "metadata": {},
     "output_type": "execute_result"
    }
   ],
   "source": [
    "d"
   ]
  },
  {
   "cell_type": "code",
   "execution_count": 29,
   "id": "7cefd548-af47-4b5b-9f17-c7e9cc58f8f4",
   "metadata": {},
   "outputs": [
    {
     "name": "stdout",
     "output_type": "stream",
     "text": [
      "{'a': 1, 2: 3, 4: 5, 6: 7, 8: 9, 11: {12, 13, 14, 15, 16, 17, 18, 19}}\n"
     ]
    }
   ],
   "source": [
    "d={\"a\":1,2:3,4:5,6:7,8:9}\n",
    "d[11]={12,13,14,15,16,17,18,19}\n",
    "print(d)"
   ]
  },
  {
   "cell_type": "code",
   "execution_count": 27,
   "id": "0fc6c930-6066-4fb4-9762-ea44f22b4ed0",
   "metadata": {},
   "outputs": [],
   "source": [
    "d[11]={12,13,14,15,16,17,18,19}"
   ]
  },
  {
   "cell_type": "code",
   "execution_count": 28,
   "id": "3d96aa2f-3c6e-4da6-bd00-06c81b9aa075",
   "metadata": {},
   "outputs": [
    {
     "data": {
      "text/plain": [
       "{'a': 1, 2: 3, 4: 5, 6: 7, 8: 9, 11: {12, 13, 14, 15, 16, 17, 18, 19}}"
      ]
     },
     "execution_count": 28,
     "metadata": {},
     "output_type": "execute_result"
    }
   ],
   "source": [
    "d"
   ]
  },
  {
   "cell_type": "code",
   "execution_count": 33,
   "id": "012d6b0c-c99a-4c09-b09f-eefc88876350",
   "metadata": {},
   "outputs": [
    {
     "name": "stdout",
     "output_type": "stream",
     "text": [
      "{'Platform': 'Pw Skills', 'Course': 'Data Science Masters', 'topics': ['Python', 'Machine Learning', ' Deep Learning']}\n"
     ]
    }
   ],
   "source": [
    "d={\"Platform\":\"Pw Skills\",\"Course\":\"Data Science Masters\"}\n",
    "d.setdefault(\"topics\",['Python', 'Machine Learning',' Deep Learning'])\n",
    "print(d)"
   ]
  },
  {
   "cell_type": "code",
   "execution_count": 34,
   "id": "a184a28f-5890-4c91-9586-4b93148f34f8",
   "metadata": {},
   "outputs": [
    {
     "name": "stdout",
     "output_type": "stream",
     "text": [
      "{'language': 'Python', 'course': 'Data Science Masters', 'topics': ['Python', 'Machine Learning', ' Deep Learning']}\n"
     ]
    }
   ],
   "source": [
    "dict1 = {'language' : 'Python', 'course': 'Data Science Masters'}\n",
    "dict1.setdefault(\"topics\",['Python', 'Machine Learning',' Deep Learning'])\n",
    "print(dict1)\n"
   ]
  },
  {
   "cell_type": "code",
   "execution_count": 35,
   "id": "2590f2eb-8ec5-483c-8609-587b0dadaa08",
   "metadata": {},
   "outputs": [
    {
     "name": "stdout",
     "output_type": "stream",
     "text": [
      "View -1 Keys : dict_keys(['Sport', 'Teams'])\n",
      "View -2 Values : dict_values(['Cricket', ['India', 'Australia', 'England', 'South Africa', 'Sri Lanka', 'New Zealand']])\n",
      "View -3 Items : dict_items([('Sport', 'Cricket'), ('Teams', ['India', 'Australia', 'England', 'South Africa', 'Sri Lanka', 'New Zealand'])])\n"
     ]
    }
   ],
   "source": [
    "dict1 = {'Sport': 'Cricket' , 'Teams': ['India', 'Australia', 'England', 'South Africa', 'Sri Lanka', 'New Zealand']}\n",
    "print(f\"View -1 Keys : {dict1.keys()}\\nView -2 Values : {dict1.values()}\\nView -3 Items : {dict1.items()}\")"
   ]
  },
  {
   "cell_type": "code",
   "execution_count": 37,
   "id": "4a9cc22b-5a2b-4e47-80d4-e50c3033c3cd",
   "metadata": {},
   "outputs": [
    {
     "data": {
      "text/plain": [
       "[1, 3, 5, 7, 9, 11, 13, 15, 17, 19, 21, 23, 25]"
      ]
     },
     "execution_count": 37,
     "metadata": {},
     "output_type": "execute_result"
    }
   ],
   "source": [
    "def list_of_odd_numbers():\n",
    "    return ([i for i in range(1,26,2)])\n",
    "list_of_odd_numbers()"
   ]
  },
  {
   "cell_type": "code",
   "execution_count": 40,
   "id": "9fad8b42-5a86-4136-b6a2-1bcd08f7c9cb",
   "metadata": {},
   "outputs": [
    {
     "data": {
      "text/plain": [
       "((1, 3, 5, 7, 9), {'a': 2, 'b': 4, 'c': 6, 'd': 8})"
      ]
     },
     "execution_count": 40,
     "metadata": {},
     "output_type": "execute_result"
    }
   ],
   "source": [
    "def func(*args,**kwargs):\n",
    "    return (args,kwargs)\n",
    "func(1,3,5,7,9,a=2,b=4,c=6,d=8)"
   ]
  },
  {
   "cell_type": "code",
   "execution_count": 47,
   "id": "7f0325c7-8a50-4260-866f-ca0532e9938c",
   "metadata": {},
   "outputs": [
    {
     "name": "stdout",
     "output_type": "stream",
     "text": [
      "2\n",
      "4\n",
      "6\n",
      "8\n",
      "10\n"
     ]
    }
   ],
   "source": [
    "lst=[2, 4, 6, 8, 10, 12, 14, 16,18, 20]\n",
    "i=iter(lst)\n",
    "for j in range(0,5):\n",
    "    print(next(i))"
   ]
  },
  {
   "cell_type": "code",
   "execution_count": 63,
   "id": "c8b68b7c-d524-4dad-b337-b71739c6465d",
   "metadata": {},
   "outputs": [
    {
     "name": "stdout",
     "output_type": "stream",
     "text": [
      "0\n",
      "1\n",
      "2\n",
      "3\n",
      "4\n",
      "5\n",
      "6\n",
      "7\n",
      "8\n",
      "9\n"
     ]
    }
   ],
   "source": [
    "def func(a):\n",
    "    for i in range(a):\n",
    "        yield(i)\n",
    "i=iter(func(10))\n",
    "for j in range(10):\n",
    "    print(next(i))\n",
    "    "
   ]
  },
  {
   "cell_type": "code",
   "execution_count": 62,
   "id": "747c0cec-5423-4c6c-b171-ad4049becefa",
   "metadata": {},
   "outputs": [
    {
     "name": "stdout",
     "output_type": "stream",
     "text": [
      "0\n",
      "1\n",
      "2\n",
      "3\n",
      "4\n",
      "5\n",
      "6\n",
      "7\n",
      "8\n",
      "9\n"
     ]
    }
   ],
   "source": [
    "i=iter(func(10))\n",
    "for j in range(10):\n",
    "    print(next(i))\n",
    "    "
   ]
  },
  {
   "cell_type": "code",
   "execution_count": 66,
   "id": "3dc76174-08cc-4fd4-be5f-ea08454aeaec",
   "metadata": {},
   "outputs": [
    {
     "name": "stdout",
     "output_type": "stream",
     "text": [
      "1\n",
      "2\n",
      "3\n",
      "5\n",
      "7\n",
      "11\n",
      "13\n",
      "17\n",
      "19\n",
      "23\n",
      "29\n",
      "31\n",
      "37\n",
      "41\n",
      "43\n",
      "47\n",
      "53\n",
      "59\n",
      "61\n",
      "67\n"
     ]
    }
   ],
   "source": [
    "def func(a):\n",
    "    for i in range(1,a):\n",
    "        for j in range(2,i):\n",
    "            if(i%j==0):\n",
    "                break\n",
    "        else:\n",
    "            yield(i)\n",
    "i=iter(func(1000))\n",
    "for j in range(20):\n",
    "    print(next(i))"
   ]
  },
  {
   "cell_type": "code",
   "execution_count": 65,
   "id": "06dd6d62-e20c-4145-9500-3212c6c79cc4",
   "metadata": {},
   "outputs": [
    {
     "name": "stdout",
     "output_type": "stream",
     "text": [
      "1\n",
      "2\n",
      "3\n",
      "5\n",
      "7\n",
      "11\n",
      "13\n",
      "17\n",
      "19\n"
     ]
    }
   ],
   "source": [
    "for i in range(1,20):\n",
    "    for j in range(2,i):\n",
    "        if(i%j==0):\n",
    "            break\n",
    "    else:\n",
    "        print(i)"
   ]
  },
  {
   "cell_type": "code",
   "execution_count": null,
   "id": "36400d34-cf14-4c1a-a8cd-fe549fd62e5b",
   "metadata": {},
   "outputs": [],
   "source": []
  }
 ],
 "metadata": {
  "kernelspec": {
   "display_name": "Python 3 (ipykernel)",
   "language": "python",
   "name": "python3"
  },
  "language_info": {
   "codemirror_mode": {
    "name": "ipython",
    "version": 3
   },
   "file_extension": ".py",
   "mimetype": "text/x-python",
   "name": "python",
   "nbconvert_exporter": "python",
   "pygments_lexer": "ipython3",
   "version": "3.10.8"
  }
 },
 "nbformat": 4,
 "nbformat_minor": 5
}
