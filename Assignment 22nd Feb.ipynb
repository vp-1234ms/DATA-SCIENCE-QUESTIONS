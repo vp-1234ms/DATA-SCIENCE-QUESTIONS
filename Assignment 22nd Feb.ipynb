{
 "cells": [
  {
   "cell_type": "code",
   "execution_count": null,
   "id": "44e3d619-988a-4297-8f56-630c0bc5514d",
   "metadata": {},
   "outputs": [],
   "source": [
    "from selenium import webdriver\n",
    "from selenium.webdriver.common.by import By\n",
    "from selenium.webdriver.support.ui import WebDriverWait\n",
    "from selenium.webdriver.support import expected_conditions as EC\n",
    "from bs4 import BeautifulSoup\n",
    "from selenium.webdriver.chrome.service import Service\n",
    "import pandas\n",
    "url = \"https://www.youtube.com/@PW-Foundation/videos\"\n",
    "s = Service(\"executable_path = C:/Program Files (x86)/chromedriver.exe\")\n",
    "driver = webdriver.Chrome(service=s)\n",
    "driver.get(url)\n",
    "\n",
    "soup = BeautifulSoup(driver.page_source, 'html.parser')\n",
    "\n",
    "contents_divs = soup.find_all(\"a\", {\"id\": \"video-title-link\",\n",
    "                                    \"class\": \"yt-simple-endpoint focus-on-expand style-scope ytd-rich-grid-media\"})\n",
    "video_url = []\n",
    "for i in contents_divs:\n",
    "    video_url.append(\"youtube.com\" + i[\"href\"])\n",
    "video_url = video_url[0:5]\n",
    "\n",
    "contents_divs = soup.find_all(\"img\", {\"class\": \"yt-core-image--fill-parent-height yt-core-image--fill-parent-width yt-core-image yt-core-image--content-mode-scale-aspect-fill yt-core-image--loaded\"})\n",
    "\n",
    "video_thumbnail = []\n",
    "for i in contents_divs:\n",
    "    video_thumbnail.append(i[\"src\"])\n",
    "while(len(video_thumbnail)!=5):\n",
    "    video_thumbnail.append(\"no img\")\n",
    "\n",
    "\n",
    "\n",
    "contents_divs = soup.find_all(\"a\", {\"id\": \"video-title-link\",\n",
    "                                    \"class\": \"yt-simple-endpoint focus-on-expand style-scope ytd-rich-grid-media\"})\n",
    "video_titles = []\n",
    "for i in contents_divs:\n",
    "    video_titles.append(i[\"title\"])\n",
    "video_titles = video_titles[0:5]\n",
    "\n",
    "contents_divs = soup.find_all(\"div\", {\"id\": \"metadata-line\", \"class\": \"style-scope ytd-video-meta-block\"})\n",
    "views = []\n",
    "for i in contents_divs:\n",
    "    views.append(i.text)\n",
    "video_views = []\n",
    "video_time = []\n",
    "for i in range(0, 5):\n",
    "    video_views.append(views[i].split(\"\\n\")[3])\n",
    "    video_time.append(views[i].split(\"\\n\")[4])\n",
    "\n",
    "print(len(video_url))\n",
    "print(len(video_thumbnail))\n",
    "print(len(video_titles))\n",
    "print(len(video_views))\n",
    "print(len(video_time))\n",
    "data=pandas.DataFrame({\"Video Url\":video_url,\"Video Thumbnail\":video_thumbnail,\"Video Titles\":video_titles,\"Video Views\":video_views,\"Video Upload\":video_time})\n",
    "data.to_csv(\"file.csv\")\n",
    "driver.quit()"
   ]
  },
  {
   "cell_type": "code",
   "execution_count": 2,
   "id": "5fbb5cd7-8b13-4151-81f8-8276824e9d01",
   "metadata": {},
   "outputs": [
    {
     "name": "stdout",
     "output_type": "stream",
     "text": [
      "Collecting selenium\n",
      "  Downloading selenium-4.8.2-py3-none-any.whl (6.9 MB)\n",
      "\u001b[2K     \u001b[90m━━━━━━━━━━━━━━━━━━━━━━━━━━━━━━━━━━━━━━━━\u001b[0m \u001b[32m6.9/6.9 MB\u001b[0m \u001b[31m68.4 MB/s\u001b[0m eta \u001b[36m0:00:00\u001b[0ma \u001b[36m0:00:01\u001b[0m\n",
      "\u001b[?25hRequirement already satisfied: urllib3[socks]~=1.26 in /opt/conda/lib/python3.10/site-packages (from selenium) (1.26.13)\n",
      "Collecting trio-websocket~=0.9\n",
      "  Downloading trio_websocket-0.9.2-py3-none-any.whl (16 kB)\n",
      "Requirement already satisfied: certifi>=2021.10.8 in /opt/conda/lib/python3.10/site-packages (from selenium) (2022.12.7)\n",
      "Collecting trio~=0.17\n",
      "  Downloading trio-0.22.0-py3-none-any.whl (384 kB)\n",
      "\u001b[2K     \u001b[90m━━━━━━━━━━━━━━━━━━━━━━━━━━━━━━━━━━━━━━\u001b[0m \u001b[32m384.9/384.9 kB\u001b[0m \u001b[31m44.8 MB/s\u001b[0m eta \u001b[36m0:00:00\u001b[0m\n",
      "\u001b[?25hRequirement already satisfied: sortedcontainers in /opt/conda/lib/python3.10/site-packages (from trio~=0.17->selenium) (2.4.0)\n",
      "Requirement already satisfied: sniffio in /opt/conda/lib/python3.10/site-packages (from trio~=0.17->selenium) (1.3.0)\n",
      "Collecting outcome\n",
      "  Downloading outcome-1.2.0-py2.py3-none-any.whl (9.7 kB)\n",
      "Collecting exceptiongroup>=1.0.0rc9\n",
      "  Downloading exceptiongroup-1.1.0-py3-none-any.whl (14 kB)\n",
      "Requirement already satisfied: idna in /opt/conda/lib/python3.10/site-packages (from trio~=0.17->selenium) (3.4)\n",
      "Requirement already satisfied: async-generator>=1.9 in /opt/conda/lib/python3.10/site-packages (from trio~=0.17->selenium) (1.10)\n",
      "Requirement already satisfied: attrs>=19.2.0 in /opt/conda/lib/python3.10/site-packages (from trio~=0.17->selenium) (22.1.0)\n",
      "Collecting wsproto>=0.14\n",
      "  Downloading wsproto-1.2.0-py3-none-any.whl (24 kB)\n",
      "Requirement already satisfied: PySocks!=1.5.7,<2.0,>=1.5.6 in /opt/conda/lib/python3.10/site-packages (from urllib3[socks]~=1.26->selenium) (1.7.1)\n",
      "Collecting h11<1,>=0.9.0\n",
      "  Downloading h11-0.14.0-py3-none-any.whl (58 kB)\n",
      "\u001b[2K     \u001b[90m━━━━━━━━━━━━━━━━━━━━━━━━━━━━━━━━━━━━━━━━\u001b[0m \u001b[32m58.3/58.3 kB\u001b[0m \u001b[31m10.7 MB/s\u001b[0m eta \u001b[36m0:00:00\u001b[0m\n",
      "\u001b[?25hInstalling collected packages: outcome, h11, exceptiongroup, wsproto, trio, trio-websocket, selenium\n",
      "Successfully installed exceptiongroup-1.1.0 h11-0.14.0 outcome-1.2.0 selenium-4.8.2 trio-0.22.0 trio-websocket-0.9.2 wsproto-1.2.0\n",
      "Note: you may need to restart the kernel to use updated packages.\n"
     ]
    }
   ],
   "source": [
    "pip install selenium"
   ]
  },
  {
   "cell_type": "code",
   "execution_count": null,
   "id": "02df9277-e6e8-4ef2-bf8e-c395093eb87f",
   "metadata": {},
   "outputs": [],
   "source": []
  },
  {
   "cell_type": "code",
   "execution_count": null,
   "id": "7a9c6015-df9e-4528-8235-575e6f392e22",
   "metadata": {},
   "outputs": [],
   "source": []
  }
 ],
 "metadata": {
  "kernelspec": {
   "display_name": "Python 3 (ipykernel)",
   "language": "python",
   "name": "python3"
  },
  "language_info": {
   "codemirror_mode": {
    "name": "ipython",
    "version": 3
   },
   "file_extension": ".py",
   "mimetype": "text/x-python",
   "name": "python",
   "nbconvert_exporter": "python",
   "pygments_lexer": "ipython3",
   "version": "3.10.8"
  }
 },
 "nbformat": 4,
 "nbformat_minor": 5
}
