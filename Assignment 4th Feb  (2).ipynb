{
 "cells": [
  {
   "cell_type": "code",
   "execution_count": 27,
   "id": "92e55b9a-b7cf-4581-ac9c-f0dc39d56442",
   "metadata": {},
   "outputs": [],
   "source": [
    "l=[('Sachin Tendulkar', 34357), ('Ricky Ponting', 27483), ('Jack Kallis', 25534), ('Virat Kohli', 24936)]"
   ]
  },
  {
   "cell_type": "code",
   "execution_count": 28,
   "id": "f075192b-f181-46e8-9034-03f0a4810146",
   "metadata": {},
   "outputs": [],
   "source": [
    "l1=[i[1] for i in l].sort()\n",
    "# l1.sort()\n",
    "# l1\n",
    "# d={i[0]:i[1] for i in l}\n",
    "# d\n",
    "# t=tuple((i,list(d.keys()).sort()) for i in d )\n",
    "# t\n",
    "p"
   ]
  },
  {
   "cell_type": "code",
   "execution_count": 35,
   "id": "c1d93415-b816-46f7-8106-6c0ce2055f10",
   "metadata": {},
   "outputs": [
    {
     "data": {
      "text/plain": [
       "[1, 4, 9, 16, 25, 36, 49, 64, 81, 100]"
      ]
     },
     "execution_count": 35,
     "metadata": {},
     "output_type": "execute_result"
    }
   ],
   "source": [
    "l=[1, 2, 3, 4, 5, 6, 7, 8, 9, 10]\n",
    "list(map(lambda i:i*i,l))"
   ]
  },
  {
   "cell_type": "code",
   "execution_count": 34,
   "id": "3b6995d9-8a81-4eb2-92ad-b55001597654",
   "metadata": {},
   "outputs": [
    {
     "data": {
      "text/plain": [
       "[1, 4, 9, 16, 25, 36, 49, 64, 81, 100]"
      ]
     },
     "execution_count": 34,
     "metadata": {},
     "output_type": "execute_result"
    }
   ],
   "source": [
    "list(map(lambda i:i*i,l))"
   ]
  },
  {
   "cell_type": "code",
   "execution_count": 41,
   "id": "2abb876c-0bd5-4690-b991-f61052318bf8",
   "metadata": {},
   "outputs": [
    {
     "data": {
      "text/plain": [
       "('1', '2', '3', '4', '5', '6', '7', '8', '9', '10')"
      ]
     },
     "execution_count": 41,
     "metadata": {},
     "output_type": "execute_result"
    }
   ],
   "source": [
    "l=[1, 2, 3, 4, 5, 6, 7, 8, 9, 10]\n",
    "tuple(map(lambda a:str(a),l))"
   ]
  },
  {
   "cell_type": "code",
   "execution_count": 40,
   "id": "7317f558-7d47-4f04-a9b8-1af4a8a188c9",
   "metadata": {},
   "outputs": [
    {
     "data": {
      "text/plain": [
       "('1', '2', '3', '4', '5', '6', '7', '8', '9', '10')"
      ]
     },
     "execution_count": 40,
     "metadata": {},
     "output_type": "execute_result"
    }
   ],
   "source": [
    "tuple(map(lambda a:str(a),l))"
   ]
  },
  {
   "cell_type": "code",
   "execution_count": 44,
   "id": "c108e892-de04-43e0-9ac9-0492a06999ed",
   "metadata": {},
   "outputs": [
    {
     "data": {
      "text/plain": [
       "15511210043330985984000000"
      ]
     },
     "execution_count": 44,
     "metadata": {},
     "output_type": "execute_result"
    }
   ],
   "source": [
    "from functools import reduce\n",
    "l=[i for i in range(1,26)]\n",
    "reduce(lambda x,y:x*y,l)"
   ]
  },
  {
   "cell_type": "code",
   "execution_count": 48,
   "id": "3fd2ee80-c12e-483f-966e-bdd7387ac8f9",
   "metadata": {},
   "outputs": [
    {
     "data": {
      "text/plain": [
       "[6, 60, 90, 120]"
      ]
     },
     "execution_count": 48,
     "metadata": {},
     "output_type": "execute_result"
    }
   ],
   "source": [
    "l=[2, 3, 6, 9, 27, 60, 90, 120, 55, 46]\n",
    "list(filter(lambda z:z%6==0,l))"
   ]
  },
  {
   "cell_type": "code",
   "execution_count": 47,
   "id": "380bc4fe-faa6-4c4f-984a-20adc54213c0",
   "metadata": {},
   "outputs": [
    {
     "data": {
      "text/plain": [
       "[6, 60, 90, 120]"
      ]
     },
     "execution_count": 47,
     "metadata": {},
     "output_type": "execute_result"
    }
   ],
   "source": [
    "list(filter(lambda z:z%6==0,l))"
   ]
  },
  {
   "cell_type": "code",
   "execution_count": 64,
   "id": "952d5e2a-a261-41df-aaaf-9ca35a372c78",
   "metadata": {},
   "outputs": [
    {
     "data": {
      "text/plain": [
       "['php', 'aba', 'radar', 'level']"
      ]
     },
     "execution_count": 64,
     "metadata": {},
     "output_type": "execute_result"
    }
   ],
   "source": [
    "l=['python', 'php', 'aba', 'radar', 'level']\n",
    "list(filter(lambda x:x==x[::-1],l))"
   ]
  },
  {
   "cell_type": "code",
   "execution_count": null,
   "id": "e2a2c74e-fac4-4f8e-97ff-9873b43f0310",
   "metadata": {},
   "outputs": [],
   "source": []
  }
 ],
 "metadata": {
  "kernelspec": {
   "display_name": "Python 3 (ipykernel)",
   "language": "python",
   "name": "python3"
  },
  "language_info": {
   "codemirror_mode": {
    "name": "ipython",
    "version": 3
   },
   "file_extension": ".py",
   "mimetype": "text/x-python",
   "name": "python",
   "nbconvert_exporter": "python",
   "pygments_lexer": "ipython3",
   "version": "3.10.8"
  }
 },
 "nbformat": 4,
 "nbformat_minor": 5
}
