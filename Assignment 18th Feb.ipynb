{
 "cells": [
  {
   "cell_type": "markdown",
   "id": "f808cf41-ea52-424d-8bd5-c863a186c6ea",
   "metadata": {},
   "source": [
    "What is an API? Give an example, where an API is used in real life."
   ]
  },
  {
   "cell_type": "code",
   "execution_count": 1,
   "id": "c923eb46-eb33-41f8-a936-4d24ca15bf4a",
   "metadata": {},
   "outputs": [],
   "source": [
    "#API's are used to connect two heterogenious or homogenious system \n",
    "#It is also used in connecting frontend part with backend \n",
    "#Exampe are google pay connecting with our banks\n",
    "#Where both have different system still they can send and receive information"
   ]
  },
  {
   "cell_type": "markdown",
   "id": "59f12720-a9a9-4c79-afd5-a2703718c8e7",
   "metadata": {},
   "source": [
    "Q2. Give advantages and disadvantages of using API."
   ]
  },
  {
   "cell_type": "code",
   "execution_count": null,
   "id": "022c8e90-6f34-473e-87bc-3332f7a14f5f",
   "metadata": {},
   "outputs": [],
   "source": [
    "#API allows data distribution and to publich our data on different channels simultaneously\n",
    "#API are  most commonly used for buissness analytics\n",
    "#API provides copperation between co workers and data sharing\n",
    "#Online payment systems how google pay or phone pay or any other money transaction app does operation from our bank account is good use of API\n",
    "#API can be accssed from Internet hence thier are disadvantages too"
   ]
  },
  {
   "cell_type": "markdown",
   "id": "36c38be2-ad2f-4bb6-a42a-4562c7159838",
   "metadata": {},
   "source": [
    "Q3. What is a Web API? Differentiate between API and Web API."
   ]
  },
  {
   "cell_type": "code",
   "execution_count": null,
   "id": "4f5fee41-ff30-4f5b-91bf-aa2ef972ac07",
   "metadata": {},
   "outputs": [],
   "source": [
    "#Web API is appication programming interface for web server and web browser\n",
    "#Web api extends functionality of webb browser\n",
    "#Web API have more restriction than API\n",
    "#API exposes data to outside software but web API can't expose data to outside software"
   ]
  },
  {
   "cell_type": "markdown",
   "id": "4c0aec9b-0bab-472f-a59f-517fa36df915",
   "metadata": {},
   "source": [
    "Q4. Explain REST and SOAP Architecture. Mention shortcomings of SOAP."
   ]
  },
  {
   "cell_type": "code",
   "execution_count": null,
   "id": "6fa7c653-2f5b-41bc-b9d4-00dc385d5186",
   "metadata": {},
   "outputs": [],
   "source": [
    "#REST is a set of guidelines that offers flexible implimentation \n",
    "#While SOAP is protocol with specific requirement like XML messeaging"
   ]
  },
  {
   "cell_type": "markdown",
   "id": "17282280-d766-40a5-966a-da2cd0229dfd",
   "metadata": {},
   "source": [
    "Q5. Differentiate between REST and SOAP."
   ]
  },
  {
   "cell_type": "code",
   "execution_count": null,
   "id": "bef5af08-0b58-43a4-a465-a859936c1f13",
   "metadata": {},
   "outputs": [],
   "source": [
    "#REST is a set of guidelines that offers flexible implimentation \n",
    "#While SOAP is protocol with specific requirement like XML messeaging\n"
   ]
  },
  {
   "cell_type": "code",
   "execution_count": null,
   "id": "8aca1cce-bff0-4e90-90cc-d2d49794405a",
   "metadata": {},
   "outputs": [],
   "source": []
  }
 ],
 "metadata": {
  "kernelspec": {
   "display_name": "Python 3 (ipykernel)",
   "language": "python",
   "name": "python3"
  },
  "language_info": {
   "codemirror_mode": {
    "name": "ipython",
    "version": 3
   },
   "file_extension": ".py",
   "mimetype": "text/x-python",
   "name": "python",
   "nbconvert_exporter": "python",
   "pygments_lexer": "ipython3",
   "version": "3.10.8"
  }
 },
 "nbformat": 4,
 "nbformat_minor": 5
}
