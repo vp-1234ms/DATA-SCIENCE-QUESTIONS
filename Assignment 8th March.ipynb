{
 "cells": [
  {
   "cell_type": "markdown",
   "id": "6c032c15-c42e-4a0c-b0e1-e6697bb8e070",
   "metadata": {},
   "source": [
    "Q1. What is the Probability density function?"
   ]
  },
  {
   "cell_type": "code",
   "execution_count": 1,
   "id": "f2a39268-fe33-456d-8818-63376035bad5",
   "metadata": {},
   "outputs": [],
   "source": [
    "#It is the plot of probablity of events occuring\n",
    "#It is the continous plot which comes out of kerner density estinator after smoothning the curve"
   ]
  },
  {
   "cell_type": "markdown",
   "id": "f7fb7933-6142-4e77-b3eb-4b3525d12373",
   "metadata": {},
   "source": [
    "Q2. What are the types of Probability distribution?"
   ]
  },
  {
   "cell_type": "code",
   "execution_count": 2,
   "id": "d1e54421-6f81-4be9-b0f8-b2a2804bd37c",
   "metadata": {},
   "outputs": [],
   "source": [
    "#Thier three types\n",
    "#i)Probablity density function\n",
    "#ii)Probablity mass Function\n",
    "#iii)Cumulative Distribution function"
   ]
  },
  {
   "cell_type": "markdown",
   "id": "67d0583f-3f74-44e7-924f-57e7b773dcd8",
   "metadata": {},
   "source": [
    "Q3. Write a Python function to calculate the probability density function of a normal distribution with\n",
    "given mean and standard deviation at a given point."
   ]
  },
  {
   "cell_type": "code",
   "execution_count": 3,
   "id": "16ae0c8e-b224-4cc9-b961-29ea6296f00d",
   "metadata": {},
   "outputs": [],
   "source": [
    "from scipy.stats import norm"
   ]
  },
  {
   "cell_type": "code",
   "execution_count": 4,
   "id": "9dbffa09-0df7-46e0-b213-9e4199590b41",
   "metadata": {},
   "outputs": [
    {
     "name": "stdout",
     "output_type": "stream",
     "text": [
      "7.927432557085916e-174\n"
     ]
    }
   ],
   "source": [
    "mean=90.3\n",
    "std=3.1\n",
    "probability_pdf = norm.pdf(3, loc=mean, scale=std)\n",
    "print(probability_pdf)"
   ]
  },
  {
   "cell_type": "markdown",
   "id": "18734fc0-3faf-4684-b771-84ea9c8677ca",
   "metadata": {},
   "source": [
    "Q4. What are the properties of Binomial distribution? Give two examples of events where binomial\n",
    "distribution can be applied."
   ]
  },
  {
   "cell_type": "code",
   "execution_count": 5,
   "id": "dfe3d419-0d95-441c-b775-33e4653a87d4",
   "metadata": {},
   "outputs": [],
   "source": [
    "#Binomial distribution is descrete plot with probablity mass function\n",
    "#It has two binary outcome plot yes/no true/false success /failure\n",
    "#Eg Tossing of coin #Pass fail in exam"
   ]
  },
  {
   "cell_type": "markdown",
   "id": "3d7b35a5-7dcf-4eb8-bab9-9782c1710153",
   "metadata": {},
   "source": [
    "Q5. Generate a random sample of size 1000 from a binomial distribution with probability of success 0.4\n",
    "and plot a histogram of the results using matplotlib."
   ]
  },
  {
   "cell_type": "code",
   "execution_count": 6,
   "id": "d0bd6fcf-93da-4351-b828-433df1fae4a0",
   "metadata": {},
   "outputs": [
    {
     "data": {
      "image/png": "[encoded data removed]",
      "text/plain": [
       "<Figure size 640x480 with 1 Axes>"
      ]
     },
     "metadata": {},
     "output_type": "display_data"
    }
   ],
   "source": [
    "from scipy.stats import binom\n",
    "import matplotlib.pyplot as plt\n",
    "n = 1000\n",
    "p = 0.4\n",
    "r_values = list(range(n + 1))\n",
    "dist = [binom.pmf(r, n, p) for r in r_values ]\n",
    "plt.bar(r_values, dist)\n",
    "plt.show()"
   ]
  },
  {
   "cell_type": "markdown",
   "id": "6843227b-21b5-435f-906c-e22be5c2cc5f",
   "metadata": {},
   "source": [
    "Q6. Write a Python function to calculate the cumulative distribution function of a Poisson distribution\n",
    "with given mean at a given point."
   ]
  },
  {
   "cell_type": "code",
   "execution_count": 9,
   "id": "c1092fb2-ae7c-4ef3-9601-5e532f91a635",
   "metadata": {},
   "outputs": [
    {
     "data": {
      "text/plain": [
       "(array([0.046, 0.122, 0.231, 0.21 , 0.177, 0.106, 0.071, 0.021, 0.01 ,\n",
       "        0.006]),\n",
       " array([ 0.,  1.,  2.,  3.,  4.,  5.,  6.,  7.,  8.,  9., 10.]),\n",
       " <BarContainer object of 10 artists>)"
      ]
     },
     "execution_count": 9,
     "metadata": {},
     "output_type": "execute_result"
    },
    {
     "data": {
      "image/png": "[encoded data removed]",
      "text/plain": [
       "<Figure size 640x480 with 1 Axes>"
      ]
     },
     "metadata": {},
     "output_type": "display_data"
    }
   ],
   "source": [
    "from scipy.stats import poisson\n",
    "import matplotlib.pyplot as plt\n",
    "\n",
    "x = poisson.rvs(mu=3, size=1000)\n",
    "\n",
    "plt.hist(x, density=True, edgecolor='black')"
   ]
  },
  {
   "cell_type": "markdown",
   "id": "090c3dc6-ed17-4ca1-aba5-cbf5c84df829",
   "metadata": {},
   "source": [
    "Q7. How Binomial distribution different from Poisson distribution?"
   ]
  },
  {
   "cell_type": "code",
   "execution_count": 10,
   "id": "afa55a84-eab1-43cd-b495-118233b59107",
   "metadata": {},
   "outputs": [],
   "source": [
    "#Binomial distribution is binary outcome\n",
    "#While poisson distribution is describes event occuring in fixed time interval"
   ]
  },
  {
   "cell_type": "markdown",
   "id": "50c980a2-709b-4bae-a439-27ebef92569b",
   "metadata": {},
   "source": [
    "Q8. Generate a random sample of size 1000 from a Poisson distribution with mean 5 and calculate the\n",
    "sample mean and variance."
   ]
  },
  {
   "cell_type": "code",
   "execution_count": 11,
   "id": "cae033fb-85c5-4186-91b9-8f75a9fbd0af",
   "metadata": {},
   "outputs": [
    {
     "data": {
      "text/plain": [
       "array([2, 4, 7, ..., 7, 6, 1])"
      ]
     },
     "execution_count": 11,
     "metadata": {},
     "output_type": "execute_result"
    }
   ],
   "source": [
    "import numpy as np\n",
    "s = np.random.poisson(5, 10000)\n",
    "s"
   ]
  },
  {
   "cell_type": "markdown",
   "id": "6ab95b56-07e4-4612-b202-66d5fe32c0dc",
   "metadata": {},
   "source": [
    "Q9. How mean and variance are related in Binomial distribution and Poisson distribution?"
   ]
  },
  {
   "cell_type": "code",
   "execution_count": 12,
   "id": "0e3e2401-bfdd-4f4f-b94d-0185c9be4d70",
   "metadata": {},
   "outputs": [],
   "source": [
    "#In binomial distribution Mean=np and Varaince=npq\n",
    "#In poisson distribution Mean=lambda * timeinterval and Varaince=lambda * timeinterval both are same here"
   ]
  },
  {
   "cell_type": "markdown",
   "id": "4447ed35-b6d7-4e7f-912e-c42ebda3fb6b",
   "metadata": {},
   "source": [
    "Q10. In normal distribution with respect to mean position, where does the least frequent data appear?"
   ]
  },
  {
   "cell_type": "code",
   "execution_count": 13,
   "id": "98a8e984-0518-4d4e-bc3c-82a94921219f",
   "metadata": {},
   "outputs": [],
   "source": [
    "#At end of curve that is left and right extereme we find least frequency of data"
   ]
  },
  {
   "cell_type": "code",
   "execution_count": null,
   "id": "76f30968-107e-4464-8674-ba23fc7b91a0",
   "metadata": {},
   "outputs": [],
   "source": []
  }
 ],
 "metadata": {
  "kernelspec": {
   "display_name": "Python 3 (ipykernel)",
   "language": "python",
   "name": "python3"
  },
  "language_info": {
   "codemirror_mode": {
    "name": "ipython",
    "version": 3
   },
   "file_extension": ".py",
   "mimetype": "text/x-python",
   "name": "python",
   "nbconvert_exporter": "python",
   "pygments_lexer": "ipython3",
   "version": "3.10.8"
  }
 },
 "nbformat": 4,
 "nbformat_minor": 5
}
