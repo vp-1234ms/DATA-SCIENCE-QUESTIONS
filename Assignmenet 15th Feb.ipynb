{
 "cells": [
  {
   "cell_type": "markdown",
   "id": "f89b99b3-5ff2-4e56-81e9-7dda7fcf40f1",
   "metadata": {},
   "source": [
    "Q1. What is multiprocessing in python? Why is it useful?"
   ]
  },
  {
   "cell_type": "code",
   "execution_count": 1,
   "id": "6a2aaa43-9b31-42aa-aa61-abc3e2fe7dba",
   "metadata": {},
   "outputs": [],
   "source": [
    "#We can't run parallel process in multithreading to overcome this we have multiprocessing\n",
    "#Here we can run multiple process that is pull of processes using multiprocesing\n",
    "#For this we have module name 'multiprocessing'\n",
    "#This module allows to run multiple process simultaneously"
   ]
  },
  {
   "cell_type": "code",
   "execution_count": 3,
   "id": "7dcbcf90-7a10-4531-9545-338dc5b79677",
   "metadata": {},
   "outputs": [
    {
     "name": "stdout",
     "output_type": "stream",
     "text": [
      "[1, 4, 9, 16, 25, 36, 49, 64, 81]\n"
     ]
    }
   ],
   "source": [
    "import multiprocessing\n",
    "def square(n):\n",
    "    return n**2\n",
    "if __name__ == '__main__':\n",
    "    with multiprocessing.Pool(processes=5) as pool :\n",
    "        out =pool.map(square , [1,2,3,4,5,6,7,8,9])\n",
    "        print(out)"
   ]
  },
  {
   "cell_type": "markdown",
   "id": "411dd168-6b2a-447e-a037-cf221b2e5b39",
   "metadata": {},
   "source": [
    "Q2. What are the differences between multiprocessing and multithreading?"
   ]
  },
  {
   "cell_type": "code",
   "execution_count": 5,
   "id": "7f945f02-c15c-4c9f-b670-7f5026b2e027",
   "metadata": {},
   "outputs": [],
   "source": [
    "#In multithreading all programs are runned simultaneously but one by one it creates threads and then joins them to excute all processes\n",
    "#But in multithreading we can actually run different processes or programs parallely\n",
    "#Multithreading supports various parts of single programs simultaneouls\n",
    "#Multiprocessing supports execution of various programs simultaneously\n",
    "#Thread is smallest unit in multithreading\n",
    "#While program or process is smallest unit Multiprocessing"
   ]
  },
  {
   "cell_type": "markdown",
   "id": "3d2e526a-7019-471e-95ab-7c3efd34de8a",
   "metadata": {},
   "source": [
    "Q3. Write a python code to create a process using the multiprocessing module."
   ]
  },
  {
   "cell_type": "code",
   "execution_count": null,
   "id": "fe3fdd87-c943-4113-8a40-51c4cbbcac38",
   "metadata": {},
   "outputs": [
    {
     "name": "stdout",
     "output_type": "stream",
     "text": [
      "Mercedes\n",
      "Audi\n",
      "Jaguar\n",
      "Ferrari\n",
      "xyz\n"
     ]
    }
   ],
   "source": [
    "import multiprocessing\n",
    "\n",
    "def producer(q):\n",
    "    for i in [\"Mercedes\",\"Audi\",\"Jaguar\",\"Ferrari\"] : \n",
    "        q.put(i)\n",
    "    \n",
    "def consume(q) : \n",
    "    while True :\n",
    "        item = q.get()\n",
    "        if item is None :\n",
    "            break \n",
    "        print(item)\n",
    "        \n",
    "if __name__ == '__main__':\n",
    "    queue = multiprocessing.Queue()\n",
    "    m1 = multiprocessing.Process(target=producer , args= (queue,))\n",
    "    m2 = multiprocessing.Process(target=consume ,args=(queue,) )\n",
    "    m1.start()\n",
    "    m2.start()\n",
    "    queue.put(\"xyz\")\n",
    "    m1.join()\n",
    "    m2.join()"
   ]
  },
  {
   "cell_type": "markdown",
   "id": "6cd07a4d-f4a4-4ee3-8e93-982191dcd747",
   "metadata": {},
   "source": [
    "Q4. What is a multiprocessing pool in python? Why is it used?"
   ]
  },
  {
   "cell_type": "code",
   "execution_count": null,
   "id": "eddb9291-65c4-487e-89a9-b08918de9a2c",
   "metadata": {},
   "outputs": [],
   "source": [
    "#Multiprocessing Pool can be used for parallel execution of a function across multiple input values\n",
    "#Distributing the input data across processes\n",
    "#It supports data parallelism\n"
   ]
  },
  {
   "cell_type": "code",
   "execution_count": 9,
   "id": "c8e96366-bbd6-49ce-8033-517cc30e9aaa",
   "metadata": {},
   "outputs": [
    {
     "name": "stdout",
     "output_type": "stream",
     "text": [
      "[1, 4, 9, 16, 25, 36, 49, 64, 81]\n"
     ]
    }
   ],
   "source": [
    "import multiprocessing\n",
    "def square(n):\n",
    "    return n**2\n",
    "if __name__ == '__main__':\n",
    "    with multiprocessing.Pool(processes=5) as pool :\n",
    "        out =pool.map(square , [1,2,3,4,5,6,7,8,9])\n",
    "        print(out)"
   ]
  },
  {
   "cell_type": "markdown",
   "id": "1fb63b6d-01e7-42b6-921e-8049bf57f585",
   "metadata": {},
   "source": [
    "Q5. How can we create a pool of worker processes in python using the multiprocessing module?"
   ]
  },
  {
   "cell_type": "code",
   "execution_count": 10,
   "id": "b1ffd07e-084d-40e4-9aa0-76ed07db0e50",
   "metadata": {},
   "outputs": [
    {
     "name": "stdout",
     "output_type": "stream",
     "text": [
      "[0, 1, 4, 9, 16, 25, 36, 49, 64, 81]\n",
      "0\n",
      "1\n",
      "4\n",
      "9\n",
      "16\n",
      "49\n",
      "36\n",
      "25\n",
      "81\n",
      "64\n",
      "400\n",
      "693\n",
      "[691, 692, 691, 690]\n",
      "We lacked patience and got a multiprocessing.TimeoutError\n",
      "For the moment, the pool remains available for more work\n",
      "Now the pool is closed and no longer available\n"
     ]
    }
   ],
   "source": [
    "from multiprocessing import Pool, TimeoutError\n",
    "import time\n",
    "import os\n",
    "\n",
    "def f(x):\n",
    "    return x*x\n",
    "\n",
    "if __name__ == '__main__':\n",
    "    with Pool(processes=4) as pool:\n",
    "        print(pool.map(f, range(10)))\n",
    "        for i in pool.imap_unordered(f, range(10)):\n",
    "            print(i)\n",
    "        res = pool.apply_async(f, (20,))  \n",
    "        print(res.get(timeout=1))             \n",
    "\n",
    "        res = pool.apply_async(os.getpid, ())\n",
    "        print(res.get(timeout=1))             \n",
    "\n",
    "        multiple_results = [pool.apply_async(os.getpid, ()) for i in range(4)]\n",
    "        print([res.get(timeout=1) for res in multiple_results])\n",
    "\n",
    "        res = pool.apply_async(time.sleep, (10,))\n",
    "        try:\n",
    "            print(res.get(timeout=1))\n",
    "        except TimeoutError:\n",
    "            print(\"We lacked patience and got a multiprocessing.TimeoutError\")\n",
    "\n",
    "        print(\"For the moment, the pool remains available for more work\")\n",
    "\n",
    "    print(\"Now the pool is closed and no longer available\")"
   ]
  },
  {
   "cell_type": "markdown",
   "id": "af12799b-bccd-49d7-b7f5-812b72a77a71",
   "metadata": {},
   "source": [
    "Q6. Write a python program to create 4 processes, each process should print a different number using the\n",
    "multiprocessing module in python."
   ]
  },
  {
   "cell_type": "code",
   "execution_count": 21,
   "id": "5620c37f-de39-48a1-9e67-fe0a64e3bbc7",
   "metadata": {},
   "outputs": [
    {
     "name": "stdout",
     "output_type": "stream",
     "text": [
      "[1, 4, 9, 16]\n"
     ]
    }
   ],
   "source": [
    "import multiprocessing\n",
    "def square(n):\n",
    "    return n**2\n",
    "if __name__ == '__main__':\n",
    "    with multiprocessing.Pool(processes=4) as pool :\n",
    "        out =pool.map(square , [1,2,3,4])\n",
    "        print(out)"
   ]
  },
  {
   "cell_type": "code",
   "execution_count": null,
   "id": "a96942fa-b537-4aa8-9473-c54828aa90f9",
   "metadata": {},
   "outputs": [],
   "source": []
  }
 ],
 "metadata": {
  "kernelspec": {
   "display_name": "Python 3 (ipykernel)",
   "language": "python",
   "name": "python3"
  },
  "language_info": {
   "codemirror_mode": {
    "name": "ipython",
    "version": 3
   },
   "file_extension": ".py",
   "mimetype": "text/x-python",
   "name": "python",
   "nbconvert_exporter": "python",
   "pygments_lexer": "ipython3",
   "version": "3.10.8"
  }
 },
 "nbformat": 4,
 "nbformat_minor": 5
}
