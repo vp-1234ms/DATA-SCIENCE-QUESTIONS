{
 "cells": [
  {
   "cell_type": "markdown",
   "id": "6f581ea8-eaf8-417f-903c-2b880d6c0ea0",
   "metadata": {},
   "source": [
    "Q1. What is Web Scraping? Why is it Used? Give three areas where Web Scraping is used to get data."
   ]
  },
  {
   "cell_type": "code",
   "execution_count": 1,
   "id": "bd5f36c7-5bda-4d53-9393-a7a8162c40b3",
   "metadata": {},
   "outputs": [],
   "source": [
    "#Web scrapping is basically automating process and scrap the web \n",
    "#It is used for extracting required data from website \n",
    "#It is process of collecting structured data in automated pattern\n",
    "#Some of the main important usses are price intelligence, news monitoring , lead generation"
   ]
  },
  {
   "cell_type": "markdown",
   "id": "5e29619d-af6e-43aa-960c-9a528005f2fa",
   "metadata": {},
   "source": [
    "Q2. What are the different methods used for Web Scraping?"
   ]
  },
  {
   "cell_type": "code",
   "execution_count": 2,
   "id": "989eea8a-e9c9-4392-839d-d07233895817",
   "metadata": {},
   "outputs": [],
   "source": [
    "#Various process are needed to scrap data from website involving data cleaning\n",
    "#That is colecting garbage like data which has html tags and other garbage to transforming into clean and usefull meaingful data\n",
    "#This involves methods like open url , request url , get method\n",
    "#Also takes many libraries like beautiful soap urlib etc"
   ]
  },
  {
   "cell_type": "markdown",
   "id": "0f94400e-e2ea-42a0-8bf4-b2f383f55124",
   "metadata": {},
   "source": [
    "Q3. What is Beautiful Soup? Why is it used?"
   ]
  },
  {
   "cell_type": "code",
   "execution_count": 3,
   "id": "13be065c-d1f7-413a-9436-ae5d571c3565",
   "metadata": {},
   "outputs": [],
   "source": [
    "#It is python library\n",
    "#This used for cleaning and taking useful data from html page\n",
    "#Though it can't clean all html\n",
    "#But clears most of the useless garbage from data"
   ]
  },
  {
   "cell_type": "markdown",
   "id": "cc666fb4-3bf3-4a9d-845b-2fbacfd9501f",
   "metadata": {},
   "source": [
    "Q4. Why is flask used in this Web Scraping project?"
   ]
  },
  {
   "cell_type": "code",
   "execution_count": 4,
   "id": "6b57afd4-59a8-4ee9-a7c0-2e4fa6ca76f0",
   "metadata": {},
   "outputs": [],
   "source": [
    "#It is python framework \n",
    "#It is using building url dynamically redirecting\n",
    "#It is basically web framework\n",
    "#Through which we can create web api which helps us in connecting different files and exceute function\n"
   ]
  },
  {
   "cell_type": "markdown",
   "id": "b6a937c9-3d10-4f72-9a86-35d954d3ad3a",
   "metadata": {},
   "source": [
    "Q5. Write the names of AWS services used in this project. Also, explain the use of each service."
   ]
  },
  {
   "cell_type": "code",
   "execution_count": 5,
   "id": "3db41894-f0e2-431d-a35b-cd9dc0ced875",
   "metadata": {},
   "outputs": [],
   "source": [
    "#Here while deploying our project we make use of AWS asure\n",
    "#AWS is Amazon Web Services which is online platform for deploying our projects\n",
    "#Here basically after creating project we push that into git hub\n",
    "#From there we can use any AWS deployment like beanstalk , etc\n",
    "#This git hub project is pushed to Beanstalk using codepipeline\n"
   ]
  },
  {
   "cell_type": "code",
   "execution_count": null,
   "id": "d107feb8-0227-4dc7-995e-633c76bd20aa",
   "metadata": {},
   "outputs": [],
   "source": []
  }
 ],
 "metadata": {
  "kernelspec": {
   "display_name": "Python 3 (ipykernel)",
   "language": "python",
   "name": "python3"
  },
  "language_info": {
   "codemirror_mode": {
    "name": "ipython",
    "version": 3
   },
   "file_extension": ".py",
   "mimetype": "text/x-python",
   "name": "python",
   "nbconvert_exporter": "python",
   "pygments_lexer": "ipython3",
   "version": "3.10.8"
  }
 },
 "nbformat": 4,
 "nbformat_minor": 5
}
