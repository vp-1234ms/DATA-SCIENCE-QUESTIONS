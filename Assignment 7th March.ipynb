{
 "cells": [
  {
   "cell_type": "markdown",
   "id": "da9f8b7b-a82d-4abb-aff7-5d06f1023a60",
   "metadata": {},
   "source": [
    "Q1. What are the three measures of central tendency?"
   ]
  },
  {
   "cell_type": "code",
   "execution_count": 1,
   "id": "7519d1ad-4a30-4909-9728-c3c1ac9f7a5c",
   "metadata": {},
   "outputs": [],
   "source": [
    "#Mean Median and Mode are three measures of Central Tendency"
   ]
  },
  {
   "cell_type": "markdown",
   "id": "d1f25947-1430-43bc-b645-8fa0be58e7cd",
   "metadata": {},
   "source": [
    "Q2. What is the difference between the mean, median, and mode? How are they used to measure the\n",
    "central tendency of a dataset?"
   ]
  },
  {
   "cell_type": "code",
   "execution_count": 3,
   "id": "cd748ca9-c0bd-4742-8e8c-28164f0a8c37",
   "metadata": {},
   "outputs": [],
   "source": [
    "#Mean is average of all data in dataset\n",
    "#While median is midpoint of all points in data\n",
    "#Mode is most repeated value in data\n",
    "#Mean tells how what is on an averagwe value\n",
    "#While median tells what is medial of all datapoint\n",
    "#Mode tells which data got repeated in dataset for most of the time"
   ]
  },
  {
   "cell_type": "markdown",
   "id": "b5a3a9a0-b581-4564-ad02-74aeb2d135bc",
   "metadata": {},
   "source": [
    "Q3. Measure the three measures of central tendency for the given height data:\n",
    "\n",
    " [178,177,176,177,178.2,178,175,179,180,175,178.9,176.2,177,172.5,178,176.5]"
   ]
  },
  {
   "cell_type": "code",
   "execution_count": 4,
   "id": "727bc3af-9ce1-492d-b700-da8a5c90abc1",
   "metadata": {},
   "outputs": [],
   "source": [
    "import pandas as pd\n",
    "data=pd.DataFrame({\"Data\":[178,177,176,177,178.2,178,175,179,180,175,178.9,176.2,177,172.5,178,176.5]})"
   ]
  },
  {
   "cell_type": "code",
   "execution_count": 5,
   "id": "d73beb9c-6550-4d8c-a3f6-487fea05cd40",
   "metadata": {},
   "outputs": [
    {
     "data": {
      "text/html": [
       "<div>\n",
       "<style scoped>\n",
       "    .dataframe tbody tr th:only-of-type {\n",
       "        vertical-align: middle;\n",
       "    }\n",
       "\n",
       "    .dataframe tbody tr th {\n",
       "        vertical-align: top;\n",
       "    }\n",
       "\n",
       "    .dataframe thead th {\n",
       "        text-align: right;\n",
       "    }\n",
       "</style>\n",
       "<table border=\"1\" class=\"dataframe\">\n",
       "  <thead>\n",
       "    <tr style=\"text-align: right;\">\n",
       "      <th></th>\n",
       "      <th>Data</th>\n",
       "    </tr>\n",
       "  </thead>\n",
       "  <tbody>\n",
       "    <tr>\n",
       "      <th>0</th>\n",
       "      <td>178.0</td>\n",
       "    </tr>\n",
       "    <tr>\n",
       "      <th>1</th>\n",
       "      <td>177.0</td>\n",
       "    </tr>\n",
       "    <tr>\n",
       "      <th>2</th>\n",
       "      <td>176.0</td>\n",
       "    </tr>\n",
       "    <tr>\n",
       "      <th>3</th>\n",
       "      <td>177.0</td>\n",
       "    </tr>\n",
       "    <tr>\n",
       "      <th>4</th>\n",
       "      <td>178.2</td>\n",
       "    </tr>\n",
       "    <tr>\n",
       "      <th>5</th>\n",
       "      <td>178.0</td>\n",
       "    </tr>\n",
       "    <tr>\n",
       "      <th>6</th>\n",
       "      <td>175.0</td>\n",
       "    </tr>\n",
       "    <tr>\n",
       "      <th>7</th>\n",
       "      <td>179.0</td>\n",
       "    </tr>\n",
       "    <tr>\n",
       "      <th>8</th>\n",
       "      <td>180.0</td>\n",
       "    </tr>\n",
       "    <tr>\n",
       "      <th>9</th>\n",
       "      <td>175.0</td>\n",
       "    </tr>\n",
       "    <tr>\n",
       "      <th>10</th>\n",
       "      <td>178.9</td>\n",
       "    </tr>\n",
       "    <tr>\n",
       "      <th>11</th>\n",
       "      <td>176.2</td>\n",
       "    </tr>\n",
       "    <tr>\n",
       "      <th>12</th>\n",
       "      <td>177.0</td>\n",
       "    </tr>\n",
       "    <tr>\n",
       "      <th>13</th>\n",
       "      <td>172.5</td>\n",
       "    </tr>\n",
       "    <tr>\n",
       "      <th>14</th>\n",
       "      <td>178.0</td>\n",
       "    </tr>\n",
       "    <tr>\n",
       "      <th>15</th>\n",
       "      <td>176.5</td>\n",
       "    </tr>\n",
       "  </tbody>\n",
       "</table>\n",
       "</div>"
      ],
      "text/plain": [
       "     Data\n",
       "0   178.0\n",
       "1   177.0\n",
       "2   176.0\n",
       "3   177.0\n",
       "4   178.2\n",
       "5   178.0\n",
       "6   175.0\n",
       "7   179.0\n",
       "8   180.0\n",
       "9   175.0\n",
       "10  178.9\n",
       "11  176.2\n",
       "12  177.0\n",
       "13  172.5\n",
       "14  178.0\n",
       "15  176.5"
      ]
     },
     "execution_count": 5,
     "metadata": {},
     "output_type": "execute_result"
    }
   ],
   "source": [
    "data"
   ]
  },
  {
   "cell_type": "code",
   "execution_count": 6,
   "id": "40240b88-fc3e-4c26-a179-c480aecc3198",
   "metadata": {},
   "outputs": [
    {
     "data": {
      "text/html": [
       "<div>\n",
       "<style scoped>\n",
       "    .dataframe tbody tr th:only-of-type {\n",
       "        vertical-align: middle;\n",
       "    }\n",
       "\n",
       "    .dataframe tbody tr th {\n",
       "        vertical-align: top;\n",
       "    }\n",
       "\n",
       "    .dataframe thead th {\n",
       "        text-align: right;\n",
       "    }\n",
       "</style>\n",
       "<table border=\"1\" class=\"dataframe\">\n",
       "  <thead>\n",
       "    <tr style=\"text-align: right;\">\n",
       "      <th></th>\n",
       "      <th>Data</th>\n",
       "    </tr>\n",
       "  </thead>\n",
       "  <tbody>\n",
       "    <tr>\n",
       "      <th>count</th>\n",
       "      <td>16.000000</td>\n",
       "    </tr>\n",
       "    <tr>\n",
       "      <th>mean</th>\n",
       "      <td>177.018750</td>\n",
       "    </tr>\n",
       "    <tr>\n",
       "      <th>std</th>\n",
       "      <td>1.847239</td>\n",
       "    </tr>\n",
       "    <tr>\n",
       "      <th>min</th>\n",
       "      <td>172.500000</td>\n",
       "    </tr>\n",
       "    <tr>\n",
       "      <th>25%</th>\n",
       "      <td>176.150000</td>\n",
       "    </tr>\n",
       "    <tr>\n",
       "      <th>50%</th>\n",
       "      <td>177.000000</td>\n",
       "    </tr>\n",
       "    <tr>\n",
       "      <th>75%</th>\n",
       "      <td>178.050000</td>\n",
       "    </tr>\n",
       "    <tr>\n",
       "      <th>max</th>\n",
       "      <td>180.000000</td>\n",
       "    </tr>\n",
       "  </tbody>\n",
       "</table>\n",
       "</div>"
      ],
      "text/plain": [
       "             Data\n",
       "count   16.000000\n",
       "mean   177.018750\n",
       "std      1.847239\n",
       "min    172.500000\n",
       "25%    176.150000\n",
       "50%    177.000000\n",
       "75%    178.050000\n",
       "max    180.000000"
      ]
     },
     "execution_count": 6,
     "metadata": {},
     "output_type": "execute_result"
    }
   ],
   "source": [
    "data.describe()"
   ]
  },
  {
   "cell_type": "code",
   "execution_count": 8,
   "id": "5fedf16f-73da-478d-992e-06d442b9fbf7",
   "metadata": {},
   "outputs": [
    {
     "data": {
      "text/plain": [
       "177.01875"
      ]
     },
     "execution_count": 8,
     "metadata": {},
     "output_type": "execute_result"
    }
   ],
   "source": [
    "data['Data'].mean()"
   ]
  },
  {
   "cell_type": "code",
   "execution_count": 9,
   "id": "cb608deb-bb9e-4c1a-9632-657ff46e1c29",
   "metadata": {},
   "outputs": [
    {
     "data": {
      "text/plain": [
       "177.0"
      ]
     },
     "execution_count": 9,
     "metadata": {},
     "output_type": "execute_result"
    }
   ],
   "source": [
    "data['Data'].median()"
   ]
  },
  {
   "cell_type": "code",
   "execution_count": 10,
   "id": "51bc8dac-2690-46a3-bafe-5f3cb2e31f5d",
   "metadata": {},
   "outputs": [
    {
     "name": "stderr",
     "output_type": "stream",
     "text": [
      "/tmp/ipykernel_1264/1021471907.py:2: FutureWarning: Unlike other reduction functions (e.g. `skew`, `kurtosis`), the default behavior of `mode` typically preserves the axis it acts along. In SciPy 1.11.0, this behavior will change: the default value of `keepdims` will become False, the `axis` over which the statistic is taken will be eliminated, and the value None will no longer be accepted. Set `keepdims` to True or False to avoid this warning.\n",
      "  stats.mode(data['Data'])\n"
     ]
    },
    {
     "data": {
      "text/plain": [
       "ModeResult(mode=array([177.]), count=array([3]))"
      ]
     },
     "execution_count": 10,
     "metadata": {},
     "output_type": "execute_result"
    }
   ],
   "source": [
    "from scipy import stats\n",
    "stats.mode(data['Data'])"
   ]
  },
  {
   "cell_type": "markdown",
   "id": "78f81080-5789-48a1-8326-4066536776f5",
   "metadata": {},
   "source": [
    "Q4. Find the standard deviation for the given data:\n",
    "\n",
    "[178,177,176,177,178.2,178,175,179,180,175,178.9,176.2,177,172.5,178,176.5]"
   ]
  },
  {
   "cell_type": "code",
   "execution_count": 11,
   "id": "c08d79c5-3949-4f50-a54f-427d1b66c9c2",
   "metadata": {},
   "outputs": [
    {
     "data": {
      "text/html": [
       "<div>\n",
       "<style scoped>\n",
       "    .dataframe tbody tr th:only-of-type {\n",
       "        vertical-align: middle;\n",
       "    }\n",
       "\n",
       "    .dataframe tbody tr th {\n",
       "        vertical-align: top;\n",
       "    }\n",
       "\n",
       "    .dataframe thead th {\n",
       "        text-align: right;\n",
       "    }\n",
       "</style>\n",
       "<table border=\"1\" class=\"dataframe\">\n",
       "  <thead>\n",
       "    <tr style=\"text-align: right;\">\n",
       "      <th></th>\n",
       "      <th>Data</th>\n",
       "    </tr>\n",
       "  </thead>\n",
       "  <tbody>\n",
       "    <tr>\n",
       "      <th>0</th>\n",
       "      <td>178.0</td>\n",
       "    </tr>\n",
       "    <tr>\n",
       "      <th>1</th>\n",
       "      <td>177.0</td>\n",
       "    </tr>\n",
       "    <tr>\n",
       "      <th>2</th>\n",
       "      <td>176.0</td>\n",
       "    </tr>\n",
       "    <tr>\n",
       "      <th>3</th>\n",
       "      <td>177.0</td>\n",
       "    </tr>\n",
       "    <tr>\n",
       "      <th>4</th>\n",
       "      <td>178.2</td>\n",
       "    </tr>\n",
       "    <tr>\n",
       "      <th>5</th>\n",
       "      <td>178.0</td>\n",
       "    </tr>\n",
       "    <tr>\n",
       "      <th>6</th>\n",
       "      <td>175.0</td>\n",
       "    </tr>\n",
       "    <tr>\n",
       "      <th>7</th>\n",
       "      <td>179.0</td>\n",
       "    </tr>\n",
       "    <tr>\n",
       "      <th>8</th>\n",
       "      <td>180.0</td>\n",
       "    </tr>\n",
       "    <tr>\n",
       "      <th>9</th>\n",
       "      <td>175.0</td>\n",
       "    </tr>\n",
       "    <tr>\n",
       "      <th>10</th>\n",
       "      <td>178.9</td>\n",
       "    </tr>\n",
       "    <tr>\n",
       "      <th>11</th>\n",
       "      <td>176.2</td>\n",
       "    </tr>\n",
       "    <tr>\n",
       "      <th>12</th>\n",
       "      <td>177.0</td>\n",
       "    </tr>\n",
       "    <tr>\n",
       "      <th>13</th>\n",
       "      <td>172.5</td>\n",
       "    </tr>\n",
       "    <tr>\n",
       "      <th>14</th>\n",
       "      <td>178.0</td>\n",
       "    </tr>\n",
       "    <tr>\n",
       "      <th>15</th>\n",
       "      <td>176.5</td>\n",
       "    </tr>\n",
       "  </tbody>\n",
       "</table>\n",
       "</div>"
      ],
      "text/plain": [
       "     Data\n",
       "0   178.0\n",
       "1   177.0\n",
       "2   176.0\n",
       "3   177.0\n",
       "4   178.2\n",
       "5   178.0\n",
       "6   175.0\n",
       "7   179.0\n",
       "8   180.0\n",
       "9   175.0\n",
       "10  178.9\n",
       "11  176.2\n",
       "12  177.0\n",
       "13  172.5\n",
       "14  178.0\n",
       "15  176.5"
      ]
     },
     "execution_count": 11,
     "metadata": {},
     "output_type": "execute_result"
    }
   ],
   "source": [
    "data"
   ]
  },
  {
   "cell_type": "code",
   "execution_count": 12,
   "id": "68c7b3db-5824-47ce-9b1f-b908656b6e2c",
   "metadata": {},
   "outputs": [
    {
     "data": {
      "text/plain": [
       "Data    1.847239\n",
       "dtype: float64"
      ]
     },
     "execution_count": 12,
     "metadata": {},
     "output_type": "execute_result"
    }
   ],
   "source": [
    "data.std()"
   ]
  },
  {
   "cell_type": "code",
   "execution_count": 13,
   "id": "9cb19a83-2624-4647-9d02-a67f51eb790b",
   "metadata": {},
   "outputs": [
    {
     "data": {
      "text/plain": [
       "1.847238930584419"
      ]
     },
     "execution_count": 13,
     "metadata": {},
     "output_type": "execute_result"
    }
   ],
   "source": [
    "data['Data'].std()"
   ]
  },
  {
   "cell_type": "markdown",
   "id": "4cda657c-1389-4d7a-8b31-8d74a084b66b",
   "metadata": {},
   "source": [
    "Q5. How are measures of dispersion such as range, variance, and standard deviation used to describe\n",
    "the spread of a dataset? Provide an example."
   ]
  },
  {
   "cell_type": "code",
   "execution_count": 14,
   "id": "85d22240-6f62-4f66-9e9b-ff4f7f6f044c",
   "metadata": {},
   "outputs": [
    {
     "data": {
      "text/html": [
       "<div>\n",
       "<style scoped>\n",
       "    .dataframe tbody tr th:only-of-type {\n",
       "        vertical-align: middle;\n",
       "    }\n",
       "\n",
       "    .dataframe tbody tr th {\n",
       "        vertical-align: top;\n",
       "    }\n",
       "\n",
       "    .dataframe thead th {\n",
       "        text-align: right;\n",
       "    }\n",
       "</style>\n",
       "<table border=\"1\" class=\"dataframe\">\n",
       "  <thead>\n",
       "    <tr style=\"text-align: right;\">\n",
       "      <th></th>\n",
       "      <th>Data</th>\n",
       "    </tr>\n",
       "  </thead>\n",
       "  <tbody>\n",
       "    <tr>\n",
       "      <th>0</th>\n",
       "      <td>178.0</td>\n",
       "    </tr>\n",
       "    <tr>\n",
       "      <th>1</th>\n",
       "      <td>177.0</td>\n",
       "    </tr>\n",
       "    <tr>\n",
       "      <th>2</th>\n",
       "      <td>176.0</td>\n",
       "    </tr>\n",
       "    <tr>\n",
       "      <th>3</th>\n",
       "      <td>177.0</td>\n",
       "    </tr>\n",
       "    <tr>\n",
       "      <th>4</th>\n",
       "      <td>178.2</td>\n",
       "    </tr>\n",
       "    <tr>\n",
       "      <th>5</th>\n",
       "      <td>178.0</td>\n",
       "    </tr>\n",
       "    <tr>\n",
       "      <th>6</th>\n",
       "      <td>175.0</td>\n",
       "    </tr>\n",
       "    <tr>\n",
       "      <th>7</th>\n",
       "      <td>179.0</td>\n",
       "    </tr>\n",
       "    <tr>\n",
       "      <th>8</th>\n",
       "      <td>180.0</td>\n",
       "    </tr>\n",
       "    <tr>\n",
       "      <th>9</th>\n",
       "      <td>175.0</td>\n",
       "    </tr>\n",
       "    <tr>\n",
       "      <th>10</th>\n",
       "      <td>178.9</td>\n",
       "    </tr>\n",
       "    <tr>\n",
       "      <th>11</th>\n",
       "      <td>176.2</td>\n",
       "    </tr>\n",
       "    <tr>\n",
       "      <th>12</th>\n",
       "      <td>177.0</td>\n",
       "    </tr>\n",
       "    <tr>\n",
       "      <th>13</th>\n",
       "      <td>172.5</td>\n",
       "    </tr>\n",
       "    <tr>\n",
       "      <th>14</th>\n",
       "      <td>178.0</td>\n",
       "    </tr>\n",
       "    <tr>\n",
       "      <th>15</th>\n",
       "      <td>176.5</td>\n",
       "    </tr>\n",
       "  </tbody>\n",
       "</table>\n",
       "</div>"
      ],
      "text/plain": [
       "     Data\n",
       "0   178.0\n",
       "1   177.0\n",
       "2   176.0\n",
       "3   177.0\n",
       "4   178.2\n",
       "5   178.0\n",
       "6   175.0\n",
       "7   179.0\n",
       "8   180.0\n",
       "9   175.0\n",
       "10  178.9\n",
       "11  176.2\n",
       "12  177.0\n",
       "13  172.5\n",
       "14  178.0\n",
       "15  176.5"
      ]
     },
     "execution_count": 14,
     "metadata": {},
     "output_type": "execute_result"
    }
   ],
   "source": [
    "data"
   ]
  },
  {
   "cell_type": "code",
   "execution_count": 15,
   "id": "9df0f1ea-98a3-4d6b-87a0-dcf684483b0a",
   "metadata": {},
   "outputs": [
    {
     "data": {
      "text/plain": [
       "Data    177.01875\n",
       "dtype: float64"
      ]
     },
     "execution_count": 15,
     "metadata": {},
     "output_type": "execute_result"
    }
   ],
   "source": [
    "data.mean()"
   ]
  },
  {
   "cell_type": "code",
   "execution_count": 16,
   "id": "6344acbe-ee5c-4f1d-bd87-f2d463a05f9c",
   "metadata": {},
   "outputs": [
    {
     "data": {
      "text/plain": [
       "Data    177.0\n",
       "dtype: float64"
      ]
     },
     "execution_count": 16,
     "metadata": {},
     "output_type": "execute_result"
    }
   ],
   "source": [
    "data.median()"
   ]
  },
  {
   "cell_type": "code",
   "execution_count": 17,
   "id": "6c763f17-12b8-4eb2-8766-117745298987",
   "metadata": {},
   "outputs": [
    {
     "name": "stderr",
     "output_type": "stream",
     "text": [
      "/tmp/ipykernel_1264/1021471907.py:2: FutureWarning: Unlike other reduction functions (e.g. `skew`, `kurtosis`), the default behavior of `mode` typically preserves the axis it acts along. In SciPy 1.11.0, this behavior will change: the default value of `keepdims` will become False, the `axis` over which the statistic is taken will be eliminated, and the value None will no longer be accepted. Set `keepdims` to True or False to avoid this warning.\n",
      "  stats.mode(data['Data'])\n"
     ]
    },
    {
     "data": {
      "text/plain": [
       "ModeResult(mode=array([177.]), count=array([3]))"
      ]
     },
     "execution_count": 17,
     "metadata": {},
     "output_type": "execute_result"
    }
   ],
   "source": [
    "from scipy import stats\n",
    "stats.mode(data['Data'])"
   ]
  },
  {
   "cell_type": "code",
   "execution_count": 19,
   "id": "8c94df1c-d626-45a9-80e6-9c3c9cdaf7f0",
   "metadata": {},
   "outputs": [
    {
     "data": {
      "text/plain": [
       "Data    3.412292\n",
       "dtype: float64"
      ]
     },
     "execution_count": 19,
     "metadata": {},
     "output_type": "execute_result"
    }
   ],
   "source": [
    "data.var()"
   ]
  },
  {
   "cell_type": "code",
   "execution_count": 20,
   "id": "05b87797-3751-45ea-a578-43507b142e29",
   "metadata": {},
   "outputs": [
    {
     "data": {
      "text/plain": [
       "Data    1.847239\n",
       "dtype: float64"
      ]
     },
     "execution_count": 20,
     "metadata": {},
     "output_type": "execute_result"
    }
   ],
   "source": [
    "data.std()"
   ]
  },
  {
   "cell_type": "code",
   "execution_count": 21,
   "id": "08a6c840-9e0a-4f2b-b93c-55a32abeef8a",
   "metadata": {},
   "outputs": [],
   "source": [
    "#From all these we can ssay data is symmetrically distributed and does not have any skewness\n",
    "#Also data will form gausian or normal distribution \n",
    "#It will have bell curve like pdf"
   ]
  },
  {
   "cell_type": "markdown",
   "id": "487554c1-1c54-446d-bcc6-b2176edf5d8c",
   "metadata": {},
   "source": [
    "Q6. What is a Venn diagram?"
   ]
  },
  {
   "cell_type": "code",
   "execution_count": 22,
   "id": "74d6bc0b-a4dc-4ce5-b77a-5c8fb1cebe2e",
   "metadata": {},
   "outputs": [],
   "source": [
    "#Venn diagram is representaion of Data in set form using circular or other geometrical symbols\n",
    "#We can use venn diagram to show intersection difference complement universal data points representation"
   ]
  },
  {
   "cell_type": "markdown",
   "id": "2a196180-268f-4666-b9dd-a76378a3dc4e",
   "metadata": {},
   "source": [
    "Q7. For the two given sets A = (2,3,4,5,6,7) & B = (0,2,6,8,10). Find:\n",
    "\n",
    "(i) \tA n B\n",
    "\n",
    "(ii)\tA ⋃ B"
   ]
  },
  {
   "cell_type": "code",
   "execution_count": 26,
   "id": "e02f5ff6-0cf0-472e-8ddf-aa20cb46a044",
   "metadata": {},
   "outputs": [],
   "source": [
    "A = (2,3,4,5,6,7)"
   ]
  },
  {
   "cell_type": "code",
   "execution_count": 27,
   "id": "98c998ed-015d-4209-878a-301ca8742836",
   "metadata": {},
   "outputs": [],
   "source": [
    "B = (0,2,6,8,10)"
   ]
  },
  {
   "cell_type": "code",
   "execution_count": 29,
   "id": "5dcd67e0-4d27-4de9-a020-eee30c37df51",
   "metadata": {},
   "outputs": [],
   "source": [
    "A=set(A)\n",
    "B=set(B)\n"
   ]
  },
  {
   "cell_type": "code",
   "execution_count": 30,
   "id": "5165b060-17a6-4599-9190-e7d32ab849ca",
   "metadata": {},
   "outputs": [
    {
     "data": {
      "text/plain": [
       "{2, 6}"
      ]
     },
     "execution_count": 30,
     "metadata": {},
     "output_type": "execute_result"
    }
   ],
   "source": [
    "set.intersection(A,B)"
   ]
  },
  {
   "cell_type": "code",
   "execution_count": 31,
   "id": "7a56033f-fd38-4bb7-afbc-3049ed548ee0",
   "metadata": {},
   "outputs": [
    {
     "data": {
      "text/plain": [
       "{0, 2, 3, 4, 5, 6, 7, 8, 10}"
      ]
     },
     "execution_count": 31,
     "metadata": {},
     "output_type": "execute_result"
    }
   ],
   "source": [
    "set.union(A,B)"
   ]
  },
  {
   "cell_type": "markdown",
   "id": "55e68e33-99a6-4c89-a4b2-b29bc723df16",
   "metadata": {},
   "source": [
    "Q8. What do you understand about skewness in data?"
   ]
  },
  {
   "cell_type": "code",
   "execution_count": 33,
   "id": "db2d96d3-bf9a-4f0d-930d-c8f411629de2",
   "metadata": {},
   "outputs": [],
   "source": [
    "#It tells how well our data is centralized or dispersed \n",
    "#If data representated using graph is symmetrical then there is no skewness in this case it has same mean mode and median\n",
    "#Data can be right skewed where mode<median<mean\n",
    "#For data to be left skewed we have mean>median>mode\n",
    "#For various skewwness we have distribution form this skewness can be formed using probablity distribution function or kernel denstity estimator\n",
    "#Like for right skewed data we have smoothning of graph shaped called Log Normal Dsistributuion"
   ]
  },
  {
   "cell_type": "markdown",
   "id": "ab22633b-35d7-4a2d-897e-08f4aa0c94c5",
   "metadata": {},
   "source": [
    "Q9. If a data is right skewed then what will be the position of median with respect to mean?"
   ]
  },
  {
   "cell_type": "code",
   "execution_count": 34,
   "id": "5651a16c-7610-4065-b7ad-2a158b1a13a5",
   "metadata": {},
   "outputs": [],
   "source": [
    "#Data can be right skewed where mode<median<mean\n",
    "#For various skewwness we have distribution form this skewness can be formed using probablity distribution function or kernel denstity estimator\n",
    "#Like for right skewed data we have smoothning of graph shaped called Log Normal Dsistributuion"
   ]
  },
  {
   "cell_type": "markdown",
   "id": "393863b7-e14f-464d-bf8b-e004bde3088e",
   "metadata": {},
   "source": [
    "Q10. Explain the difference between covariance and correlation. How are these measures used in\n",
    "statistical analysis?"
   ]
  },
  {
   "cell_type": "code",
   "execution_count": 36,
   "id": "4d79549f-a976-4eb9-9d38-1a920bb1b975",
   "metadata": {},
   "outputs": [],
   "source": [
    "#Covariance is how x varies wrt to y or y wrt x\n",
    "#While correlation is how x is related to y or y is related to x\n",
    "#We can use this to corelate twp different data\n",
    "#Like is one data increasing with other or decreasing or no effect\n",
    "#For this we use co variance or for more effectiveness spearson or peakerson\n",
    "#Through this we can make various assumption"
   ]
  },
  {
   "cell_type": "markdown",
   "id": "d126c2f3-57df-4c32-bd86-7792357f11b4",
   "metadata": {},
   "source": [
    "Q11. What is the formula for calculating the sample mean? Provide an example calculation for a\n",
    "dataset."
   ]
  },
  {
   "cell_type": "code",
   "execution_count": 37,
   "id": "c09dc934-9808-40f0-9b8b-0c36f983aaa6",
   "metadata": {},
   "outputs": [],
   "source": [
    "#Sample mean(x(bar))=summation over xi divided by total sample data points"
   ]
  },
  {
   "cell_type": "markdown",
   "id": "156b9188-b14f-4969-97f8-275b169ee9d6",
   "metadata": {},
   "source": [
    "data"
   ]
  },
  {
   "cell_type": "code",
   "execution_count": 41,
   "id": "1822d8ef-8b2f-4124-86c5-1d69034769b2",
   "metadata": {},
   "outputs": [
    {
     "data": {
      "text/plain": [
       "Data    177.01875\n",
       "dtype: float64"
      ]
     },
     "execution_count": 41,
     "metadata": {},
     "output_type": "execute_result"
    }
   ],
   "source": [
    "data.mean()"
   ]
  },
  {
   "cell_type": "code",
   "execution_count": 42,
   "id": "c68b9a7e-d13b-48d0-b36c-dbf78fdd20f5",
   "metadata": {},
   "outputs": [],
   "source": [
    "l=data['Data'].to_list()"
   ]
  },
  {
   "cell_type": "code",
   "execution_count": 43,
   "id": "955e5c21-1376-4316-9979-48e84f4b4e91",
   "metadata": {},
   "outputs": [],
   "source": [
    "l=l[6:12]"
   ]
  },
  {
   "cell_type": "code",
   "execution_count": 44,
   "id": "9a419a4f-4aa5-4ddb-b66d-6e328ac3d8d2",
   "metadata": {},
   "outputs": [
    {
     "data": {
      "text/plain": [
       "[175.0, 179.0, 180.0, 175.0, 178.9, 176.2]"
      ]
     },
     "execution_count": 44,
     "metadata": {},
     "output_type": "execute_result"
    }
   ],
   "source": [
    "l"
   ]
  },
  {
   "cell_type": "code",
   "execution_count": 47,
   "id": "10a557d5-d5a7-4ae0-8795-b1f4b2bb36c5",
   "metadata": {},
   "outputs": [
    {
     "data": {
      "text/plain": [
       "177.35"
      ]
     },
     "execution_count": 47,
     "metadata": {},
     "output_type": "execute_result"
    }
   ],
   "source": [
    "sum(l)/len(l)"
   ]
  },
  {
   "cell_type": "code",
   "execution_count": 48,
   "id": "74190ed5-6298-4efa-ba60-55ee14410113",
   "metadata": {},
   "outputs": [],
   "source": [
    "#Therefore we can see sample mean and population mean are almost same also mean mode  median are same for this data so we can see this data forms Normal or Gaussian distribution"
   ]
  },
  {
   "cell_type": "markdown",
   "id": "e2b12c66-8ac4-459c-a86f-947e60eda3b9",
   "metadata": {},
   "source": [
    "Q12. For a normal distribution data what is the relationship between its measure of central tendency?"
   ]
  },
  {
   "cell_type": "code",
   "execution_count": 49,
   "id": "9011dac6-b1e8-4572-a4a2-8a9c7f69e9c1",
   "metadata": {},
   "outputs": [],
   "source": [
    "#As this data is symmetrical and no skewness is present \n",
    "#Therefore here mean = mode = median"
   ]
  },
  {
   "cell_type": "markdown",
   "id": "64297be2-7222-4958-a900-230c7d076744",
   "metadata": {},
   "source": [
    "Q13. How is covariance different from correlation?"
   ]
  },
  {
   "cell_type": "code",
   "execution_count": 50,
   "id": "dc9ea516-8017-46d4-88cb-fa89f050c447",
   "metadata": {},
   "outputs": [],
   "source": [
    "#Covariance shows how two variable differ while \n",
    "#Correlation shows how to variable are related\n",
    "#We can find covariance using cov(x,y)\n",
    "#While for correlation we use spearson peakerson like methods"
   ]
  },
  {
   "cell_type": "markdown",
   "id": "5ffdda9e-0bd4-4d28-b3ac-2edfea8c1645",
   "metadata": {},
   "source": [
    "Q14. How do outliers affect measures of central tendency and dispersion? Provide an example."
   ]
  },
  {
   "cell_type": "code",
   "execution_count": 51,
   "id": "502d8ef3-4c8b-4254-b7f6-c576f3bd1abb",
   "metadata": {},
   "outputs": [],
   "source": [
    "#Outlier affects badly on mean it changes mean value\n",
    "#While dispersion outlier change pdf plot shape"
   ]
  },
  {
   "cell_type": "code",
   "execution_count": null,
   "id": "1fa10ccf-88ef-45f0-8d71-17f15eee4a1e",
   "metadata": {},
   "outputs": [],
   "source": []
  }
 ],
 "metadata": {
  "kernelspec": {
   "display_name": "Python 3 (ipykernel)",
   "language": "python",
   "name": "python3"
  },
  "language_info": {
   "codemirror_mode": {
    "name": "ipython",
    "version": 3
   },
   "file_extension": ".py",
   "mimetype": "text/x-python",
   "name": "python",
   "nbconvert_exporter": "python",
   "pygments_lexer": "ipython3",
   "version": "3.10.8"
  }
 },
 "nbformat": 4,
 "nbformat_minor": 5
}
