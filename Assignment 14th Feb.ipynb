{
 "cells": [
  {
   "cell_type": "markdown",
   "id": "b73599ce-14ba-465f-a3ae-54783749a744",
   "metadata": {},
   "source": [
    "Q.1) What is multithreading in python? why is it used? Name the module used to handle threads in python?"
   ]
  },
  {
   "cell_type": "code",
   "execution_count": 6,
   "id": "c3a78cd1-ff81-47ea-9c12-3e40a6d98dbf",
   "metadata": {},
   "outputs": [],
   "source": [
    "#Multithreading is concept of performing execution of multiple programs simultaneously \n",
    "#Eg we have function where we have to perform multiplication table of given numbers so here by using multithreading we can print one by one\n",
    "#Module name threading is used in this process to handle threads"
   ]
  },
  {
   "cell_type": "code",
   "execution_count": 5,
   "id": "e5185559-e733-436b-b899-b048fe6a08b1",
   "metadata": {},
   "outputs": [
    {
     "name": "stdout",
     "output_type": "stream",
     "text": [
      "2 * 1 = 2\n",
      "4 * 1 = 4\n",
      "7 * 1 = 7\n",
      "2 * 2 = 4\n",
      "7 * 2 = 14\n",
      "4 * 2 = 8\n",
      "2 * 3 = 6\n",
      "7 * 3 = 21\n",
      "4 * 3 = 12\n",
      "2 * 4 = 8\n",
      "7 * 4 = 28\n",
      "4 * 4 = 16\n",
      "7 * 5 = 35\n",
      "2 * 5 = 10\n",
      "4 * 5 = 20\n",
      "7 * 6 = 42\n",
      "2 * 6 = 12\n",
      "4 * 6 = 24\n",
      "7 * 7 = 49\n",
      "2 * 7 = 14\n",
      "4 * 7 = 28\n",
      "7 * 8 = 56\n",
      "2 * 8 = 16\n",
      "4 * 8 = 32\n",
      "7 * 9 = 63\n",
      "2 * 9 = 18\n",
      "4 * 9 = 36\n",
      "7 * 10 = 70\n",
      "2 * 10 = 20\n",
      "4 * 10 = 40\n"
     ]
    }
   ],
   "source": [
    "import threading\n",
    "import time\n",
    "def test(x) : \n",
    "    for i in range(1,11) : \n",
    "        print(f\"{x} * {i} = {x*i}\")\n",
    "        time.sleep(1)\n",
    "        \n",
    "thread = [threading.Thread(target=test , args=(i,)) for i in [2,4,7]]\n",
    "\n",
    "for t in thread:\n",
    "    t.start()"
   ]
  },
  {
   "cell_type": "markdown",
   "id": "c1b413ff-45e3-4b1c-8b02-7e2cd4d7c0e8",
   "metadata": {},
   "source": [
    "Q.2) Why threading module used? Write the use of the following functions\n",
    "\n",
    "1.activeCount\n",
    "\n",
    "2.currentThread\n",
    "\n",
    "3.enumerate"
   ]
  },
  {
   "cell_type": "code",
   "execution_count": 7,
   "id": "c3ee768b-b87c-47f1-8c77-a3ea6d12f7f7",
   "metadata": {},
   "outputs": [],
   "source": [
    "#Module name threading is used to handle threads\n",
    "#Where each thread has program performing execution for that input\n"
   ]
  },
  {
   "cell_type": "code",
   "execution_count": 11,
   "id": "dbe3c61e-0a03-4f5e-93ba-ab7a7608a3d2",
   "metadata": {},
   "outputs": [
    {
     "name": "stdout",
     "output_type": "stream",
     "text": [
      "2 * 1 = 2\n",
      "4 * 1 = 4\n",
      "7 * 1 = 7\n",
      "Number of active threads: 11\n",
      "2 * 2 = 4\n",
      "Number of active threads: 11\n",
      "4 * 2 = 8\n",
      "Number of active threads: 11\n",
      "7 * 2 = 14\n",
      "Number of active threads: 11\n",
      "2 * 3 = 6\n",
      "Number of active threads: 11\n",
      "4 * 3 = 12\n",
      "Number of active threads: 11\n",
      "7 * 3 = 21\n",
      "Number of active threads: 11\n",
      "2 * 4 = 8\n",
      "Number of active threads: 11\n",
      "7 * 4 = 28\n",
      "Number of active threads: 11\n",
      "4 * 4 = 16\n",
      "Number of active threads: 11\n",
      "2 * 5 = 10\n",
      "Number of active threads: 11\n",
      "7 * 5 = 35\n",
      "Number of active threads: 11\n",
      "4 * 5 = 20\n",
      "Number of active threads: 11\n",
      "2 * 6 = 12\n",
      "Number of active threads: 11\n",
      "7 * 6 = 42\n",
      "Number of active threads: 11\n",
      "4 * 6 = 24\n",
      "Number of active threads: 11\n",
      "2 * 7 = 14\n",
      "Number of active threads: 11\n",
      "7 * 7 = 49\n",
      "Number of active threads: 11\n",
      "4 * 7 = 28\n",
      "Number of active threads: 11\n",
      "2 * 8 = 16\n",
      "Number of active threads: 11\n",
      "7 * 8 = 56\n",
      "Number of active threads: 11\n",
      "4 * 8 = 32\n",
      "Number of active threads: 11\n",
      "2 * 9 = 18\n",
      "Number of active threads: 11\n",
      "7 * 9 = 63\n",
      "Number of active threads: 11\n",
      "4 * 9 = 36\n",
      "Number of active threads: 11\n",
      "2 * 10 = 20\n",
      "Number of active threads: 11\n",
      "7 * 10 = 70\n",
      "Number of active threads: 11\n",
      "4 * 10 = 40\n",
      "Number of active threads: 11\n",
      "Number of active threads: 10\n",
      "Number of active threads: 9\n"
     ]
    }
   ],
   "source": [
    "#activeCount method in thread module returns number of threads that are active for performing given program\n",
    "import threading\n",
    "import time\n",
    "def test(x) : \n",
    "    for i in range(1,11) : \n",
    "        print(f\"{x} * {i} = {x*i}\")\n",
    "        time.sleep(1)\n",
    "        print(\"Number of active threads:\", threading.active_count())\n",
    "        \n",
    "thread = [threading.Thread(target=test , args=(i,)) for i in [2,4,7]]\n",
    "\n",
    "for t in thread:\n",
    "    t.start()"
   ]
  },
  {
   "cell_type": "code",
   "execution_count": 13,
   "id": "8d50a8ef-1632-4d68-9b02-1a5015f148f9",
   "metadata": {},
   "outputs": [
    {
     "name": "stdout",
     "output_type": "stream",
     "text": [
      "2 * 1 = 2\n",
      "4 * 1 = 4\n",
      "7 * 1 = 7\n",
      "Active current thread right now: <Thread(Thread-20 (test), started 140523872446016)>\n",
      "2 * 2 = 4\n",
      "Active current thread right now: <Thread(Thread-22 (test), started 140523864053312)>\n",
      "7 * 2 = 14\n",
      "Active current thread right now: <Thread(Thread-21 (test), started 140523855660608)>\n",
      "4 * 2 = 8\n",
      "Active current thread right now: <Thread(Thread-20 (test), started 140523872446016)>\n",
      "2 * 3 = 6\n",
      "Active current thread right now: <Thread(Thread-22 (test), started 140523864053312)>\n",
      "7 * 3 = 21\n",
      "Active current thread right now: <Thread(Thread-21 (test), started 140523855660608)>\n",
      "4 * 3 = 12\n",
      "Active current thread right now: <Thread(Thread-20 (test), started 140523872446016)>\n",
      "2 * 4 = 8\n",
      "Active current thread right now: <Thread(Thread-22 (test), started 140523864053312)>\n",
      "7 * 4 = 28\n",
      "Active current thread right now: <Thread(Thread-21 (test), started 140523855660608)>\n",
      "4 * 4 = 16\n",
      "Active current thread right now: <Thread(Thread-20 (test), started 140523872446016)>\n",
      "2 * 5 = 10\n",
      "Active current thread right now: <Thread(Thread-22 (test), started 140523864053312)>\n",
      "7 * 5 = 35\n",
      "Active current thread right now: <Thread(Thread-21 (test), started 140523855660608)>\n",
      "4 * 5 = 20\n",
      "Active current thread right now: <Thread(Thread-20 (test), started 140523872446016)>\n",
      "2 * 6 = 12\n",
      "Active current thread right now: <Thread(Thread-22 (test), started 140523864053312)>\n",
      "7 * 6 = 42\n",
      "Active current thread right now: <Thread(Thread-21 (test), started 140523855660608)>\n",
      "4 * 6 = 24\n",
      "Active current thread right now: <Thread(Thread-20 (test), started 140523872446016)>\n",
      "2 * 7 = 14\n",
      "Active current thread right now: <Thread(Thread-21 (test), started 140523855660608)>\n",
      "4 * 7 = 28\n",
      "Active current thread right now: <Thread(Thread-22 (test), started 140523864053312)>\n",
      "7 * 7 = 49\n",
      "Active current thread right now: <Thread(Thread-20 (test), started 140523872446016)>\n",
      "2 * 8 = 16\n",
      "Active current thread right now: <Thread(Thread-21 (test), started 140523855660608)>\n",
      "4 * 8 = 32\n",
      "Active current thread right now: <Thread(Thread-22 (test), started 140523864053312)>\n",
      "7 * 8 = 56\n",
      "Active current thread right now: <Thread(Thread-20 (test), started 140523872446016)>\n",
      "2 * 9 = 18\n",
      "Active current thread right now: <Thread(Thread-21 (test), started 140523855660608)>\n",
      "4 * 9 = 36\n",
      "Active current thread right now: <Thread(Thread-22 (test), started 140523864053312)>\n",
      "7 * 9 = 63\n",
      "Active current thread right now: <Thread(Thread-20 (test), started 140523872446016)>\n",
      "2 * 10 = 20\n",
      "Active current thread right now: <Thread(Thread-21 (test), started 140523855660608)>\n",
      "4 * 10 = 40\n",
      "Active current thread right now: <Thread(Thread-22 (test), started 140523864053312)>\n",
      "7 * 10 = 70\n",
      "Active current thread right now: <Thread(Thread-20 (test), started 140523872446016)>\n",
      "Active current thread right now: <Thread(Thread-22 (test), started 140523864053312)>\n",
      "Active current thread right now: <Thread(Thread-21 (test), started 140523855660608)>\n"
     ]
    }
   ],
   "source": [
    "#current_thread returns the current active thread in program\n",
    "import threading\n",
    "import time\n",
    "def test(x) : \n",
    "    for i in range(1,11) : \n",
    "        print(f\"{x} * {i} = {x*i}\")\n",
    "        time.sleep(1)\n",
    "        print(\"Active current thread right now:\", (threading.current_thread()))\n",
    "        \n",
    "thread = [threading.Thread(target=test , args=(i,)) for i in [2,4,7]]\n",
    "\n",
    "for t in thread:\n",
    "    t.start()"
   ]
  },
  {
   "cell_type": "code",
   "execution_count": 15,
   "id": "2d41ae05-01c2-44ba-b101-2e8fa556d4d7",
   "metadata": {},
   "outputs": [],
   "source": [
    "#Enumerate returns list of all threads currently active"
   ]
  },
  {
   "cell_type": "markdown",
   "id": "b5e61b6f-a39e-4b8d-b63d-5ecd9b34d96a",
   "metadata": {},
   "source": [
    "Q3) Explain the following functions\n",
    "run()\n",
    "start()\n",
    "join()\n",
    "isAlive()"
   ]
  },
  {
   "cell_type": "code",
   "execution_count": 16,
   "id": "6a467d91-756d-4274-b858-7a9f1c509855",
   "metadata": {},
   "outputs": [],
   "source": [
    "#run() − The run() method is the entry point for a thread.\n",
    "#start() − The start() method starts a thread by calling the run method.\n",
    "#join() − The join() waits for threads to terminate.\n",
    "#isAlive() − The isAlive() method checks whether a thread is still executing."
   ]
  },
  {
   "cell_type": "markdown",
   "id": "32755b8e-fc05-487b-9a00-4828b69613e2",
   "metadata": {},
   "source": [
    "Q4) Write a python program to create two threads. Thread one must print the list of squares and thread\n",
    "two must print the list of cubes"
   ]
  },
  {
   "cell_type": "code",
   "execution_count": 23,
   "id": "ce4af352-0188-4c34-9efe-d9d48f9ecd2e",
   "metadata": {},
   "outputs": [
    {
     "name": "stdout",
     "output_type": "stream",
     "text": [
      "1^2 = 1\n",
      "2^2 = 4\n",
      "3^2 = 9\n",
      "4^2 = 16\n",
      "5^2 = 25\n",
      "\n",
      "\n",
      "1^3 = 1\n",
      "2^3 = 8\n",
      "3^3 = 27\n",
      "4^3 = 64\n",
      "5^3 = 125\n"
     ]
    }
   ],
   "source": [
    "import threading\n",
    "def square(x) : \n",
    "    print(f\"{x}^2 = {x*x}\")\n",
    "        \n",
    "thread1 = [threading.Thread(target=square , args=(i,)) for i in range(1,6)]\n",
    "\n",
    "for t in thread1:\n",
    "    t.start()\n",
    "    \n",
    "print(\"\\n\")\n",
    "\n",
    "def cube(x) : \n",
    "    print(f\"{x}^3 = {x*x*x}\")\n",
    "        \n",
    "thread2 = [threading.Thread(target=cube , args=(i,)) for i in range(1,6)]\n",
    "\n",
    "for t in thread2:\n",
    "    t.start()"
   ]
  },
  {
   "cell_type": "markdown",
   "id": "84c036b9-2ffd-4a9f-93d1-64e81221d864",
   "metadata": {},
   "source": [
    "Q5) State advantages and disadvantages of multithreading"
   ]
  },
  {
   "cell_type": "code",
   "execution_count": 25,
   "id": "41678211-7f6c-41e9-a1f3-057f6419e1b3",
   "metadata": {},
   "outputs": [],
   "source": [
    "#Advantages:\n",
    "#We can operate on different programs and perform their exceution simulataeouls one by one \n",
    "#Threads minimize the context switching time.\n",
    "#Use of threads provides concurrency within a process.\n",
    "#Efficient communication.\n",
    "#It is more economical to create and context switch threads.\n",
    "#Threads allow utilization of multiprocessor architectures to a greater scale and efficiency"
   ]
  },
  {
   "cell_type": "code",
   "execution_count": 26,
   "id": "9934bc18-9866-4220-873a-6a01a15bff3c",
   "metadata": {},
   "outputs": [],
   "source": [
    "#Disadvantages:\n",
    "#In a typical operating system, most system calls are blocking.\n",
    "#Multithreaded application cannot take advantage of multiprocessing.\n",
    "#Multithreading can't have parallel operation on program like mulitprocessing does  "
   ]
  },
  {
   "cell_type": "markdown",
   "id": "58164355-e29b-4049-a581-83f582f9b85b",
   "metadata": {},
   "source": [
    "Q6) Explain deadlocks and race conditions."
   ]
  },
  {
   "cell_type": "code",
   "execution_count": 27,
   "id": "0ec8ee6d-4c76-4dd9-bbf2-7fb25b947f72",
   "metadata": {},
   "outputs": [],
   "source": [
    "#Two basic problems commonly occur in multi-threaded programs: Deadlock and Race Conditions\n",
    "#Two threads hold locks on different resources each waiting indefinitely for the other to release its lock\n",
    "#Race Condition. Two (or more) threads alter the state of a shared resource concurrently, leaving it in an unpredictable state"
   ]
  },
  {
   "cell_type": "code",
   "execution_count": null,
   "id": "eda92c97-14d6-48cb-92cb-ef2f46eb59d1",
   "metadata": {},
   "outputs": [],
   "source": []
  }
 ],
 "metadata": {
  "kernelspec": {
   "display_name": "Python 3 (ipykernel)",
   "language": "python",
   "name": "python3"
  },
  "language_info": {
   "codemirror_mode": {
    "name": "ipython",
    "version": 3
   },
   "file_extension": ".py",
   "mimetype": "text/x-python",
   "name": "python",
   "nbconvert_exporter": "python",
   "pygments_lexer": "ipython3",
   "version": "3.10.8"
  }
 },
 "nbformat": 4,
 "nbformat_minor": 5
}
