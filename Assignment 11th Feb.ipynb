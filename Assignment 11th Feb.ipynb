{
 "cells": [
  {
   "cell_type": "markdown",
   "id": "adc6baed-038f-4655-b55a-faffe2b66f1e",
   "metadata": {},
   "source": [
    "Q1. Which function is used to open a file? What are the different modes of opening a file? Explain each mode\n",
    "of file opening.\n"
   ]
  },
  {
   "cell_type": "code",
   "execution_count": 16,
   "id": "c47cf0bc-084d-4dbe-863c-43e0234f6fe4",
   "metadata": {},
   "outputs": [],
   "source": [
    "#open funtion is used to open file\n",
    "#First Mode to open file for writing\n",
    "f=open(\"New_File.txt\",\"w\")\n",
    "#Second Mode for read and write\n",
    "f=open(\"New_File.txt\",\"w+\")\n",
    "#Third mode for read only\n",
    "f=open(\"New_File.txt\",\"r\")\n",
    "#Fourth mode for read and write\n",
    "f=open(\"New_File.txt\",\"r+\")\n",
    "#Fifth mode for append only\n",
    "f=open(\"New_File.txt\",\"a\")\n",
    "#Sixth mode for append and read\n",
    "f=open(\"New_File.txt\",\"a+\")\n",
    "\n",
    "f.close()\n",
    "\n",
    "import os\n",
    "os.remove(\"New_File.txt\")"
   ]
  },
  {
   "cell_type": "markdown",
   "id": "3f34ebad-980d-4ce5-b104-879ecd93cdd8",
   "metadata": {},
   "source": [
    "Q2. Why close() function is used? Why is it important to close a file?"
   ]
  },
  {
   "cell_type": "code",
   "execution_count": 15,
   "id": "68d59b78-b76f-4bcd-bb25-ad6fcdf955ac",
   "metadata": {},
   "outputs": [],
   "source": [
    "#Close function is use to close opened file\n",
    "#Unitil we don't close opened file till then we are not able see changes made"
   ]
  },
  {
   "cell_type": "markdown",
   "id": "391f18e2-62d9-44e8-8503-b5689dc8e6ba",
   "metadata": {},
   "source": [
    "Q3. Write a python program to create a text file. Write ‘I want to become a Data Scientist’ in that file. Then\n",
    "close the file. Open this file and read the content of the file."
   ]
  },
  {
   "cell_type": "code",
   "execution_count": 24,
   "id": "bab92cb7-988c-4e89-815b-74d0062fc6c6",
   "metadata": {},
   "outputs": [],
   "source": [
    "f=open(\"New_File.txt\",\"w\")\n",
    "f.write(\"I want to beacome a Data Scientist\")\n",
    "f.close()\n",
    "read_file=open(\"New_File.txt\",\"r\")\n",
    "read_file.read()\n",
    "f.close()"
   ]
  },
  {
   "cell_type": "markdown",
   "id": "876ff734-143c-43ab-b095-7622e3629ce3",
   "metadata": {},
   "source": [
    "Q4. Explain the following with python code: read(), readline() and readlines().\""
   ]
  },
  {
   "cell_type": "code",
   "execution_count": 33,
   "id": "87c30052-5c2e-4492-af9c-7299e8cca4fb",
   "metadata": {},
   "outputs": [],
   "source": [
    "f=open(\"New_File.txt\",\"w\")\n",
    "f.write(\"A data scientist uses data to understand and explain the phenomena around them, and help organizations make better decisions. Working as a data scientist can be intellectually challenging, analytically satisfying, and put you at the forefront of new advances in technology Data scientists typically need at least a bachelor's degree in computer science, data science, or a related field. However, many employers in this field prefer a master's degree in data science or a related discipline. Data analysts and data engineers usually need a bachelor's degree.\")\n",
    "data=open(\"New_File.txt\",\"r\")\n",
    "data.read()\n",
    "f.close()"
   ]
  },
  {
   "cell_type": "code",
   "execution_count": 61,
   "id": "91c57558-0611-4d3d-96fa-be5e9416f3f1",
   "metadata": {},
   "outputs": [
    {
     "name": "stdout",
     "output_type": "stream",
     "text": [
      "\n",
      "\n",
      " A data scientist uses data to understand and explain the phenomena around them, and help organizations make better decisions. Working as a data scientist can be intellectually challenging, analytically satisfying, and put you at the forefront of new advances in technology Data scientists typically need at least a bachelor's degree in computer science, data science, or a related field. However, many employers in this field prefer a master's degree in data science or a related discipline. Data analysts and data engineers usually need a bachelor's degree.\n",
      "\n",
      "\n",
      " A data scientist uses data to understand and expla\n",
      "\n",
      "\n",
      " [\"A data scientist uses data to understand and explain the phenomena around them, and help organizations make better decisions. Working as a data scientist can be intellectually challenging, analytically satisfying, and put you at the forefront of new advances in technology Data scientists typically need at least a bachelor's degree in computer science, data science, or a related field. However, many employers in this field prefer a master's degree in data science or a related discipline. Data analysts and data engineers usually need a bachelor's degree.\"]\n"
     ]
    }
   ],
   "source": [
    "f=open(\"New_File.txt\",\"r\")\n",
    "data1=f.readline()\n",
    "print(\"\\n\\n\",data1)\n",
    "f.seek(0)\n",
    "data1=f.readline(50)\n",
    "print(\"\\n\\n\",data1)\n",
    "f.seek(0)\n",
    "data2=f.readlines(1)\n",
    "print(\"\\n\\n\",data2)\n",
    "#Readline gets one argument by default it gives all lines in file and if any integr number is given it takes length of chracters in line\n",
    "#Whereas readlines gives access of file by line by line in list format"
   ]
  },
  {
   "cell_type": "markdown",
   "id": "d93639b5-b9c7-4398-b443-d0a11089e5fb",
   "metadata": {},
   "source": [
    "Q5. Explain why with statement is used with open(). What is the advantage of using with statement and\n",
    "open() together?"
   ]
  },
  {
   "cell_type": "code",
   "execution_count": 65,
   "id": "51b22bff-ba8c-43f2-abd6-8b6bffafd4de",
   "metadata": {},
   "outputs": [
    {
     "name": "stdout",
     "output_type": "stream",
     "text": [
      "A data scientist uses data to understand and explain the phenomena around them, and help organizations make better decisions. Working as a data scientist can be intellectually challenging, analytically satisfying, and put you at the forefront of new advances in technology Data scientists typically need at least a bachelor's degree in computer science, data science, or a related field. However, many employers in this field prefer a master's degree in data science or a related discipline. Data analysts and data engineers usually need a bachelor's degree.\n"
     ]
    }
   ],
   "source": [
    "#New way to read a file\n",
    "with open(\"New_File.txt\",\"r\") as f:\n",
    "    print(f.read())\n",
    "#It by default closes file no need to explicitly close by close statement unlike we did previously where we are opening file then \n",
    "#performing operation we need to then close file to get reflected our changes"
   ]
  },
  {
   "cell_type": "markdown",
   "id": "cbb29228-3774-442b-af06-63fffe483317",
   "metadata": {},
   "source": [
    "Q6. Explain the write() and writelines() functions. Give a suitable example."
   ]
  },
  {
   "cell_type": "code",
   "execution_count": 82,
   "id": "4822dbf8-ff50-4d1c-8ced-ed9edbf4217a",
   "metadata": {},
   "outputs": [
    {
     "data": {
      "text/plain": [
       "'\\nHi I am Unknown. This is my file.'"
      ]
     },
     "execution_count": 82,
     "metadata": {},
     "output_type": "execute_result"
    }
   ],
   "source": [
    "f=open(\"New_Text.txt\",\"w\")\n",
    "f.write(\"Hi I am Unknown. This is my file.\")\n",
    "f.close()\n",
    "data=open(\"New_Text.txt\",\"r\")\n",
    "data.read()\n",
    "data.seek(0)\n",
    "f.close()\n",
    "f=open(\"New_Text.txt\",\"w\")\n",
    "f.writelines([\"\\nHi I am Unknown. This is my file.\"])\n",
    "f.close()\n",
    "data=open(\"New_Text.txt\",\"r\")\n",
    "data.seek(0)\n",
    "data.read()\n",
    "##f.close()"
   ]
  },
  {
   "cell_type": "code",
   "execution_count": null,
   "id": "a1ca9605-ca6e-4d18-8da9-18042a9e4646",
   "metadata": {},
   "outputs": [],
   "source": []
  }
 ],
 "metadata": {
  "kernelspec": {
   "display_name": "Python 3 (ipykernel)",
   "language": "python",
   "name": "python3"
  },
  "language_info": {
   "codemirror_mode": {
    "name": "ipython",
    "version": 3
   },
   "file_extension": ".py",
   "mimetype": "text/x-python",
   "name": "python",
   "nbconvert_exporter": "python",
   "pygments_lexer": "ipython3",
   "version": "3.10.8"
  }
 },
 "nbformat": 4,
 "nbformat_minor": 5
}
