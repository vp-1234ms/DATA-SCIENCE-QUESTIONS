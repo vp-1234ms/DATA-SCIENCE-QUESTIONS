{
 "cells": [
  {
   "cell_type": "markdown",
   "id": "239434f9-e08b-48d3-9492-096d64bfbce5",
   "metadata": {},
   "source": [
    "Q1. What is Statistics?"
   ]
  },
  {
   "cell_type": "code",
   "execution_count": 1,
   "id": "9bec1e10-bd50-430d-bffe-5ea88755d93b",
   "metadata": {},
   "outputs": [],
   "source": [
    "#Statistics is science of collecting organizing and analysing of data.\n",
    "#We can do these by using descriptive and inferential statistics"
   ]
  },
  {
   "cell_type": "markdown",
   "id": "ccc59409-d074-4ad5-bc38-c443ef8ab4e5",
   "metadata": {},
   "source": [
    "Q2. Define the different types of statistics and give an example of when each type might be used."
   ]
  },
  {
   "cell_type": "code",
   "execution_count": 3,
   "id": "f750d3d2-f04f-42a7-9111-8abc01430f5b",
   "metadata": {},
   "outputs": [],
   "source": [
    "#There are mainly two types of statistics \n",
    "#i) Descrptive Statistics \n",
    "#Here we deal with mean,mode,median,central tendancy,variance,standard deviation,etc.\n",
    "#ii) Inferential Statistics\n",
    "#Here we get answers of our questions like is India rich country based of data given\n",
    "#We use here various tests hypothesis testings analyzing and various things"
   ]
  },
  {
   "cell_type": "markdown",
   "id": "6c90a038-e4cf-49e5-94fe-83b595113767",
   "metadata": {},
   "source": [
    "Q3. What are the different types of data and how do they differ from each other? Provide an example of\n",
    "each type of data."
   ]
  },
  {
   "cell_type": "code",
   "execution_count": 4,
   "id": "82c2fe92-36f5-49b4-9129-ceab3fb5739b",
   "metadata": {},
   "outputs": [],
   "source": [
    "#There are mainly two types of data like \n",
    "#Numerical (Quantatative Data) Data\n",
    "#i)Discrete Data(Number of children in family)\n",
    "#ii)Continuos data(Height of people)\n",
    "#Categorical (Qualitative Data) Data\n",
    "#i)Nominal Data(Rank does not matter) (Gender category , blood groups)\n",
    "#ii)Ordinal Data(Rank can be determined or order exixt)(Upper class, middle class, lower class,university ranking)\n"
   ]
  },
  {
   "cell_type": "markdown",
   "id": "4687da53-eb60-430a-9527-2d6b85f21fb4",
   "metadata": {},
   "source": [
    "Q4. Categorise the following datasets with respect to quantitative and qualitative data types:\n",
    "\n",
    "(i) Grading in exam: A+, A, B+, B, C+, C, D, E\n",
    "\n",
    "(ii) Colour of mangoes: yellow, green, orange, red\n",
    "\n",
    "(iii) Height data of a class: [178.9, 179, 179.5, 176, 177.2, 178.3, 175.8,...]\n",
    "\n",
    "(iv) Number of mangoes exported by a farm: [500, 600, 478, 672, ...]"
   ]
  },
  {
   "cell_type": "code",
   "execution_count": 5,
   "id": "32c23efc-f832-4737-bf96-8e756d2e9f01",
   "metadata": {},
   "outputs": [],
   "source": [
    "#i)Ordinal Qualitative Data\n",
    "#ii)Nominal Qualitative Data\n",
    "#iii)Continuous Quantitative Data\n",
    "#iv)Discrete Quantitative Data"
   ]
  },
  {
   "cell_type": "markdown",
   "id": "643ad695-a324-4be8-8a8f-dfc1029a7a0e",
   "metadata": {},
   "source": [
    "Q5. Explain the concept of levels of measurement and give an example of a variable for each level."
   ]
  },
  {
   "cell_type": "code",
   "execution_count": 6,
   "id": "059c62e5-2753-4b5a-aad2-f77bd83388d4",
   "metadata": {},
   "outputs": [],
   "source": [
    "#There four levels of measurement of Data\n",
    "#i)Nominal Data(Rank does not matter) (Gender category , blood groups)\n",
    "#ii)Ordinal Data(Rank can be determined or order exixt)(Upper class, middle class, lower class,university ranking)\n",
    "#iii)Interval Data(Here it is not necessary measurement will start from zero)(Temperature measurement)\n",
    "#iv)Ratio Data(Here measurement starts from zero )(BMI ratio)"
   ]
  },
  {
   "cell_type": "markdown",
   "id": "d0ea89ac-009a-4c96-a04e-1b3bbe508fd7",
   "metadata": {},
   "source": [
    "Q6. Why is it important to understand the level of measurement when analyzing data? Provide an\n",
    "example to illustrate your answer."
   ]
  },
  {
   "cell_type": "code",
   "execution_count": 7,
   "id": "ae47c8dd-afda-47ac-a096-21db9000e1b7",
   "metadata": {},
   "outputs": [],
   "source": [
    "#By understanding level of measurement only we will get to know how data is distributed \n",
    "#We will get to know all datatypes involved in Data so we can analyse easily\n",
    "#Example sales order data of Ecommerce store eg:Amazon there we have all types of data\n",
    "#Example gender og customer(Qualitative/Catgorical), Price of product purchase(Quantitative),Address,Data,etc\n",
    "#So we need to understand the level of measurement while analyzing data"
   ]
  },
  {
   "cell_type": "markdown",
   "id": "a1e76fe8-ad3e-40ab-9e83-7c684e807f7d",
   "metadata": {},
   "source": [
    "Q7. How nominal data type is different from ordinal data type."
   ]
  },
  {
   "cell_type": "code",
   "execution_count": 8,
   "id": "843cd9d6-7c49-41cd-a3ff-10a7d594f3d8",
   "metadata": {},
   "outputs": [],
   "source": [
    "#Nominal and Ordinal both lie under categorical or qualitative data \n",
    "#In Nominal data we cannot rank categories like genders types or blood groups types there are no specific values of catesgories\n",
    "#In ordinal we can actually rank like Economic classes in society or Ratings of products"
   ]
  },
  {
   "cell_type": "markdown",
   "id": "3622950e-9cb3-44ee-b8f5-3355266e8d28",
   "metadata": {},
   "source": [
    "Q8. Which type of plot can be used to display data in terms of range?"
   ]
  },
  {
   "cell_type": "code",
   "execution_count": 9,
   "id": "4bc725e9-7abd-4987-9da2-7e32aca1e428",
   "metadata": {},
   "outputs": [],
   "source": [
    "#We have interval as well as ratio data here to disolay in terms of range\n",
    "#Depending zero value we can use thses categories under categorical or qualitative data"
   ]
  },
  {
   "cell_type": "markdown",
   "id": "3a9889b9-7dc9-4eaa-b74b-93329d31024c",
   "metadata": {},
   "source": [
    "Q9. Describe the difference between descriptive and inferential statistics. Give an example of each\n",
    "type of statistics and explain how they are used."
   ]
  },
  {
   "cell_type": "code",
   "execution_count": 10,
   "id": "77f123b3-b18a-417f-910b-1d0d5272f788",
   "metadata": {},
   "outputs": [],
   "source": [
    "#There are mainly two types of statistics \n",
    "#i) Descrptive Statistics \n",
    "#Here we deal with mean,mode,median,central tendancy,variance,standard deviation,etc.\n",
    "#ii) Inferential Statistics\n",
    "#Here we get answers of our questions like is India rich country based of data given\n",
    "#We use here various tests hypothesis testings analyzing and various things"
   ]
  },
  {
   "cell_type": "markdown",
   "id": "5486084d-96d0-4c04-b28e-c7b537433ac6",
   "metadata": {},
   "source": [
    "Q10. What are some common measures of central tendency and variability used in statistics? Explain\n",
    "how each measure can be used to describe a dataset."
   ]
  },
  {
   "cell_type": "code",
   "execution_count": 11,
   "id": "2e69678b-3cbd-43b0-852b-bb14c02b5ea2",
   "metadata": {},
   "outputs": [],
   "source": [
    "#These measure of tendancies and variablity lie under Descriptive Statistics\n",
    "#i)In central tendancy we get to know how our data is spread around mean or how well it is centered like standard deviation variance\n",
    "#ii)In variabliy we get to know structure of data like mean average max mean min mode median"
   ]
  },
  {
   "cell_type": "code",
   "execution_count": null,
   "id": "7960eb8a-9c44-4b61-845c-3ab0658aea6d",
   "metadata": {},
   "outputs": [],
   "source": []
  }
 ],
 "metadata": {
  "kernelspec": {
   "display_name": "Python 3 (ipykernel)",
   "language": "python",
   "name": "python3"
  },
  "language_info": {
   "codemirror_mode": {
    "name": "ipython",
    "version": 3
   },
   "file_extension": ".py",
   "mimetype": "text/x-python",
   "name": "python",
   "nbconvert_exporter": "python",
   "pygments_lexer": "ipython3",
   "version": "3.10.8"
  }
 },
 "nbformat": 4,
 "nbformat_minor": 5
}
