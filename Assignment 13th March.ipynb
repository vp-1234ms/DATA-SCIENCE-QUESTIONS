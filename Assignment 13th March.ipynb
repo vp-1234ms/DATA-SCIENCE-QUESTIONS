{
 "cells": [
  {
   "cell_type": "markdown",
   "id": "2c30112b-9314-4eae-b7a8-82623e13da00",
   "metadata": {},
   "source": [
    "Q1: What are the Probability Mass Function (PMF) and Probability Density Function (PDF)? Explain with\n",
    "an example."
   ]
  },
  {
   "cell_type": "code",
   "execution_count": 7,
   "id": "03e2e99d-5abd-4b49-b65f-64f46367e81d",
   "metadata": {},
   "outputs": [],
   "source": [
    "#Probablity mass function (PMF) is basically discrete random variable function \n",
    "#While Probablity Density function (PDF) is basically Continuous random variable function \n",
    "#Bernoulli binomial poisson distribution are few examples of PMF\n",
    "#While Normal/Gaussian Distribution are example of PDF"
   ]
  },
  {
   "cell_type": "markdown",
   "id": "6bc15a82-0881-456f-9270-07cd9c40f69c",
   "metadata": {},
   "source": [
    "Q2: What is Cumulative Density Function (CDF)? Explain with an example. Why CDF is used?"
   ]
  },
  {
   "cell_type": "code",
   "execution_count": 8,
   "id": "bea00481-3547-4dca-ba31-cd0b85c25a42",
   "metadata": {},
   "outputs": [],
   "source": [
    "#It is the summation plot where at every state we sum up the values and keep on adding\n",
    "#It is works same as cumulative frequency\n",
    "#We can use this in case of questions lke find probablity for less than or eqaul to certain value in data\n",
    "#Example what is probablity to get more than 3 in rollinhg dice"
   ]
  },
  {
   "cell_type": "markdown",
   "id": "d280ce90-aa43-4051-87c6-e17fc54666b4",
   "metadata": {},
   "source": [
    "Q3: What are some examples of situations where the normal distribution might be used as a model?\n",
    "Explain how the parameters of the normal distribution relate to the shape of the distribution."
   ]
  },
  {
   "cell_type": "code",
   "execution_count": 9,
   "id": "86e7c8a6-354d-4be0-a49f-09857610e699",
   "metadata": {},
   "outputs": [],
   "source": [
    "#We can use normal distribution in order to find number or percentage of elements or data lying greater than or less than certain value\n",
    "#Parameters of normal distribution are like mean and standard deviation we can see through scintific experiments that 68% of data lye \n",
    "#between mean-standard deviation to mean+standard deviation\n",
    "#While 95% lie between mean-2standard deviation to mean+2standard deviation\n",
    "#And  98% lie between mean-3standard deviation to mean+3standard deviation"
   ]
  },
  {
   "cell_type": "markdown",
   "id": "b7ff315d-f46e-4b6b-b678-f4a735231129",
   "metadata": {},
   "source": [
    "Q4: Explain the importance of Normal Distribution. Give a few real-life examples of Normal\n",
    "Distribution."
   ]
  },
  {
   "cell_type": "code",
   "execution_count": 10,
   "id": "a4d4da31-435b-4973-937e-34de247f8885",
   "metadata": {},
   "outputs": [],
   "source": [
    "#Normal distribution veru much imporatant when comes to zscore where we can use it to find find probablity for less than or eqaul to certain value in data\n",
    "#Example what is probablity to get more than 3 in rollinhg dice"
   ]
  },
  {
   "cell_type": "markdown",
   "id": "7471779e-2db3-40f6-8575-1e22e77c7955",
   "metadata": {},
   "source": [
    "Q5: What is Bernaulli Distribution? Give an Example. What is the difference between Bernoulli\n",
    "Distribution and Binomial Distribution?"
   ]
  },
  {
   "cell_type": "code",
   "execution_count": 11,
   "id": "5380678f-c29d-4e87-af53-77ad0bb558c3",
   "metadata": {},
   "outputs": [],
   "source": [
    "#Bernoulli is plot of binomial outcome distribution which depends on 1/0 yes/no success/failure \n",
    "#When we do n number or certain number of trials then we say it as binomial distribution like out of \n",
    "#Certain trials what is probablity to get success"
   ]
  },
  {
   "cell_type": "markdown",
   "id": "baff8996-d4b3-4438-9d91-0474cc646dee",
   "metadata": {},
   "source": [
    "Q6. Consider a dataset with a mean of 50 and a standard deviation of 10. If we assume that the dataset\n",
    "is normally distributed, what is the probability that a randomly selected observation will be greater\n",
    "than 60? Use the appropriate formula and show your calculations."
   ]
  },
  {
   "cell_type": "code",
   "execution_count": 12,
   "id": "a2bbf8fa-4924-4786-875c-ac08885ed912",
   "metadata": {},
   "outputs": [],
   "source": [
    "#Find zsocre for 60\n",
    "#Zscore=60-50/10=1\n",
    "#From ztable of right as it is postive z(1)=0.84132 this is for less than 60\n",
    "#For more than 60 we have 1-0.84132=0.15948 \n",
    "#0.159 is the probablity that randomly selected observation will be greater than 60"
   ]
  },
  {
   "cell_type": "markdown",
   "id": "5f6e47f9-8c17-40d7-ae22-8ee7087f0edf",
   "metadata": {},
   "source": [
    "Q7: Explain uniform Distribution with an example."
   ]
  },
  {
   "cell_type": "code",
   "execution_count": 13,
   "id": "889ae3ad-8203-4628-8470-aa37cfeebb0a",
   "metadata": {},
   "outputs": [],
   "source": [
    "#Uniform distribution is where each outcome of even has same prbablity like tossing of coin we have same probablity for head and tail\n",
    "#Also for outcome on dice each number has same probablity\n",
    "#In uniform distribution it has two types\n",
    "#i)Discrete uniform distribution like outcome on dice\n",
    "#ii)Continuous uniform distribution like chances of event hapening in given range"
   ]
  },
  {
   "cell_type": "markdown",
   "id": "e8bb10dc-fe5f-47c3-ac68-edf3c33832d6",
   "metadata": {},
   "source": [
    "Q8: What is the z score? State the importance of the z score."
   ]
  },
  {
   "cell_type": "code",
   "execution_count": 20,
   "id": "160c13bf-1183-4f60-845f-24cb0c54793f",
   "metadata": {},
   "outputs": [],
   "source": [
    "#Zscore is a difference between value oand mean then divided by standard deviation of population \n",
    "#We can get how deviated is value from mean\n",
    "#Also with the help of z score we can get standarized normal distribution\n",
    "#Zscore then z table help us to find percentage of population lying above and below certain value"
   ]
  },
  {
   "cell_type": "markdown",
   "id": "4e0aa958-5f5f-4198-8315-58776a5ba7a9",
   "metadata": {},
   "source": [
    "Q9: What is Central Limit Theorem? State the significance of the Central Limit Theorem."
   ]
  },
  {
   "cell_type": "code",
   "execution_count": 18,
   "id": "c5a61abd-f8b1-4b33-8940-ddff8659747e",
   "metadata": {},
   "outputs": [],
   "source": [
    "#Central limit theorem states about sampling distribution \n",
    "#Does not matter whether out population data follows normal r gaussian or possion or bernoulli or binomial distribution or log normal\n",
    "#But of sampling distribution will always follow normal or gaussin distribution\n",
    "#Also mean of sample distribution will be approximately equal to population mean and standard deviation of sample\n",
    "#will be standard dviation of population divided by square root of samplem size"
   ]
  },
  {
   "cell_type": "markdown",
   "id": "bd6b7a55-db33-4560-8692-c90db8b95b57",
   "metadata": {},
   "source": [
    "Q10: State the assumptions of the Central Limit Theorem."
   ]
  },
  {
   "cell_type": "code",
   "execution_count": 19,
   "id": "0d176fc5-bb69-442b-8ef0-6de8f786ef1b",
   "metadata": {},
   "outputs": [],
   "source": [
    "#Does not matter whether out population data follows normal r gaussian or possion or bernoulli or binomial distribution or log normal\n",
    "#But of sampling distribution will always follow normal or gaussin distribution\n",
    "#Also mean of sample distribution will be approximately equal to population mean and standard deviation of sample\n",
    "#will be standard dviation of population divided by square root of samplem size"
   ]
  },
  {
   "cell_type": "code",
   "execution_count": null,
   "id": "2dc1c435-48ff-4f0f-a1c5-eeb0537be61e",
   "metadata": {},
   "outputs": [],
   "source": []
  },
  {
   "cell_type": "code",
   "execution_count": null,
   "id": "3843d005-065b-4936-8de7-c6d3ccee0498",
   "metadata": {},
   "outputs": [],
   "source": []
  }
 ],
 "metadata": {
  "kernelspec": {
   "display_name": "Python 3 (ipykernel)",
   "language": "python",
   "name": "python3"
  },
  "language_info": {
   "codemirror_mode": {
    "name": "ipython",
    "version": 3
   },
   "file_extension": ".py",
   "mimetype": "text/x-python",
   "name": "python",
   "nbconvert_exporter": "python",
   "pygments_lexer": "ipython3",
   "version": "3.10.8"
  }
 },
 "nbformat": 4,
 "nbformat_minor": 5
}
