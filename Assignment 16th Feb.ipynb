{
 "cells": [
  {
   "cell_type": "markdown",
   "id": "3bfeb9a5-bdb4-476e-8bb2-2e2f80035175",
   "metadata": {},
   "source": [
    "Q1. What is a database? Differentiate between SQL and NoSQL databases."
   ]
  },
  {
   "cell_type": "code",
   "execution_count": 1,
   "id": "074f9737-b360-40ca-93ec-ea40928ef84c",
   "metadata": {},
   "outputs": [],
   "source": [
    "#DATABASE IS BASICALLY STORE HOUSE OF A DATA\n",
    "#WE CAN STORE DATA IN DATABASE USING QUERY LANGUAGE\n",
    "#DATABASE CAN BE CLASSIFIED INTO AS RELATIVE DATA BASE MANAGEMENT SYSTEM AND DATA BASE MANAGEMENT SYSTEM\n",
    "#SQL STANDS FOR STRUCTURED QUERY LANGUAGE AND NOSQL STANDS FOR NOT ONLY STRUCTURED QUERY LANGUAGE\n",
    "#WE CAN HANDLE ORGANIZED DATA IN SQL\n",
    "#WHILE IN NOSQK WE CAN HANDLE NON ORGANIZED DATA LIKE FILES AUDIO VIDEO IMAGES ETC\n"
   ]
  },
  {
   "cell_type": "markdown",
   "id": "2568f151-32b9-4f54-bab2-da9d6cee987b",
   "metadata": {},
   "source": [
    "Q2. What is DDL? Explain why CREATE, DROP, ALTER, and TRUNCATE are used with an example."
   ]
  },
  {
   "cell_type": "code",
   "execution_count": 3,
   "id": "da619fd6-0757-41f1-b871-03596e080e6e",
   "metadata": {},
   "outputs": [],
   "source": [
    "#DDL STANDS FOR DATA DEFINING LANGUAGE \n",
    "#EXAMPLES OF DDL COMMANDS ARE CREATE DROP ALTER TRUNCATE ETC\n",
    "#CREATE IS USED TO CREATE DATABASE TABLES\n",
    "#EG: CREATE DATABASE NAME     CREATE TABLE NAME.MY\n",
    "#DROP SIMILAR TO DELETE COMMAND \n",
    "#EG:DROP DATABASE NAME       DROP DATABASE NAME.MY\n",
    "#ALTER ALLOWS US TO MODIFY TABLE OR DATA IN DATABASE\n",
    "#EG:ALTER TABLE NAME\n",
    "#TRUNCATE IS USED TO REMOVE ALL ROWS IN TABLE\n",
    "#EG:TRUNCATE TABLE NAME.MY"
   ]
  },
  {
   "cell_type": "markdown",
   "id": "ac95222f-05fa-4d8f-9685-c876fa792d12",
   "metadata": {},
   "source": [
    "Q3. What is DML? Explain INSERT, UPDATE, and DELETE with an example."
   ]
  },
  {
   "cell_type": "code",
   "execution_count": 4,
   "id": "1cbf455b-826a-4931-a2b8-379f6b71bee9",
   "metadata": {},
   "outputs": [],
   "source": [
    "#DML STANDS FOR DATA MODIFYING LANGUAGE \n",
    "#EXAMPLES OF DML COMMANDS ARE INSERT UPDATE DELETE ETC\n",
    "#INSERT IS USED TO INSERT VALUES OR DATA IN OUR DATABASES TABLES\n",
    "#EG: INSERT DATABASE COLUMN VALUES\n",
    "#UPDATE IS USED TO UPDATE DATABASE VALUES\n",
    "#EG:UPDATE DATABASE TABLE COUMNS \n",
    "#DELETE IS USED TO DELETE THE PARTICULAR OR SPECIFIC VALUE\n",
    "#DELETE TABLE WHERE (CONDITION)"
   ]
  },
  {
   "cell_type": "markdown",
   "id": "e69bd0e7-157a-4488-bcca-1b75174344d9",
   "metadata": {},
   "source": [
    "Q4. What is DQL? Explain SELECT with an example."
   ]
  },
  {
   "cell_type": "code",
   "execution_count": 6,
   "id": "c2b8b406-0d33-431f-9399-2a2f67bdd13a",
   "metadata": {},
   "outputs": [],
   "source": [
    "#DQL STANDS FOR DATA QUERY LANFGUAGE\n",
    "#SELECT IS AN EXAMPLE OF DATA QUERY LANGUAGE \n",
    "#SELECT COMMAND RETRIVES VALUES FROM DATABASE AND SHOWS IN OUTPUT\n",
    "#SELECT TAKES FROM AND WHERE VALUES \n",
    "#FROM TO TELL FROM WHICH TABLE AND DATABASE\n",
    "#AND WHERE TO TELL FROM WHICH PART OF DATA\n"
   ]
  },
  {
   "cell_type": "markdown",
   "id": "53992a5a-43a9-4f2e-a6da-cb88a4db0054",
   "metadata": {},
   "source": [
    "Q5. Explain Primary Key and Foreign Key."
   ]
  },
  {
   "cell_type": "code",
   "execution_count": 8,
   "id": "9b7a818c-8b0e-44d1-b513-87dae44b6052",
   "metadata": {},
   "outputs": [],
   "source": [
    "#A PRIMARY KEY GENERALLY FOCCUSES OF UNIQUENESS OF TABLE\n",
    "#IT ASSURES THAT VALUES IN PARTICULAR COLUMN IS UNIQUE\n",
    "#A FORIENG KEY IS USED TO GENERALLY BUIT RELATIONSHIP BETWEEN TWO TABLES"
   ]
  },
  {
   "cell_type": "markdown",
   "id": "10d384b5-e6fe-4bf4-bebd-daf395fbe889",
   "metadata": {},
   "source": [
    "Q6. Write a python code to connect MySQL to python. Explain the cursor() and execute() method."
   ]
  },
  {
   "cell_type": "code",
   "execution_count": 14,
   "id": "2eded69e-824e-459e-a121-561492307df6",
   "metadata": {},
   "outputs": [
    {
     "data": {
      "text/plain": [
       "'\\nimport mysql.connector\\nmydb = mysql.connector.connect(\\n  host=\"localhost\",\\n  user=\"abc\",\\n  password=\"password\"\\n)\\n'"
      ]
     },
     "execution_count": 14,
     "metadata": {},
     "output_type": "execute_result"
    }
   ],
   "source": [
    "\"\"\"\n",
    "import mysql.connector\n",
    "mydb = mysql.connector.connect(\n",
    "  host=\"localhost\",\n",
    "  user=\"abc\",\n",
    "  password=\"password\"\n",
    ")\n",
    "\"\"\"\n",
    "#THE ABOVE CODE TAKES HOST NAME AND PASSWORD AS INPUT AND CONNECTS PYTHON TO MYSQL\n",
    "#WITH THE CURSOR AND EXECUTE WE CAN OPERATE ON DATABASE IN MYSQL USING PYTHON\n",
    "#THIS METHOD EXECTES THE DATABASE OPERATION(QUERY OR COMMAND). \n",
    "#THE PARAMETERS FOUND IN FORM OF TUPLES AND DICTIONARY ARE BOUND TO VARIABLES IN OPERATION"
   ]
  },
  {
   "cell_type": "markdown",
   "id": "29951cf6-23ba-4e1e-8304-c2fd64d646ee",
   "metadata": {},
   "source": [
    "Q7. Give the order of execution of SQL clauses in an SQL query."
   ]
  },
  {
   "cell_type": "code",
   "execution_count": 16,
   "id": "db4d7b96-f863-4974-8be9-d3e626c1565e",
   "metadata": {},
   "outputs": [],
   "source": [
    "#THE ORDER IN WHICH QUEREY ARE EXCEUTED IS AS FOLOWS:\n",
    "\n",
    "#1.FROM/JOIN\n",
    "#2.WHERE\n",
    "#3.GROUP BY\n",
    "#4.HAVING\n",
    "#5.SELECT\n",
    "#6.ORDER BY\n",
    "#7.LINIT/OFFSET"
   ]
  },
  {
   "cell_type": "code",
   "execution_count": null,
   "id": "f65b07b9-ac06-4797-8a6b-45b1ca291c01",
   "metadata": {},
   "outputs": [],
   "source": []
  }
 ],
 "metadata": {
  "kernelspec": {
   "display_name": "Python 3 (ipykernel)",
   "language": "python",
   "name": "python3"
  },
  "language_info": {
   "codemirror_mode": {
    "name": "ipython",
    "version": 3
   },
   "file_extension": ".py",
   "mimetype": "text/x-python",
   "name": "python",
   "nbconvert_exporter": "python",
   "pygments_lexer": "ipython3",
   "version": "3.10.8"
  }
 },
 "nbformat": 4,
 "nbformat_minor": 5
}
